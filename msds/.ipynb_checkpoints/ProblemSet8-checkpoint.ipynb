{
 "cells": [
  {
   "cell_type": "code",
   "execution_count": 4,
   "id": "marked-theory",
   "metadata": {},
   "outputs": [],
   "source": [
    "from sympy import *\n",
    "from sympy.abc import *"
   ]
  },
  {
   "cell_type": "code",
   "execution_count": 3,
   "id": "correct-failure",
   "metadata": {},
   "outputs": [
    {
     "name": "stdout",
     "output_type": "stream",
     "text": [
      "-26\n",
      "-27\n",
      "-28\n",
      "-3\n"
     ]
    }
   ],
   "source": [
    "f = lambda x, y: 7*x - 6*y + 8\n",
    "print(f(-4, 1))\n",
    "print(f(-5, 0))\n",
    "print(f(0, 6))\n",
    "print(f(1, 3))"
   ]
  },
  {
   "cell_type": "code",
   "execution_count": 11,
   "id": "champion-steam",
   "metadata": {},
   "outputs": [
    {
     "data": {
      "text/latex": [
       "$\\displaystyle y \\log{\\left(5 x - 3 y \\right)}$"
      ],
      "text/plain": [
       "y*log(5*x - 3*y)"
      ]
     },
     "execution_count": 11,
     "metadata": {},
     "output_type": "execute_result"
    }
   ],
   "source": [
    "expr = y*ln(5*x - 3*y)\n",
    "expr"
   ]
  },
  {
   "cell_type": "code",
   "execution_count": 12,
   "id": "internal-coordinator",
   "metadata": {},
   "outputs": [
    {
     "data": {
      "text/latex": [
       "$\\displaystyle \\frac{5 y}{5 x - 3 y}$"
      ],
      "text/plain": [
       "5*y/(5*x - 3*y)"
      ]
     },
     "execution_count": 12,
     "metadata": {},
     "output_type": "execute_result"
    }
   ],
   "source": [
    "diff(expr, x)"
   ]
  },
  {
   "cell_type": "code",
   "execution_count": 13,
   "id": "informative-second",
   "metadata": {},
   "outputs": [
    {
     "data": {
      "text/latex": [
       "$\\displaystyle - \\frac{3 y}{5 x - 3 y} + \\log{\\left(5 x - 3 y \\right)}$"
      ],
      "text/plain": [
       "-3*y/(5*x - 3*y) + log(5*x - 3*y)"
      ]
     },
     "execution_count": 13,
     "metadata": {},
     "output_type": "execute_result"
    }
   ],
   "source": [
    "diff(expr, y)"
   ]
  }
 ],
 "metadata": {
  "kernelspec": {
   "display_name": "Python 3",
   "language": "python",
   "name": "python3"
  },
  "language_info": {
   "codemirror_mode": {
    "name": "ipython",
    "version": 3
   },
   "file_extension": ".py",
   "mimetype": "text/x-python",
   "name": "python",
   "nbconvert_exporter": "python",
   "pygments_lexer": "ipython3",
   "version": "3.9.1"
  }
 },
 "nbformat": 4,
 "nbformat_minor": 5
}
