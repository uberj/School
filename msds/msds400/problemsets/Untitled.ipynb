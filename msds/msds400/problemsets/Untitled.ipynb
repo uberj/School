{
 "cells": [
  {
   "cell_type": "code",
   "execution_count": 105,
   "id": "measured-marathon",
   "metadata": {},
   "outputs": [],
   "source": [
    "# Approximating functions\n",
    "from sympy import *\n",
    "from random import Random\n",
    "from math import copysign\n"
   ]
  },
  {
   "cell_type": "code",
   "execution_count": 215,
   "id": "sitting-mineral",
   "metadata": {},
   "outputs": [
    {
     "data": {
      "text/latex": [
       "$\\displaystyle \\frac{1}{e^{- \\frac{w_{f0}}{e^{- I_{0} w_{g0} - I_{1} w_{g1} - I_{2} w_{g2}} + 1} - \\frac{w_{f1}}{e^{- I_{0} w_{h0} - I_{1} w_{h1} - I_{2} w_{h2}} + 1}} + 1}$"
      ],
      "text/plain": [
       "1/(exp(-w_f0/(exp(-I_0*w_g0 - I_1*w_g1 - I_2*w_g2) + 1) - w_f1/(exp(-I_0*w_h0 - I_1*w_h1 - I_2*w_h2) + 1)) + 1)"
      ]
     },
     "execution_count": 215,
     "metadata": {},
     "output_type": "execute_result"
    }
   ],
   "source": [
    "r = Random(1)\n",
    "ri = lambda: r.randint(-10, 10)\n",
    "\n",
    "I_0, I_1, I_2, w_g0, w_g1, w_g2, w_h0, w_h1, w_h2, w_f0, w_f1, E = \\\n",
    "    symbols('I_0 I_1 I_2 w_g0 w_g1 w_g2 w_h0 w_h1 w_h2 w_f0 w_f1, E')\n",
    "\n",
    "G = 1/(1 + exp(-1 * (I_0*w_g0 + I_1*w_g1 + I_2*w_g2)))\n",
    "H = 1/(1 + exp(-1 * (I_0*w_h0 + I_1*w_h1 + I_2*w_h2)))\n",
    "F = 1/(1 + exp(-1* (G*w_f0 + H*w_f1)))\n",
    "F"
   ]
  },
  {
   "cell_type": "code",
   "execution_count": 216,
   "id": "working-poverty",
   "metadata": {},
   "outputs": [
    {
     "data": {
      "text/latex": [
       "$\\displaystyle I_{0} + 3 I_{1} + 7 I_{2}$"
      ],
      "text/plain": [
       "I_0 + 3*I_1 + 7*I_2"
      ]
     },
     "execution_count": 216,
     "metadata": {},
     "output_type": "execute_result"
    }
   ],
   "source": [
    "V = I_0 + 3*I_1 + 7*I_2\n",
    "V"
   ]
  },
  {
   "cell_type": "code",
   "execution_count": 217,
   "id": "interim-thermal",
   "metadata": {},
   "outputs": [
    {
     "data": {
      "text/latex": [
       "$\\displaystyle \\frac{1}{1 + e^{- \\frac{2}{1 + e^{84}} + \\frac{4}{1 + e^{64}}}}$"
      ],
      "text/plain": [
       "1/(1 + exp(-2/(1 + exp(84)) + 4/(1 + exp(64))))"
      ]
     },
     "execution_count": 217,
     "metadata": {},
     "output_type": "execute_result"
    }
   ],
   "source": [
    "Inputs = dict([\n",
    "    (I_0, ri()),(I_1, ri()),(I_2, ri())\n",
    "])\n",
    "weights = dict([ # Inputs\n",
    "    [w_g0, ri()],[w_g1, ri()],[w_g2, ri()], # g weights\n",
    "    [w_h0, ri()],[w_h1, ri()],[w_h2, ri()], # h weights\n",
    "    [w_f0, ri()],[w_f1, ri()], # f weights\n",
    "])\n",
    "F.subs(Inputs).subs(weights)"
   ]
  },
  {
   "cell_type": "code",
   "execution_count": 218,
   "id": "fabulous-running",
   "metadata": {},
   "outputs": [
    {
     "data": {
      "text/latex": [
       "$\\displaystyle -38$"
      ],
      "text/plain": [
       "-38"
      ]
     },
     "execution_count": 218,
     "metadata": {},
     "output_type": "execute_result"
    }
   ],
   "source": [
    "V.subs(Inputs)"
   ]
  },
  {
   "cell_type": "code",
   "execution_count": 222,
   "id": "speaking-ground",
   "metadata": {},
   "outputs": [
    {
     "data": {
      "text/latex": [
       "$\\displaystyle - I_{0} - 3 I_{1} - 7 I_{2} + \\frac{1}{e^{- \\frac{w_{f0}}{e^{- I_{0} w_{g0} - I_{1} w_{g1} - I_{2} w_{g2}} + 1} - \\frac{w_{f1}}{e^{- I_{0} w_{h0} - I_{1} w_{h1} - I_{2} w_{h2}} + 1}} + 1}$"
      ],
      "text/plain": [
       "-I_0 - 3*I_1 - 7*I_2 + 1/(exp(-w_f0/(exp(-I_0*w_g0 - I_1*w_g1 - I_2*w_g2) + 1) - w_f1/(exp(-I_0*w_h0 - I_1*w_h1 - I_2*w_h2) + 1)) + 1)"
      ]
     },
     "execution_count": 222,
     "metadata": {},
     "output_type": "execute_result"
    }
   ],
   "source": [
    "E = F - V\n",
    "E"
   ]
  },
  {
   "cell_type": "code",
   "execution_count": 223,
   "id": "ranging-spine",
   "metadata": {},
   "outputs": [
    {
     "data": {
      "text/latex": [
       "$\\displaystyle \\frac{1}{1 + e^{- \\frac{2}{1 + e^{84}} + \\frac{4}{1 + e^{64}}}} + 38$"
      ],
      "text/plain": [
       "1/(1 + exp(-2/(1 + exp(84)) + 4/(1 + exp(64)))) + 38"
      ]
     },
     "execution_count": 223,
     "metadata": {},
     "output_type": "execute_result"
    }
   ],
   "source": [
    "E.subs(Inputs).subs(weights)"
   ]
  },
  {
   "cell_type": "code",
   "execution_count": 224,
   "id": "floral-spirituality",
   "metadata": {},
   "outputs": [
    {
     "data": {
      "text/plain": [
       "-9.917101880282202e-37"
      ]
     },
     "execution_count": 224,
     "metadata": {},
     "output_type": "execute_result"
    }
   ],
   "source": [
    "float(E.diff(w_g0).subs(Inputs).subs(weights))"
   ]
  },
  {
   "cell_type": "code",
   "execution_count": 225,
   "id": "hired-shark",
   "metadata": {},
   "outputs": [
    {
     "data": {
      "text/plain": [
       "{w_g0: -2, w_g1: -7, w_g2: 5, w_h0: 4, w_h1: 5, w_h2: 10, w_f0: 2, w_f1: -4}"
      ]
     },
     "execution_count": 225,
     "metadata": {},
     "output_type": "execute_result"
    }
   ],
   "source": [
    "weights"
   ]
  },
  {
   "cell_type": "code",
   "execution_count": 231,
   "id": "analyzed-patent",
   "metadata": {},
   "outputs": [
    {
     "name": "stdout",
     "output_type": "stream",
     "text": [
      "Start error -38.0\n",
      "Step error -38.0\n",
      "adjust: -9.917101880282202e-27\n",
      "w_g0: -2 -> -2.0\n",
      "adjust: 1.3222802507042936e-26\n",
      "w_g1: -7 -> -7.0\n",
      "adjust: -1.3222802507042936e-26\n",
      "w_g2: 5 -> 5.0\n",
      "adjust: 9.622865343291826e-18\n",
      "w_h0: 4 -> 4.0\n",
      "adjust: -1.2830487124389103e-17\n",
      "w_h1: 5 -> 5.0\n",
      "adjust: 1.2830487124389103e-17\n",
      "w_h2: 10 -> 10.0\n",
      "adjust: 8.264251566901835e-28\n",
      "w_f0: 2 -> 2.0\n",
      "adjust: 4.009527226371595e-19\n",
      "w_f1: -4 -> -4.0\n",
      "Step error -38.0\n",
      "adjust: -9.917101880282202e-27\n",
      "w_g0: -2.0 -> -2.0\n",
      "adjust: 1.322280250704294e-26\n",
      "w_g1: -7.0 -> -7.0\n",
      "adjust: -1.322280250704294e-26\n",
      "w_g2: 5.0 -> 5.0\n",
      "adjust: 9.622865343291823e-18\n",
      "w_h0: 4.0 -> 4.0\n",
      "adjust: -1.28304871243891e-17\n",
      "w_h1: 5.0 -> 5.0\n",
      "adjust: 1.28304871243891e-17\n",
      "w_h2: 10.0 -> 10.0\n",
      "adjust: 8.264251566901837e-28\n",
      "w_f0: 2.0 -> 2.0\n",
      "adjust: 4.0095272263715953e-19\n",
      "w_f1: -4.0 -> -4.0\n",
      "Final error -38.0\n"
     ]
    }
   ],
   "source": [
    "weights_ = weights.copy()\n",
    "calc_E = lambda: float(F.subs(weights_).subs(Inputs) - E.subs(weights_).subs(Inputs))\n",
    "print(f\"Start error {float(calc_E())}\")\n",
    "info = True\n",
    "for i in range(2):\n",
    "    adjusted_weights = []\n",
    "    alpha = 10**10\n",
    "    error = calc_E()\n",
    "    info and print(f\"Step error {float(calc_E())}\")\n",
    "    for i, w in enumerate(map(list, weights_.items())):\n",
    "        adjust = alpha * E.diff(w[0]).subs(weights_).subs(Inputs)\n",
    "        info and print(f\"adjust: {float(adjust)}\")\n",
    "        w_ = w[1] - float(adjust)\n",
    "        info and print(f\"{w[0]}: {w[1]} -> {w_}\")\n",
    "        w[1] = w_\n",
    "        adjusted_weights.append(w)\n",
    "    weights_ = dict(adjusted_weights)\n",
    "print(f\"Final error {calc_E()}\")"
   ]
  },
  {
   "cell_type": "code",
   "execution_count": 150,
   "id": "neutral-oasis",
   "metadata": {},
   "outputs": [
    {
     "name": "stdout",
     "output_type": "stream",
     "text": [
      "initial error is -794.0\n",
      "final error is -0.1400000000022601\n"
     ]
    }
   ],
   "source": [
    "\n",
    "m = 1/2\n",
    "b = 1\n",
    "a = (10, 800)\n",
    "e = (m*a[0] + b) - a[1]\n",
    "alpha = 0.01\n",
    "print(f\"initial error is {e}\")\n",
    "info = False\n",
    "for i in range(100000):\n",
    "    info and print(f\"--------------- {i}\")\n",
    "    e = (m*a[0] + b) - a[1]\n",
    "    #print(f\"Error is {e}\")\n",
    "    m_ = m - copysign(alpha * a[0], e)\n",
    "    b_ = b - copysign(alpha * 1, e)\n",
    "    info and print(f\"updating m ({m}) -> ({m_})\")\n",
    "    info and print(f\"updating b ({b}) -> ({b_})\")\n",
    "    m = m_\n",
    "    b = b_\n",
    "print(f\"final error is {(m*a[0] + b) - a[1]}\")\n"
   ]
  },
  {
   "cell_type": "code",
   "execution_count": 2,
   "id": "sublime-underwear",
   "metadata": {},
   "outputs": [
    {
     "name": "stdout",
     "output_type": "stream",
     "text": [
      "Intersectiion is (a/(a**2 - b**2), -b/(a**2 - b**2)) \n"
     ]
    }
   ],
   "source": [
    "import sympy as sym\n",
    "# Use sympy package to display the equation\n",
    "sym.init_printing()\n",
    "#sym.solve()\n",
    "a,b,c,d = sym.symbols('a,b,c,d')\n",
    "\n",
    "solns = sym.solve([\n",
    "    b*d + a*c - 1, \n",
    "    b*c + a*d ],\n",
    "    [c, d])\n",
    "print(f\"Intersectiion is ({solns[c]}, {solns[d]}) \")"
   ]
  },
  {
   "cell_type": "code",
   "execution_count": 29,
   "id": "humanitarian-montreal",
   "metadata": {},
   "outputs": [
    {
     "data": {
      "image/png": "[encoded data removed]",
      "text/latex": [
       "$\\displaystyle \\left[ \\left( b, \\  c, \\  d, \\  e, \\  6\\right), \\  \\left( \\left(x - 6\\right) \\left(c - d x + 6 d + e x^{2} - 12 e x + 36 e\\right), \\  c, \\  d, \\  e, \\  x\\right)\\right]$"
      ],
      "text/plain": [
       "⎡                 ⎛        ⎛                   2                ⎞            ⎞\n",
       "⎣(b, c, d, e, 6), ⎝(x - 6)⋅⎝c - d⋅x + 6⋅d + e⋅x  - 12⋅e⋅x + 36⋅e⎠, c, d, e, x⎠\n",
       "\n",
       "⎤\n",
       "⎦"
      ]
     },
     "execution_count": 29,
     "metadata": {},
     "output_type": "execute_result"
    }
   ],
   "source": [
    "import sympy as sym\n",
    "# Use sympy package to display the equation\n",
    "sym.init_printing()\n",
    "#sym.solve()\n",
    "a,b,c,d,e,x = sym.symbols('a,b,c,d,e,x')\n",
    "\n",
    "solns = sym.solve([\n",
    "    b*(6-x) + c*(6-x)**2 + d*(6-x)**3 + e*(6-x)**4,\n",
    "],\n",
    "    [b,c,d,e,x])\n",
    "solns"
   ]
  },
  {
   "cell_type": "code",
   "execution_count": 28,
   "id": "confidential-involvement",
   "metadata": {},
   "outputs": [
    {
     "data": {
      "image/png": "[encoded data removed]",
      "text/latex": [
       "$\\displaystyle 6 b + 36 c + 216 d + e x^{4} + 1296 e + x^{3} \\left(- d - 24 e\\right) + x^{2} \\left(c + 18 d + 216 e\\right) + x \\left(- b - 12 c - 108 d - 864 e\\right)$"
      ],
      "text/plain": [
       "                        4             3                2                      \n",
       "6⋅b + 36⋅c + 216⋅d + e⋅x  + 1296⋅e + x ⋅(-d - 24⋅e) + x ⋅(c + 18⋅d + 216⋅e) + \n",
       "\n",
       "                             \n",
       "x⋅(-b - 12⋅c - 108⋅d - 864⋅e)"
      ]
     },
     "execution_count": 28,
     "metadata": {},
     "output_type": "execute_result"
    }
   ],
   "source": [
    "from sympy import *\n",
    "collect(expand(b*(6-x) + c*(6-x)**2 + d*(6-x)**3 + e*(6-x)**4), x)\n",
    "0=𝑒+𝑑61+𝑐62+𝑏63+𝑎64\n",
    "𝑒=−𝑑61−𝑐62−𝑏63−𝑎64"
   ]
  },
  {
   "cell_type": "code",
   "execution_count": 50,
   "id": "marked-coupon",
   "metadata": {},
   "outputs": [
    {
     "data": {
      "image/png": "[encoded data removed]",
      "text/latex": [
       "$\\displaystyle b x - 6 b + c x^{2} - 36 c + d x^{3} - 216 d - x^{4} \\left(6 b + 36 c + 216 d\\right)$"
      ],
      "text/plain": [
       "               2             3            4                     \n",
       "b⋅x - 6⋅b + c⋅x  - 36⋅c + d⋅x  - 216⋅d - x ⋅(6⋅b + 36⋅c + 216⋅d)"
      ]
     },
     "execution_count": 50,
     "metadata": {},
     "output_type": "execute_result"
    }
   ],
   "source": [
    "e = -b * 6 - c * pow(6, 2) - d * pow(6, 3)\n",
    "p = e + b*x + c*x**2 + d*x**3 + e*x**4\n",
    "factor(p, x)"
   ]
  }
 ],
 "metadata": {
  "kernelspec": {
   "display_name": "Python 3",
   "language": "python",
   "name": "python3"
  },
  "language_info": {
   "codemirror_mode": {
    "name": "ipython",
    "version": 3
   },
   "file_extension": ".py",
   "mimetype": "text/x-python",
   "name": "python",
   "nbconvert_exporter": "python",
   "pygments_lexer": "ipython3",
   "version": "3.9.1"
  }
 },
 "nbformat": 4,
 "nbformat_minor": 5
}
