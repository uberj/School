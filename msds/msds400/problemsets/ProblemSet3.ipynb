{
 "cells": [
  {
   "cell_type": "code",
   "execution_count": 2,
   "id": "approximate-pollution",
   "metadata": {},
   "outputs": [
    {
     "name": "stdout",
     "output_type": "stream",
     "text": [
      "A: 125.0\n",
      "B: 50.0\n",
      "C: 0.0\n",
      "optimum: 825.0\n"
     ]
    }
   ],
   "source": [
    "# Lecture problem\n",
    "from pulp import LpVariable, LpProblem, LpMaximize, LpMinimize, LpStatus, value\n",
    "\n",
    "# Declare variables\n",
    "A = LpVariable('A', 0, None) # x >= 0\n",
    "B = LpVariable('B', 0, None) # y >= 0\n",
    "C = LpVariable('C', 0, None) # y >= 0\n",
    "\n",
    "# define the problem\n",
    "prob = LpProblem(\"problem\", LpMaximize)\n",
    "\n",
    "# defines the constraints\n",
    "\n",
    "prob += 2*A + 3*B + C <= 400\n",
    "prob += 4 * A + 2*B + 3*C <=600\n",
    "\n",
    "# defines the objective function to minimize\n",
    "prob += 5*A + 4*B + 3*C\n",
    "\n",
    "# solve the problem\n",
    "status = prob.solve()\n",
    "LpStatus[status]\n",
    "\n",
    "for var in [A, B, C]:\n",
    "    print(f\"{var}: {value(var)}\")\n",
    "print(f\"optimum: {5*value(A) + 4*value(B) + 3*value(C)}\")"
   ]
  },
  {
   "cell_type": "code",
   "execution_count": 4,
   "id": "described-yukon",
   "metadata": {},
   "outputs": [
    {
     "name": "stdout",
     "output_type": "stream",
     "text": [
      "x: 40.0\n",
      "y: 144.0\n",
      "optimum: 208.88\n"
     ]
    }
   ],
   "source": [
    "# Lecture problem\n",
    "# Declare variables\n",
    "y1 = LpVariable('y1', 0, None) # x >= 0\n",
    "y2 = LpVariable('y2', 0, None) # y >= 0\n",
    "\n",
    "# define the problem\n",
    "prob = LpProblem(\"problem\", LpMaximize)\n",
    "\n",
    "# defines the constraints\n",
    "\n",
    "prob += 3*y1 + 4*y2 >= 10\n",
    "prob += 9*y1 + 7*y2 <= 18\n",
    "\n",
    "# defines the objective function to maximize\n",
    "# If its a mix constraint, negate the objective\n",
    "prob += -6*y1 + -4*y2\n",
    "\n",
    "# solve the problem\n",
    "status = prob.solve()\n",
    "LpStatus[status]\n",
    "\n",
    "for var in [y1, y2]:\n",
    "    print(f\"{var}: {value(var)}\")\n",
    "print(f\"optimum: {6*value(y1) + 4*value(y2)}\")"
   ]
  },
  {
   "cell_type": "code",
   "execution_count": null,
   "id": "promising-rings",
   "metadata": {},
   "outputs": [],
   "source": [
    "# Problem 2\n",
    "\n",
    "# Declare variables\n",
    "x = LpVariable('x', 0, None) # x >= 0\n",
    "y = LpVariable('y', 0, None) # y >= 0\n",
    "\n",
    "# define the problem\n",
    "prob = LpProblem(\"problem\", LpMaximize)\n",
    "\n",
    "# defines the constraints\n",
    "\n",
    "prob += x >= 12\n",
    "prob += x <= 52\n",
    "prob += y >= 116\n",
    "prob += y <= 144\n",
    "prob += 9*x + 4*y <= 936\n",
    "\n",
    "# defines the objective function to minimize\n",
    "prob += 1.55*x + 1.02*y\n",
    "\n",
    "# solve the problem\n",
    "status = prob.solve()\n",
    "LpStatus[status]\n",
    "\n",
    "for var in [x, y]:\n",
    "    print(f\"{var}: {value(var)}\")\n",
    "print(f\"optimum: {1.55*value(x) + 1.02*value(y)}\")"
   ]
  },
  {
   "cell_type": "code",
   "execution_count": 38,
   "id": "worth-supplier",
   "metadata": {},
   "outputs": [
    {
     "name": "stdout",
     "output_type": "stream",
     "text": [
      "n: 19.0\n",
      "r: 23.789474\n",
      "optimum: 272686.8443\n",
      "cost: 15770.0\n"
     ]
    }
   ],
   "source": [
    "# Problem 10\n",
    "import math\n",
    "# Declare variables\n",
    "n = LpVariable('n', 0, None) # x >= 0\n",
    "r = LpVariable('r', 0, None) # y >= 0\n",
    "\n",
    "# define the problem\n",
    "prob = LpProblem(\"problem\", LpMaximize)\n",
    "\n",
    "# defines the constraints\n",
    "\n",
    "prob += n <= 19\n",
    "prob += r <= 31\n",
    "prob += n*110 + r*570 <= 15650\n",
    "\n",
    "# defines the objective function to minimize\n",
    "prob += 5650*n + 6950*r\n",
    "\n",
    "# solve the problem\n",
    "status = prob.solve()\n",
    "LpStatus[status]\n",
    "\n",
    "for var in [n, r]:\n",
    "    print(f\"{var}: {value(var)}\")\n",
    "print(f\"optimum: {5650*value(n) + 6950*value(r)}\")\n",
    "print(f\"cost: {value(n)*110 + math.ceil(value(r))*570}\")"
   ]
  },
  {
   "cell_type": "code",
   "execution_count": 41,
   "id": "overhead-showcase",
   "metadata": {},
   "outputs": [
    {
     "data": {
      "text/plain": [
       "274150"
      ]
     },
     "execution_count": 41,
     "metadata": {},
     "output_type": "execute_result"
    }
   ],
   "source": [
    "# Round down to stay under budget\n",
    "5650*value(19) + 6950*value(24)"
   ]
  },
  {
   "cell_type": "code",
   "execution_count": 8,
   "id": "southern-volume",
   "metadata": {},
   "outputs": [
    {
     "data": {
      "text/plain": [
       "16080"
      ]
     },
     "execution_count": 8,
     "metadata": {},
     "output_type": "execute_result"
    }
   ],
   "source": [
    "# Apparently, this is the write answer, but its greater than 16070\n",
    "150*24 + 480*26"
   ]
  },
  {
   "cell_type": "code",
   "execution_count": 13,
   "id": "stock-money",
   "metadata": {},
   "outputs": [
    {
     "data": {
      "text/plain": [
       "283450"
      ]
     },
     "execution_count": 13,
     "metadata": {},
     "output_type": "execute_result"
    }
   ],
   "source": [
    "5300*24 + 6250*25"
   ]
  },
  {
   "cell_type": "code",
   "execution_count": 15,
   "id": "cordless-function",
   "metadata": {},
   "outputs": [
    {
     "name": "stdout",
     "output_type": "stream",
     "text": [
      "A: 134.0\n",
      "B: 0.0\n",
      "C: 544.0\n",
      "optimum: 11542.0\n"
     ]
    }
   ],
   "source": [
    "# Problem 11\n",
    "\n",
    "# Declare variables\n",
    "A = LpVariable('A', 0, None) # x >= 0\n",
    "B = LpVariable('B', 0, None) # y >= 0\n",
    "C = LpVariable('C', 0, None) # y >= 0\n",
    "\n",
    "# define the problem\n",
    "prob = LpProblem(\"problem\", LpMaximize)\n",
    "\n",
    "# defines the constraints\n",
    "\n",
    "prob += 3*A + 6*B + 7*C <= 4210\n",
    "prob += 10*A + 10*B + 15*C <= 9500\n",
    "\n",
    "# defines the objective function to minimize\n",
    "prob += 9*A + 15*B + 19*C\n",
    "\n",
    "# solve the problem\n",
    "status = prob.solve()\n",
    "LpStatus[status]\n",
    "\n",
    "for var in [A, B, C]:\n",
    "    print(f\"{var}: {value(var)}\")\n",
    "print(f\"optimum: {9*value(A) + 15*value(B) + 19*value(C)}\")"
   ]
  },
  {
   "cell_type": "code",
   "execution_count": 16,
   "id": "engaged-madrid",
   "metadata": {},
   "outputs": [
    {
     "name": "stdout",
     "output_type": "stream",
     "text": [
      "m: 7.0\n",
      "b: 5.0\n",
      "optimum: 1690.0\n"
     ]
    }
   ],
   "source": [
    "# Problem 12\n",
    "\n",
    "# Declare variables\n",
    "m = LpVariable('m', 0, None) # x >= 0\n",
    "b = LpVariable('b', 0, None) # y >= 0\n",
    "\n",
    "# define the problem\n",
    "prob = LpProblem(\"problem\", LpMaximize)\n",
    "\n",
    "# defines the constraints\n",
    "\n",
    "prob += 4*m + 2*b <= 38\n",
    "prob += 3*m + 3*b <= 36\n",
    "\n",
    "# defines the objective function to minimize\n",
    "prob += 170*m + 100*b\n",
    "\n",
    "# solve the problem\n",
    "status = prob.solve()\n",
    "LpStatus[status]\n",
    "\n",
    "for var in [m, b]:\n",
    "    print(f\"{var}: {value(var)}\")\n",
    "print(f\"optimum: {170*value(m) + 100*value(b)}\")"
   ]
  },
  {
   "cell_type": "code",
   "execution_count": 17,
   "id": "rational-trunk",
   "metadata": {},
   "outputs": [
    {
     "name": "stdout",
     "output_type": "stream",
     "text": [
      "p: 13.0\n",
      "r: 0.0\n",
      "optimum: 5070.0\n"
     ]
    }
   ],
   "source": [
    "# Problem 13\n",
    "# Declare variables\n",
    "p = LpVariable('p', 0, None) # x >= 0\n",
    "r = LpVariable('r', 0, None) # y >= 0\n",
    "\n",
    "# define the problem\n",
    "prob = LpProblem(\"problem\", LpMinimize)\n",
    "\n",
    "# defines the constraints\n",
    "\n",
    "prob += p + r >= 13\n",
    "prob += r <= 23\n",
    "prob += p <= 13\n",
    "prob += p >= 9\n",
    "\n",
    "# defines the objective function to minimize\n",
    "prob += p*390 + r*430\n",
    "\n",
    "# solve the problem\n",
    "status = prob.solve()\n",
    "LpStatus[status]\n",
    "\n",
    "for var in [p, r]:\n",
    "    print(f\"{var}: {value(var)}\")\n",
    "print(f\"optimum: {390*value(p) + 430*value(r)}\")"
   ]
  },
  {
   "cell_type": "code",
   "execution_count": 22,
   "id": "collect-parks",
   "metadata": {},
   "outputs": [
    {
     "name": "stdout",
     "output_type": "stream",
     "text": [
      "d: 41.0\n",
      "v: 30.0\n",
      "optimum: 25.67\n"
     ]
    }
   ],
   "source": [
    "# Problem 14\n",
    "d = LpVariable('d', 0, None) # x >= 0\n",
    "v = LpVariable('v', 0, None) # y >= 0\n",
    "\n",
    "# define the problem\n",
    "prob = LpProblem(\"problem\", LpMinimize)\n",
    "\n",
    "# defines the constraints\n",
    "\n",
    "prob += d*50 + v*20 >= 2650\n",
    "prob += d*30 + v*30 >= 2130\n",
    "prob += d*40 + v*50 >= 3140\n",
    "\n",
    "# defines the objective function to minimize\n",
    "prob += d*0.37 + v*0.35\n",
    "\n",
    "# solve the problem\n",
    "status = prob.solve()\n",
    "LpStatus[status]\n",
    "\n",
    "for var in [d, v]:\n",
    "    print(f\"{var}: {value(var)}\")\n",
    "print(f\"optimum: {value(d)*0.37 + value(v)*0.35}\")"
   ]
  },
  {
   "cell_type": "code",
   "execution_count": 27,
   "id": "measured-excerpt",
   "metadata": {},
   "outputs": [
    {
     "name": "stdout",
     "output_type": "stream",
     "text": [
      "b: 1200.0\n",
      "r: 2880.0\n",
      "u: 1920.0\n",
      "optimum: 698.4\n"
     ]
    }
   ],
   "source": [
    "# Problem 15\n",
    "b = LpVariable('b', 0, None) # x >= 0\n",
    "r = LpVariable('r', 0, None) # y >= 0\n",
    "u = LpVariable('u', 0, None) # y >= 0\n",
    "\n",
    "# define the problem\n",
    "prob = LpProblem(\"problem\", LpMinimize)\n",
    "\n",
    "# defines the constraints\n",
    "\n",
    "prob += b + r + u >= 6000\n",
    "prob += b >= 0.2*(r + u + b)\n",
    "prob += u <= (2.0/3)*r\n",
    "\n",
    "# defines the objective function to minimize\n",
    "prob += 0.15*b + 0.16*r + 0.03*u\n",
    "\n",
    "# solve the problem\n",
    "status = prob.solve()\n",
    "LpStatus[status]\n",
    "\n",
    "for var in [b, r, u]:\n",
    "    print(f\"{var}: {value(var)}\")\n",
    "print(f\"optimum: {0.15*value(b) + 0.16*value(r) + 0.03*value(u)}\")"
   ]
  },
  {
   "cell_type": "code",
   "execution_count": 28,
   "id": "comparable-funds",
   "metadata": {},
   "outputs": [
    {
     "data": {
      "text/plain": [
       "5.4"
      ]
     },
     "execution_count": 28,
     "metadata": {},
     "output_type": "execute_result"
    }
   ],
   "source": [
    "27/5"
   ]
  },
  {
   "cell_type": "code",
   "execution_count": 29,
   "id": "wicked-surrey",
   "metadata": {},
   "outputs": [
    {
     "data": {
      "text/plain": [
       "4.166666666666667"
      ]
     },
     "execution_count": 29,
     "metadata": {},
     "output_type": "execute_result"
    }
   ],
   "source": [
    "50/12"
   ]
  },
  {
   "cell_type": "code",
   "execution_count": 53,
   "id": "decreased-testimony",
   "metadata": {},
   "outputs": [
    {
     "name": "stdout",
     "output_type": "stream",
     "text": [
      "t1: 2857.1429 (rounded up 2858)\n",
      "t2: 190.47619 (rounded up 191)\n",
      "t3: 952.38095 (rounded up 953)\n",
      "Total data points: 4002\n",
      "Minimized cost per person: $137.21\n"
     ]
    }
   ],
   "source": [
    "# Discussion Problem\n",
    "t1 = LpVariable('t1', 0, None) # x >= 0\n",
    "t2 = LpVariable('t2', 0, None) # y >= 0\n",
    "t3 = LpVariable('t3', 0, None) # y >= 0\n",
    "\n",
    "# define the problem\n",
    "prob = LpProblem(\"problem\", LpMinimize)\n",
    "\n",
    "# defines the constraints\n",
    "prob += t1 + t2 + t3 >= 4000\n",
    "prob += t1 >= 0.5*(t1 + t2 + t3)\n",
    "prob += t2 <= (1/5)*t3\n",
    "prob += t3 >= (1/3)*t1\n",
    "\n",
    "# defines the objective function to minimize\n",
    "cost = lambda t1, t2, t3: 0.03*t1 + 0.02*t2 + 0.05*t3\n",
    "prob += cost(t1, t2, t3)\n",
    "\n",
    "# solve the problem\n",
    "status = prob.solve()\n",
    "LpStatus[status]\n",
    "\n",
    "types = [t1, t2, t3]\n",
    "for var in types:\n",
    "    print(f\"{var}: {value(var)} (rounded up {math.ceil(value(var))})\")\n",
    "print(f\"Total data points: {sum(map(math.ceil, map(value, types)))}\")\n",
    "print(f\"Minimized cost per person: ${round(cost(*map(math.ceil, map(value, types))), 2)}\")"
   ]
  }
 ],
 "metadata": {
  "kernelspec": {
   "display_name": "Python 3",
   "language": "python",
   "name": "python3"
  },
  "language_info": {
   "codemirror_mode": {
    "name": "ipython",
    "version": 3
   },
   "file_extension": ".py",
   "mimetype": "text/x-python",
   "name": "python",
   "nbconvert_exporter": "python",
   "pygments_lexer": "ipython3",
   "version": "3.7.6"
  }
 },
 "nbformat": 4,
 "nbformat_minor": 5
}
