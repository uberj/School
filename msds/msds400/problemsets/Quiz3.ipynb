{
 "cells": [
  {
   "cell_type": "code",
   "execution_count": 42,
   "id": "disturbed-montgomery",
   "metadata": {},
   "outputs": [],
   "source": [
    "# Practice problem from sync session 9\n",
    "from sympy import *\n",
    "from sympy.abc import *\n",
    "from sympy.solvers import solve\n",
    "import math\n",
    "\n",
    "def full_simplify(expr):\n",
    "    cur = expr\n",
    "    while True:\n",
    "        nxt = simplify(cur)\n",
    "        if cur == nxt:\n",
    "            return cur\n",
    "        cur = nxt\n",
    "        \n",
    "def analyze_function(f, x, interval=[]):\n",
    "    init_printing()\n",
    "    d_f = diff(f, x, 1)\n",
    "    critical_numbers = solve(d_f, x)\n",
    "    print(f\"------ Analysis for: {f} ------\")\n",
    "    print(f\"limit as x approaches inf is: {limit(f, x, oo)}\")\n",
    "    print(f\"limit as x approaches 0 is: {limit(f, x, 0)}\")\n",
    "    max_point = (None, -2**64)\n",
    "    min_point = (None, 2**64)\n",
    "    for cn in critical_numbers:\n",
    "        if interval and cn > max(interval):\n",
    "            continue\n",
    "        if interval and cn < min(interval):\n",
    "            continue\n",
    "        point = (cn, f.subs(x, cn))\n",
    "        max_point = max(max_point, point, key=lambda p: p[1])\n",
    "        min_point = min(min_point, point, key=lambda p: p[1])\n",
    "        print(f\"Critical number {tuple(map(float, point))}\")\n",
    "   \n",
    "    print(\"Interval ends are:\")\n",
    "    for n in interval:\n",
    "        point = (n, (f.subs(x, n) if n is not oo else n))\n",
    "        print(f\"{point}\")\n",
    "        max_point = max(max_point, point, key=lambda p: p[1])\n",
    "        min_point = min(min_point, point, key=lambda p: p[1])\n",
    "\n",
    "    if max_point[0] != None or min_point[0] != None:\n",
    "        print(\"Max/Min Points:\")\n",
    "        max_point[0] != None and print(f\"Max point: {tuple(map(float, max_point))}\")\n",
    "        min_point[0] != None and print(f\"Min point: {tuple(map(float, min_point))}\")\n",
    "    return full_simplify(f), full_simplify(d_f)\n",
    "\n",
    "def second_derivative_test(f, x, y):\n",
    "    f_x = f.diff(x)\n",
    "    f_y = f.diff(y)\n",
    "    f_xx = f.diff(x, 2)\n",
    "    f_yy = f.diff(y, 2)\n",
    "    f_xy = f.diff(x).diff(y)\n",
    "    \n",
    "    cps = solve([f_x, f_y])\n",
    "    critical_points = cps if type(cps) == list else [cps]\n",
    "    minimums = []\n",
    "    maximums = []\n",
    "    non_ms = []\n",
    "    print(\"Critical numbers:\")\n",
    "    for cp in critical_points:\n",
    "        print(cp)\n",
    "        if not cp[x].is_real or not cp[y].is_real:\n",
    "            continue\n",
    "        D = f_xx.subs(x, cp[x]).subs(y, cp[y]) * \\\n",
    "            f_yy.subs(x, cp[x]).subs(y, cp[y]) - \\\n",
    "            pow(f_xy.subs(x, cp[x]).subs(y, cp[y]), 2)\n",
    "        if D > 0 and f_xx.subs(x, cp[x]).subs(y, cp[y]) > 0:\n",
    "            minimums.append((cp, f.subs(x, cp[x]).subs(y, cp[y]), D))\n",
    "        elif D > 0 and f_xx.subs(x, cp[x]).subs(y, cp[y]) < 0:\n",
    "            maximums.append((cp, f.subs(x, cp[x]).subs(y, cp[y]),D))\n",
    "        elif D < 0:\n",
    "            non_ms.append((cp, f.subs(x, cp[x]).subs(y, cp[y]),D))\n",
    "    \n",
    "    print(f\"Minimums:\")\n",
    "    for m in sorted(minimums, key=lambda m: m[1]):\n",
    "        print(f\"f({m[0]}) = {m[1]}\")   \n",
    "    print(f\"Maximums:\")\n",
    "    for m in reversed(sorted(maximums, key=lambda m: m[1])):\n",
    "        print(f\"f({m[0]}) = {m[1]}\") \n",
    "        \n",
    "    print(f\"Saddle points:\")\n",
    "    for m in sorted(non_ms, key=lambda m: m[1]):\n",
    "        print(f\"f({m[0]}) = {m[1]}\")          \n",
    "\n",
    "def lagrange_optimize(f, g, vs):\n",
    "    lam = Symbol('lam')\n",
    "    eqs = [g]\n",
    "    for v in vs:\n",
    "        eqs.append(f.diff(v) - lam * g.diff(v))\n",
    "    sls = solve(eqs)\n",
    "    solutions = sls if type(sls) == list else [sls]\n",
    "    print(\"Solutions:\")\n",
    "    for s in solutions:\n",
    "        real_values = list(filter(lambda k: k.is_real, map(lambda u: s[u], vs)))\n",
    "        if len(real_values) != len(vs):\n",
    "            continue\n",
    "        print(\"f(\", end='')\n",
    "        params = ''\n",
    "        for v in vs:\n",
    "            params += f\"{s[v]},\"\n",
    "        print(params.strip(','), end='')\n",
    "        print(\") = \", end='')\n",
    "\n",
    "        point = f\n",
    "        for v in vs:\n",
    "            point = point.subs(v, s[v])\n",
    "        print(point)\n",
    "        \n",
    "# equation for a tagent plane\n",
    "# z = f(a, b) + f_x(a, b)(x - a) + f_y(a, b)(y - b)\n",
    "def tangent_plane(f, point, x, y):\n",
    "    return f.subs(point) + \\\n",
    "            f.diff(x).subs(point) * (x - point[0][1]) + \\\n",
    "            f.diff(y).subs(point)* (y - point[1][1])\n",
    "\n",
    "# total differntial dz = f_x(x, y) * dx + f_y(x, y) * dy\n",
    "def approx(f, known_point, unknown_point):\n",
    "    (x, x_val), (y, y_val) = known_point[0], known_point[1]\n",
    "    dx = unknown_point[0][1] - x_val\n",
    "    dy = unknown_point[1][1] - y_val\n",
    "    dz = f.diff(x).subs(x, x_val).subs(y, y_val) * dx \\\n",
    "        + f.diff(y).subs(x, x_val).subs(y, y_val) * dy\n",
    "    \n",
    "    return f.subs(dict(known_point)) + dz, dz\n"
   ]
  },
  {
   "cell_type": "code",
   "execution_count": 46,
   "id": "swedish-specialist",
   "metadata": {},
   "outputs": [
    {
     "name": "stdout",
     "output_type": "stream",
     "text": [
      "------ Analysis for: -0.015*x**2 + 1.22*x - 7.5 ------\n",
      "Critical numbers:\n",
      "(40.666666666666664, 17.306666666666665)\n",
      "Interval ends are:\n",
      "(30, 15.6000000000000)\n",
      "(60, 11.7000000000000)\n",
      "Max/Min Points:\n",
      "Max point: (40.666666666666664, 17.306666666666665)\n",
      "Min point: (60.0, 11.700000000000003)\n"
     ]
    },
    {
     "data": {
      "image/png": "[encoded data removed]",
      "text/latex": [
       "$\\displaystyle - 0.015 x^{2} + 1.22 x - 7.5$"
      ],
      "text/plain": [
       "         2               \n",
       "- 0.015⋅x  + 1.22⋅x - 7.5"
      ]
     },
     "execution_count": 46,
     "metadata": {},
     "output_type": "execute_result"
    }
   ],
   "source": [
    "def analyze_function(f, x, interval=[]):\n",
    "    init_printing()\n",
    "    d_f = diff(f, x, 1)\n",
    "    critical_numbers = solve(d_f, x)\n",
    "    print(f\"------ Analysis for: {f} ------\")\n",
    "    max_point = (None, -2**64)\n",
    "    min_point = (None, 2**64)\n",
    "    print(\"Critical numbers:\")\n",
    "    for cn in critical_numbers:\n",
    "        if interval and cn > max(interval):\n",
    "            continue\n",
    "        if interval and cn < min(interval):\n",
    "            continue\n",
    "        point = (cn, f.subs(x, cn))\n",
    "        max_point = max(max_point, point, key=lambda p: p[1])\n",
    "        min_point = min(min_point, point, key=lambda p: p[1])\n",
    "        print(f\"{tuple(map(float, point))}\")\n",
    "   \n",
    "    print(\"Interval ends are:\")\n",
    "    for n in interval:\n",
    "        point = (n, (f.subs(x, n) if n is not oo else n))\n",
    "        print(f\"{point}\")\n",
    "        max_point = max(max_point, point, key=lambda p: p[1])\n",
    "        min_point = min(min_point, point, key=lambda p: p[1])\n",
    "\n",
    "    if max_point[0] != None or min_point[0] != None:\n",
    "        print(\"Max/Min Points:\")\n",
    "        max_point[0] != None and print(f\"Max point: {tuple(map(float, max_point))}\")\n",
    "        min_point[0] != None and print(f\"Min point: {tuple(map(float, min_point))}\")\n",
    "    return full_simplify(f), full_simplify(d_f)\n",
    "\n",
    "\n",
    "S = -0.015*pow(x, 2) + 1.22*x - 7.5\n",
    "analyze_function(S, x, [30, 60])\n",
    "S"
   ]
  },
  {
   "cell_type": "code",
   "execution_count": 10,
   "id": "moral-knight",
   "metadata": {},
   "outputs": [
    {
     "data": {
      "image/png": "[encoded data removed]",
      "text/latex": [
       "$\\displaystyle \\left( 0.1762 x^{2} - 3.986 x + 22.68, \\  33.8148\\right)$"
      ],
      "text/plain": [
       "⎛        2                           ⎞\n",
       "⎝0.1762⋅x  - 3.986⋅x + 22.68, 33.8148⎠"
      ]
     },
     "execution_count": 10,
     "metadata": {},
     "output_type": "execute_result"
    }
   ],
   "source": [
    "expr = 0.1762*pow(x, 2) - 3.986*x + 22.68\n",
    "a, b = 3, 9\n",
    "expr, integrate(expr, (x, a, b))"
   ]
  },
  {
   "cell_type": "code",
   "execution_count": 11,
   "id": "related-tours",
   "metadata": {},
   "outputs": [
    {
     "data": {
      "image/png": "[encoded data removed]",
      "text/latex": [
       "$\\displaystyle 0.158655253931457$"
      ],
      "text/plain": [
       "0.15865525393145685"
      ]
     },
     "execution_count": 11,
     "metadata": {},
     "output_type": "execute_result"
    }
   ],
   "source": [
    "from scipy.stats import norm\n",
    "mu = 2.5\n",
    "std = 0.2\n",
    "zscore = lambda z: (z - mu)/std\n",
    "1 - norm.cdf(zscore(2.7))"
   ]
  },
  {
   "cell_type": "code",
   "execution_count": 16,
   "id": "egyptian-barbados",
   "metadata": {},
   "outputs": [
    {
     "name": "stdout",
     "output_type": "stream",
     "text": [
      "2.26 <= X <= 2.74\n"
     ]
    },
    {
     "data": {
      "image/png": "[encoded data removed]",
      "text/latex": [
       "$\\displaystyle 0.769860659556584$"
      ],
      "text/plain": [
       "0.769860659556584"
      ]
     },
     "execution_count": 16,
     "metadata": {},
     "output_type": "execute_result"
    }
   ],
   "source": [
    "print(f\"{mu - std*1.2} <= X <= {mu + std*1.2}\")\n",
    "norm.cdf(zscore(mu + std*1.2)) - norm.cdf(zscore(mu - std*1.2))"
   ]
  },
  {
   "cell_type": "code",
   "execution_count": 19,
   "id": "hydraulic-spyware",
   "metadata": {},
   "outputs": [
    {
     "data": {
      "image/png": "[encoded data removed]",
      "text/latex": [
       "$\\displaystyle 0.549442298661563$"
      ],
      "text/plain": [
       "0.549442298661563"
      ]
     },
     "execution_count": 19,
     "metadata": {},
     "output_type": "execute_result"
    }
   ],
   "source": [
    "expon = lambda l, x: (1/l)*exp((1/-l)*x) \n",
    "integrate(expon(609.5, x), (x, 365, oo))"
   ]
  },
  {
   "cell_type": "code",
   "execution_count": 28,
   "id": "elegant-diabetes",
   "metadata": {},
   "outputs": [
    {
     "name": "stdout",
     "output_type": "stream",
     "text": [
      "Critical numbers:\n",
      "{x: 12.0000000000000, y: 30.0000000000000}\n",
      "Minimums:\n",
      "Maximums:\n",
      "f({x: 12.0000000000000, y: 30.0000000000000}) = 3516.00000000000\n",
      "Saddle points:\n"
     ]
    }
   ],
   "source": [
    "P = 1500 + 36*x - 1.5*pow(x, 2) + 120*y - 2*pow(y, 2)\n",
    "second_derivative_test(P, x, y)"
   ]
  },
  {
   "cell_type": "code",
   "execution_count": 62,
   "id": "hazardous-terminal",
   "metadata": {},
   "outputs": [
    {
     "name": "stdout",
     "output_type": "stream",
     "text": [
      "Solutions:\n",
      "f(166.666666666667,177.777777777778) = 521.982352155848\n"
     ]
    },
    {
     "data": {
      "image/png": "[encoded data removed]",
      "text/latex": [
       "$\\displaystyle \\left( 3 x^{0.333333333333333} y^{0.666666666666667}, \\  80 x + 150 y - 40000\\right)$"
      ],
      "text/plain": [
       "⎛   0.333333333333333  0.666666666666667                      ⎞\n",
       "⎝3⋅x                 ⋅y                 , 80⋅x + 150⋅y - 40000⎠"
      ]
     },
     "execution_count": 62,
     "metadata": {},
     "output_type": "execute_result"
    }
   ],
   "source": [
    "F = 3*pow(x, 1/3)*pow(y, 2/3)\n",
    "G = 80*x + 150*y - 40000\n",
    "lagrange_optimize(F, G, [x, y])\n",
    "F, G"
   ]
  },
  {
   "cell_type": "code",
   "execution_count": 34,
   "id": "graphic-staff",
   "metadata": {},
   "outputs": [
    {
     "data": {
      "image/png": "[encoded data removed]",
      "text/latex": [
       "$\\displaystyle -20$"
      ],
      "text/plain": [
       "-20"
      ]
     },
     "execution_count": 34,
     "metadata": {},
     "output_type": "execute_result"
    }
   ],
   "source": [
    "G.subs(x, 166).subs(y, 178)"
   ]
  },
  {
   "cell_type": "code",
   "execution_count": 36,
   "id": "intelligent-somewhere",
   "metadata": {},
   "outputs": [
    {
     "name": "stdout",
     "output_type": "stream",
     "text": [
      "521.719759737351\n",
      "520.805532815140\n"
     ]
    }
   ],
   "source": [
    "print(f\"{F.subs(x, 166).subs(y, 178)}\")\n",
    "print(f\"{F.subs(x, 167).subs(y, 177)}\")"
   ]
  },
  {
   "cell_type": "code",
   "execution_count": 40,
   "id": "facial-working",
   "metadata": {},
   "outputs": [
    {
     "data": {
      "image/png": "[encoded data removed]",
      "text/latex": [
       "$\\displaystyle \\left( 41.3978452132576, \\  0.0769423708100749\\right)$"
      ],
      "text/plain": [
       "(41.3978452132576, 0.0769423708100749)"
      ]
     },
     "execution_count": 40,
     "metadata": {},
     "output_type": "execute_result"
    }
   ],
   "source": [
    "Z = pow(x, 0.65) * pow(y, 0.35)\n",
    "approx(Z, [(x, 50), (y, 29)], [(x, 52), (y, 27)])"
   ]
  },
  {
   "cell_type": "code",
   "execution_count": 51,
   "id": "orange-broadcast",
   "metadata": {},
   "outputs": [
    {
     "name": "stdout",
     "output_type": "stream",
     "text": [
      "P(X > 5) = 0.3182\n",
      "P(X < 4) = 0.5758\n",
      "P(7 <= X <= 8) = 0.0606\n"
     ]
    }
   ],
   "source": [
    "F = (11.5 - x) / 66\n",
    "# Using sympy integration\n",
    "print(f\"P(X > 5) = {round(integrate(F, (x, 5, 11)), 4)}\")\n",
    "print(f\"P(X < 4) = {round(integrate(F, (x, 0, 4)), 4)}\")\n",
    "print(f\"P(7 <= X <= 8) = {round(integrate(F, (x, 7, 8)), 4)}\")"
   ]
  },
  {
   "cell_type": "code",
   "execution_count": 52,
   "id": "classical-citizen",
   "metadata": {},
   "outputs": [
    {
     "name": "stdout",
     "output_type": "stream",
     "text": [
      "P(X >= 12) = 0.2636\n",
      "P(X < 2) = 0.1993\n"
     ]
    }
   ],
   "source": [
    "lam = 9\n",
    "expon = lambda l, x: (1/l)*exp((1/-l)*x) \n",
    "# Using sympy integration\n",
    "print(f\"P(X >= 12) = {round(integrate(expon(lam, x), (x, 12, oo)), 4)}\")\n",
    "print(f\"P(X < 2) = {round(integrate(expon(lam, x), (x, 0, 2)), 4)}\")\n"
   ]
  },
  {
   "cell_type": "code",
   "execution_count": 54,
   "id": "varied-elephant",
   "metadata": {},
   "outputs": [
    {
     "name": "stdout",
     "output_type": "stream",
     "text": [
      "Critical numbers:\n",
      "{x: 13.0000000000000, y: 16.0000000000000}\n",
      "Minimums:\n",
      "f({x: 13.0000000000000, y: 16.0000000000000}) = 64.5000000000000\n",
      "Maximums:\n",
      "Saddle points:\n"
     ]
    }
   ],
   "source": [
    "def second_derivative_test(f, x, y):\n",
    "    f_x = f.diff(x)\n",
    "    f_y = f.diff(y)\n",
    "    f_xx = f.diff(x, 2)\n",
    "    f_yy = f.diff(y, 2)\n",
    "    f_xy = f.diff(x).diff(y)\n",
    "    \n",
    "    cps = solve([f_x, f_y])\n",
    "    critical_points = cps if type(cps) == list else [cps]\n",
    "    minimums = []\n",
    "    maximums = []\n",
    "    non_ms = []\n",
    "    print(\"Critical numbers:\")\n",
    "    for cp in critical_points:\n",
    "        print(cp)\n",
    "        if not cp[x].is_real or not cp[y].is_real:\n",
    "            continue\n",
    "        D = f_xx.subs(x, cp[x]).subs(y, cp[y]) * \\\n",
    "            f_yy.subs(x, cp[x]).subs(y, cp[y]) - \\\n",
    "            pow(f_xy.subs(x, cp[x]).subs(y, cp[y]), 2)\n",
    "        if D > 0 and f_xx.subs(x, cp[x]).subs(y, cp[y]) > 0:\n",
    "            minimums.append((cp, f.subs(x, cp[x]).subs(y, cp[y]), D))\n",
    "        elif D > 0 and f_xx.subs(x, cp[x]).subs(y, cp[y]) < 0:\n",
    "            maximums.append((cp, f.subs(x, cp[x]).subs(y, cp[y]),D))\n",
    "        elif D < 0:\n",
    "            non_ms.append((cp, f.subs(x, cp[x]).subs(y, cp[y]),D))\n",
    "    \n",
    "    print(f\"Minimums:\")\n",
    "    for m in sorted(minimums, key=lambda m: m[1]):\n",
    "        print(f\"f({m[0]}) = {m[1]}\")   \n",
    "    print(f\"Maximums:\")\n",
    "    for m in reversed(sorted(maximums, key=lambda m: m[1])):\n",
    "        print(f\"f({m[0]}) = {m[1]}\") \n",
    "        \n",
    "    print(f\"Saddle points:\")\n",
    "    for m in sorted(non_ms, key=lambda m: m[1]):\n",
    "        print(f\"f({m[0]}) = {m[1]}\")          \n",
    "\n",
    "L = pow(x, 2)*(3/2) + pow(y, 2) - 7*x - 6*y -2*x*y + 158\n",
    "second_derivative_test(L, x, y)"
   ]
  },
  {
   "cell_type": "code",
   "execution_count": 75,
   "id": "minor-journalist",
   "metadata": {},
   "outputs": [
    {
     "name": "stdout",
     "output_type": "stream",
     "text": [
      "Solutions:\n",
      "f(r: 7.00000000000001,h: 14.0000000000000) = 923.628240155400\n"
     ]
    }
   ],
   "source": [
    "def lagrange_optimize(f, g, vs):\n",
    "    lam = Symbol('lam')\n",
    "    eqs = [g]\n",
    "    for v in vs:\n",
    "        eqs.append(f.diff(v) - lam * g.diff(v))\n",
    "    sls = solve(eqs)\n",
    "    solutions = sls if type(sls) == list else [sls]\n",
    "    print(\"Solutions:\")\n",
    "    for s in solutions:\n",
    "        real_values = list(filter(lambda k: k.is_real, map(lambda u: s[u], vs)))\n",
    "        if len(real_values) != len(vs):\n",
    "            continue\n",
    "        print(\"f(\", end='')\n",
    "        params = ''\n",
    "        for v in vs:\n",
    "            params += f\"{v}: {s[v]},\"\n",
    "        print(params.strip(','), end='')\n",
    "        print(\") = \", end='')\n",
    "\n",
    "        point = f\n",
    "        for v in vs:\n",
    "            point = point.subs(v, s[v])\n",
    "        print(point)\n",
    "\n",
    "h, r = symbols('h r') # height, radius\n",
    "A = 2*math.pi*pow(r, 2) + h*2*math.pi*r # Area of cylindar = 2*{area of circle} + h*{circumference of circle}\n",
    "V = math.pi*pow(r, 2)*h - 686*math.pi # Volume of cylindar\n",
    "lagrange_optimize(A, V, [r, h])"
   ]
  },
  {
   "cell_type": "code",
   "execution_count": 70,
   "id": "modern-training",
   "metadata": {},
   "outputs": [
    {
     "data": {
      "image/png": "[encoded data removed]",
      "text/latex": [
       "$\\displaystyle 3.14159265358979$"
      ],
      "text/plain": [
       "3.141592653589793"
      ]
     },
     "execution_count": 70,
     "metadata": {},
     "output_type": "execute_result"
    }
   ],
   "source": [
    "import math\n",
    "math.pi"
   ]
  }
 ],
 "metadata": {
  "kernelspec": {
   "display_name": "Python 3",
   "language": "python",
   "name": "python3"
  },
  "language_info": {
   "codemirror_mode": {
    "name": "ipython",
    "version": 3
   },
   "file_extension": ".py",
   "mimetype": "text/x-python",
   "name": "python",
   "nbconvert_exporter": "python",
   "pygments_lexer": "ipython3",
   "version": "3.9.1"
  }
 },
 "nbformat": 4,
 "nbformat_minor": 5
}
