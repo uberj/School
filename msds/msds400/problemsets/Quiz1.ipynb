{
 "cells": [
  {
   "cell_type": "code",
   "execution_count": null,
   "id": "welsh-profession",
   "metadata": {},
   "outputs": [],
   "source": [
    "# Module Quiz 3"
   ]
  },
  {
   "cell_type": "code",
   "execution_count": 6,
   "id": "material-traffic",
   "metadata": {},
   "outputs": [
    {
     "data": {
      "text/plain": [
       "<matplotlib.collections.PathCollection at 0x13255b3d0>"
      ]
     },
     "execution_count": 6,
     "metadata": {},
     "output_type": "execute_result"
    },
    {
     "data": {
      "image/png": "[encoded data removed]",
      "text/plain": [
       "<Figure size 432x288 with 1 Axes>"
      ]
     },
     "metadata": {
      "needs_background": "light"
     },
     "output_type": "display_data"
    }
   ],
   "source": [
    "# Question 1\n",
    "import matplotlib.pyplot as plt\n",
    "import numpy as np\n",
    "from scipy import stats\n",
    "\n",
    "x = np.array([10, 50, 100, 500, 1000, 5000])\n",
    "y = np.array([494.3, 551.5, 623, 1195, 1910, 7630])\n",
    "\n",
    "plt.scatter(x, y, marker='o', color='r')"
   ]
  },
  {
   "cell_type": "code",
   "execution_count": 7,
   "id": "expired-freeware",
   "metadata": {},
   "outputs": [
    {
     "name": "stdout",
     "output_type": "stream",
     "text": [
      "slope: 1.43\n",
      "y-intercept: 480.0\n",
      "correlation coefficient: 1.0\n"
     ]
    }
   ],
   "source": [
    "slope, intercept, r_value, p_value, std_err = stats.linregress(x, y)\n",
    "\n",
    "print(f\"slope: {round(slope, 3)}\")\n",
    "print(f'y-intercept: {round(intercept, 3)}')\n",
    "print(f'correlation coefficient: {round(r_value, 4)}')"
   ]
  },
  {
   "cell_type": "code",
   "execution_count": 13,
   "id": "broken-oliver",
   "metadata": {},
   "outputs": [
    {
     "data": {
      "text/plain": [
       "1066.2999999999997"
      ]
     },
     "execution_count": 13,
     "metadata": {},
     "output_type": "execute_result"
    }
   ],
   "source": [
    "slope*410 + intercept"
   ]
  },
  {
   "cell_type": "code",
   "execution_count": 11,
   "id": "intermediate-ridge",
   "metadata": {},
   "outputs": [
    {
     "data": {
      "text/plain": [
       "670.0000000000001"
      ]
     },
     "execution_count": 11,
     "metadata": {},
     "output_type": "execute_result"
    }
   ],
   "source": [
    "(1438.1 - intercept)/slope"
   ]
  },
  {
   "cell_type": "code",
   "execution_count": null,
   "id": "intellectual-addiction",
   "metadata": {},
   "outputs": [],
   "source": [
    "# Question 2"
   ]
  },
  {
   "cell_type": "code",
   "execution_count": 48,
   "id": "russian-tunisia",
   "metadata": {},
   "outputs": [
    {
     "name": "stdout",
     "output_type": "stream",
     "text": [
      "cost per unit: 2.23\n"
     ]
    }
   ],
   "source": [
    "total_cost = 1850\n",
    "fix_cost = 515\n",
    "unit_cost = round((total_cost - fix_cost)/600, 2)\n",
    "# NOTE: The wording here is confusing me. Does \"her \n",
    "# total cost to produce 600 copies of the short story\n",
    "# is $1805\" include the fixed cost?\n",
    "# Or, is \"total cost\" *only* the unit cost to produce the units?\n",
    "# My answers assumes the total cost includes the fixed\n",
    "# cost, thus I subtract that before calculating the unit cost.\n",
    "print(f\"cost per unit: {unit_cost}\")"
   ]
  },
  {
   "cell_type": "code",
   "execution_count": 49,
   "id": "selected-transsexual",
   "metadata": {},
   "outputs": [
    {
     "data": {
      "text/plain": [
       "196.56488549618322"
      ]
     },
     "execution_count": 49,
     "metadata": {},
     "output_type": "execute_result"
    }
   ],
   "source": [
    "# Revenue\n",
    "# R(x) = 4.85x\n",
    "# Cost\n",
    "# C(x) = 2.225x + 15\n",
    "\n",
    "# R(x) = C(x)\n",
    "# 4.85x = 2.225x + 15\n",
    "# x(4.85 - 2.225) = 15\n",
    "# x = 15/(4.85 - 2.225)\n",
    "515/(4.85 - unit_cost)"
   ]
  },
  {
   "cell_type": "code",
   "execution_count": 50,
   "id": "special-judge",
   "metadata": {},
   "outputs": [
    {
     "data": {
      "text/plain": [
       "578.2442748091604"
      ]
     },
     "execution_count": 50,
     "metadata": {},
     "output_type": "execute_result"
    }
   ],
   "source": [
    "\n",
    "\"\"\"\n",
    "Profit\n",
    "P(x) = R(x) - C(x)\n",
    "\n",
    "1000 = 4.85x - (2.225x + 15)\n",
    "1000 = 4.85x - 2.225x - 15\n",
    "1015 = x(4.85 - 2.225)\n",
    "1015/(4.85 - 2.225) = x\n",
    "\"\"\"\n",
    "1515/(4.85 - unit_cost)"
   ]
  },
  {
   "cell_type": "code",
   "execution_count": 31,
   "id": "consistent-albert",
   "metadata": {},
   "outputs": [
    {
     "data": {
      "text/plain": [
       "<matplotlib.collections.PathCollection at 0x132673d10>"
      ]
     },
     "execution_count": 31,
     "metadata": {},
     "output_type": "execute_result"
    },
    {
     "data": {
      "image/png": "[encoded data removed]",
      "text/plain": [
       "<Figure size 432x288 with 1 Axes>"
      ]
     },
     "metadata": {
      "needs_background": "light"
     },
     "output_type": "display_data"
    }
   ],
   "source": [
    "# Question 3\n",
    "x = np.array([0,1,2,3,4,5,6,7])\n",
    "y = np.array([0,44,86,109,119,149,204,217])\n",
    "\n",
    "plt.scatter(x, y, marker='o', color='r')"
   ]
  },
  {
   "cell_type": "code",
   "execution_count": 32,
   "id": "southeast-encoding",
   "metadata": {},
   "outputs": [
    {
     "name": "stdout",
     "output_type": "stream",
     "text": [
      "slope: 29.976\n",
      "y-intercept: 11.083\n",
      "correlation coefficient: 0.9884\n"
     ]
    }
   ],
   "source": [
    "slope, intercept, r_value, p_value, std_err = stats.linregress(x, y)\n",
    "\n",
    "print(f\"slope: {round(slope, 3)}\")\n",
    "print(f'y-intercept: {round(intercept, 3)}')\n",
    "print(f'correlation coefficient: {round(r_value, 4)}')"
   ]
  },
  {
   "cell_type": "code",
   "execution_count": 33,
   "id": "driving-third",
   "metadata": {},
   "outputs": [
    {
     "data": {
      "text/plain": [
       "370.79761904761904"
      ]
     },
     "execution_count": 33,
     "metadata": {},
     "output_type": "execute_result"
    }
   ],
   "source": [
    "slope*12 + intercept"
   ]
  },
  {
   "cell_type": "code",
   "execution_count": 35,
   "id": "helpful-latex",
   "metadata": {},
   "outputs": [
    {
     "data": {
      "text/plain": [
       "{A: 42, B: 67, C: 92}"
      ]
     },
     "execution_count": 35,
     "metadata": {},
     "output_type": "execute_result"
    }
   ],
   "source": [
    "# Question 4\n",
    "import sympy as sym\n",
    "A,B,C = sym.symbols(\"A,B,C\")\n",
    "sym.solve([\n",
    "    15*A + 20*B + 25*C - 4270, # Niacin\n",
    "    11*A + 18*B + 34*C - 4796, # Vit E\n",
    "    A + B + C - 201\n",
    "]\n",
    ", [A,B,C])"
   ]
  },
  {
   "cell_type": "code",
   "execution_count": 37,
   "id": "lucky-spirit",
   "metadata": {},
   "outputs": [
    {
     "data": {
      "text/plain": [
       "True"
      ]
     },
     "execution_count": 37,
     "metadata": {},
     "output_type": "execute_result"
    }
   ],
   "source": [
    "# Check\n",
    "42 + 67 + 92 == 201"
   ]
  },
  {
   "cell_type": "code",
   "execution_count": 38,
   "id": "purple-heater",
   "metadata": {},
   "outputs": [
    {
     "data": {
      "text/plain": [
       "array([[  1.,   0.,   0.],\n",
       "       [-13.,   1.,  -2.],\n",
       "       [  4.,   0.,   1.]])"
      ]
     },
     "execution_count": 38,
     "metadata": {},
     "output_type": "execute_result"
    }
   ],
   "source": [
    "# Question 5\n",
    "from scipy.linalg import inv\n",
    "\n",
    "inv([\n",
    "    [1, 0, 0],\n",
    "    [5, 1, 2],\n",
    "    [-4, 0, 1]\n",
    "])"
   ]
  }
 ],
 "metadata": {
  "kernelspec": {
   "display_name": "Python 3",
   "language": "python",
   "name": "python3"
  },
  "language_info": {
   "codemirror_mode": {
    "name": "ipython",
    "version": 3
   },
   "file_extension": ".py",
   "mimetype": "text/x-python",
   "name": "python",
   "nbconvert_exporter": "python",
   "pygments_lexer": "ipython3",
   "version": "3.7.6"
  }
 },
 "nbformat": 4,
 "nbformat_minor": 5
}
