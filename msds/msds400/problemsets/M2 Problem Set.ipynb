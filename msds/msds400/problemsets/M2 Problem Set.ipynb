{
 "cells": [
  {
   "cell_type": "markdown",
   "metadata": {
    "collapsed": false
   },
   "source": [
    "<div class=\"alert alert-block alert-success\"><b>Problem 2:</b></div>\n",
    "\n"
   ]
  },
  {
   "cell_type": "code",
   "execution_count": 1,
   "metadata": {
    "collapsed": false
   },
   "outputs": [
    {
     "output_type": "stream",
     "name": "stdout",
     "text": "242/27 is supposed to be 6\n206/27 is supposed to be 8\n"
    }
   ],
   "source": [
    "import sympy as sym\n",
    "# Use sympy package to display the equation\n",
    "sym.init_printing()\n",
    "#sym.solve()\n",
    "x,y = sym.symbols('x,y')\n",
    "\n",
    "solns = sym.solve([\n",
    "    1*x + 8*y - 70, \n",
    "    4*x + 5*y - 74],\n",
    "    [x, y])\n",
    "print(f\"{solns[x]} is supposed to be 6\")\n",
    "print(f\"{solns[y]} is supposed to be 8\")"
   ]
  },
  {
   "cell_type": "markdown",
   "metadata": {
    "collapsed": false
   },
   "source": [
    "<div class=\"alert alert-block alert-success\"><b>Problem 3: </b></div>"
   ]
  },
  {
   "cell_type": "code",
   "execution_count": 2,
   "metadata": {
    "collapsed": false
   },
   "outputs": [
    {
     "output_type": "stream",
     "name": "stdout",
     "text": "Intersectiion is (2, -3) \n"
    }
   ],
   "source": [
    "import sympy as sym\n",
    "# Use sympy package to display the equation\n",
    "sym.init_printing()\n",
    "#sym.solve()\n",
    "x,y = sym.symbols('x,y')\n",
    "\n",
    "solns = sym.solve([\n",
    "    2*x + 1*y - 1, \n",
    "    3*x + 3*y + 3],\n",
    "    [x, y])\n",
    "print(f\"Intersectiion is ({solns[x]}, {solns[y]}) \")"
   ]
  },
  {
   "cell_type": "markdown",
   "metadata": {
    "collapsed": false
   },
   "source": [
    "<div class=\"alert alert-block alert-success\"><b>Problem 4: </b>\n",
    "</div>"
   ]
  },
  {
   "cell_type": "code",
   "execution_count": 3,
   "metadata": {
    "collapsed": false
   },
   "outputs": [
    {
     "output_type": "stream",
     "name": "stdout",
     "text": "There are 606 old pennies and 698 new pennies\n"
    }
   ],
   "source": [
    "import sympy as sym\n",
    "# Use sympy package to display the equation\n",
    "sym.init_printing()\n",
    "\n",
    "# X is old pennies, Y is new pennies\n",
    "x,y = sym.symbols('x,y')\n",
    "\n",
    "solns = sym.solve([\n",
    "    3.1*x + 2.5*y - 3623.6,   # weight\n",
    "    x + y - 1304],  # count\n",
    "    [x, y])\n",
    "print(f\"There are {int(solns[x])} old pennies and {int(solns[y])} new pennies\")"
   ]
  },
  {
   "cell_type": "markdown",
   "metadata": {
    "collapsed": false
   },
   "source": [
    "<div class=\"alert alert-block alert-success\"><b>Problem 7:</b></div>"
   ]
  },
  {
   "cell_type": "code",
   "execution_count": 4,
   "metadata": {
    "collapsed": false
   },
   "outputs": [
    {
     "output_type": "stream",
     "name": "stdout",
     "text": "\nSmall box and large box costs\n\n[[10.]\n [16.]]\n"
    }
   ],
   "source": [
    "from numpy import matrix, transpose\n",
    "from numpy import linalg\n",
    "M= [[11, 10], # Roberto's sales\n",
    "    [20, 23]]  # Rosa's sales\n",
    "M= matrix(M)\n",
    "O= [270,  # Roberto total\n",
    "    568]  # Rosa total\n",
    "O= transpose(matrix(O)) \n",
    "result= linalg.solve(M,O)\n",
    "print ('\\nSmall box and large box costs\\n') \n",
    "print (result)"
   ]
  }
 ],
 "metadata": {
  "kernelspec": {
   "display_name": "Python 3.8.5 64-bit ('env': venv)",
   "language": "python",
   "metadata": {
    "cocalc": {
     "description": "Python 3 programming language",
     "priority": 100,
     "url": "https://www.python.org/"
    }
   },
   "name": "python38564bitenvvenvf2133178b7304062b2291d616f583eab"
  },
  "language_info": {
   "codemirror_mode": {
    "name": "ipython",
    "version": 3
   },
   "file_extension": ".py",
   "mimetype": "text/x-python",
   "name": "python",
   "nbconvert_exporter": "python",
   "pygments_lexer": "ipython3",
   "version": "3.8.5-final"
  },
  "varInspector": {
   "cols": {
    "lenName": 16,
    "lenType": 16,
    "lenVar": 40
   },
   "kernels_config": {
    "python": {
     "delete_cmd_postfix": "",
     "delete_cmd_prefix": "del ",
     "library": "var_list.py",
     "varRefreshCmd": "print(var_dic_list())"
    },
    "r": {
     "delete_cmd_postfix": ") ",
     "delete_cmd_prefix": "rm(",
     "library": "var_list.r",
     "varRefreshCmd": "cat(var_dic_list()) "
    }
   },
   "types_to_exclude": [
    "module",
    "function",
    "builtin_function_or_method",
    "instance",
    "_Feature"
   ],
   "window_display": false
  }
 },
 "nbformat": 4,
 "nbformat_minor": 4
}