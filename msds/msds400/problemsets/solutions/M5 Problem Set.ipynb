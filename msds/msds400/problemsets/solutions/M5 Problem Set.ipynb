{
 "cells": [
  {
   "cell_type": "markdown",
   "metadata": {},
   "source": [
    "<div class=\"alert alert-block alert-success\"><b>Problem 2:</b> Find the following limit: <br/>\n",
    "    \n",
    "$$\\lim_{x \\to 7} \\frac{x^3 - 9x^2 + 9x + 35}{x-7}$$ \n",
    "    \n",
    "<br/>\n",
    "</div>\n"
   ]
  },
  {
   "cell_type": "code",
   "execution_count": 67,
   "metadata": {},
   "outputs": [
    {
     "name": "stdout",
     "output_type": "stream",
     "text": [
      "30\n"
     ]
    }
   ],
   "source": [
    "from sympy import Symbol, limit\n",
    "\n",
    "x = Symbol('x')\n",
    "f_x = (x**3 - 9*x**2 + 9*x + 35) / (x-7)\n",
    "li = limit(f_x, x, 7)\n",
    "print(li)"
   ]
  },
  {
   "cell_type": "markdown",
   "metadata": {},
   "source": [
    "<div class=\"alert alert-block alert-success\"><b>Problem 6:</b> \n",
    "    \n",
    "An antibiotic is applied to a culture of bacteria. The number of bacteria cells remaining in the culture is given by $$ p(t)=13500/(7t^2+3) $$ \n",
    "    (t≥0 where t represents elapsed time in seconds.)\n",
    "    <br/>\n",
    "<br/>\n",
    "Determine the rate of change with respect to time: p'(t)=\n",
    "    \n",
    "Determine the rate of change at t=7 : cells per second. (Round your answer to 4 decimals as needed.)\n",
    "<br/>\n",
    "</div>"
   ]
  },
  {
   "cell_type": "code",
   "execution_count": 68,
   "metadata": {},
   "outputs": [
    {
     "data": {
      "text/latex": [
       "$\\displaystyle - \\frac{189000 t}{\\left(7 t^{2} + 3\\right)^{2}}$"
      ],
      "text/plain": [
       "-189000*t/(7*t**2 + 3)**2"
      ]
     },
     "metadata": {},
     "output_type": "display_data"
    },
    {
     "name": "stdout",
     "output_type": "stream",
     "text": [
      "The rate of change at t=7 is  -11.051154398743693\n"
     ]
    }
   ],
   "source": [
    "from sympy import Symbol, diff, lambdify\n",
    "from IPython.display import display\n",
    "\n",
    "t = Symbol('t')\n",
    "p = 13500/(7*t**2 + 3)\n",
    "der_f = p.diff(t)\n",
    "func_der_f = lambdify(t, der_f)\n",
    "\n",
    "\n",
    "display(der_f)\n",
    "\n",
    "print(\"The rate of change at t=7 is \",func_der_f(7))\n"
   ]
  },
  {
   "cell_type": "markdown",
   "metadata": {},
   "source": [
    "<div class=\"alert alert-block alert-success\"><b>Problem 7:</b> \n",
    "Winter Fun© has determined that the total revenue (in dollars) for its west coast factory from the sale of x Blazing Blue snowmobiles is given by\n",
    "\n",
    "$$ R(x)=2500x / {ln(5x+5)} $$\n",
    "\n",
    "Find the Marginal Revenue. Simplify as needed.\n",
    "<br/>\n",
    "\n",
    "a) R'(x)=\n",
    "<br/>\n",
    "<br/>\n",
    "Find the Marginal Revenue when 175 Blazing Blue snowmobiles are produced.\n",
    "<br/><br/>\n",
    "b) R'(175)= Round to two decimals as needed.<br/>\n",
    "</div>"
   ]
  },
  {
   "cell_type": "code",
   "execution_count": 69,
   "metadata": {},
   "outputs": [
    {
     "data": {
      "text/latex": [
       "$\\displaystyle - \\frac{12500 x}{\\left(5 x + 5\\right) \\log{\\left(5 x + 5 \\right)}^{2}} + \\frac{2500}{\\log{\\left(5 x + 5 \\right)}}$"
      ],
      "text/plain": [
       "-12500*x/((5*x + 5)*log(5*x + 5)**2) + 2500/log(5*x + 5)"
      ]
     },
     "metadata": {},
     "output_type": "display_data"
    },
    {
     "name": "stdout",
     "output_type": "stream",
     "text": [
      "Marginal Revenue when 175 Blazing Blue snowmobiles are produced = 314.66\n"
     ]
    }
   ],
   "source": [
    "from sympy import symbols, diff, lambdify, log\n",
    "from IPython.display import display\n",
    "\n",
    "x = symbols('x')\n",
    "R = (2500 * x) / log(5*x + 5)\n",
    "R_p = R.diff(x)\n",
    "func_R_p = lambdify(x,R_p)\n",
    "# a)\n",
    "display(R_p)\n",
    "\n",
    "# b)\n",
    "\n",
    "print(\"Marginal Revenue when 175 Blazing Blue snowmobiles are produced =\", round(func_R_p(175),2))\n",
    "# a = round(bmi_f(215, 6*12+2))\n",
    "# print(f\"a. BMI = {a}\")\n",
    "\n",
    "# targ_weight = (25.2 * (6*12+2)**2)/703\n",
    "# weight_loss = round(215 - targ_weight)\n",
    "# print(f\"b. The person would have to  lose {weight_loss} pounds\")\n",
    "\n",
    "# bmi_128 = (703 * 128) / h**2\n",
    "# bmi_128_der = bmi_128.diff(h)\n",
    "# print(f\"c. The rate of change with respect to height is {bmi_128_der}\")\n",
    "\n",
    "# bmi_128_der_f = lambdify(h, bmi_128_der)\n",
    "# print(f\"d. f\\'(64) = {bmi_128_der_f(64):.2f}\")  # The :.2f tells the print statement to format the value as a float with 2 decimal places."
   ]
  },
  {
   "cell_type": "markdown",
   "metadata": {},
   "source": [
    "<div class=\"alert alert-block alert-success\"><b>Problem 9:</b> The amount of funds available for a particular endowment fund (in thousands of dollars) after t years is given by:\n",
    "\n",
    "$$ f(t)=e^{(0.5t+5)} $$\n",
    "\n",
    "<br/>\n",
    "Find the rate of change in the endowment fund after 4 years. $\n",
    "<br/>\n",
    "Round your answer to two decimals as needed.\n",
    "<br/>\n",
    "<br/></div>"
   ]
  },
  {
   "cell_type": "code",
   "execution_count": 70,
   "metadata": {},
   "outputs": [
    {
     "name": "stdout",
     "output_type": "stream",
     "text": [
      "The rate of change in the endowment fund after 4 years (in thousands) = 548.32\n"
     ]
    }
   ],
   "source": [
    "from sympy import Symbol, diff, lambdify, exp\n",
    "\n",
    "t = Symbol('t')\n",
    "f = exp(0.5 * t + 5)\n",
    "f_prime = f.diff(t)\n",
    "P_prime_f = lambdify(t, f_prime)\n",
    "\n",
    "print(\"The rate of change in the endowment fund after 4 years (in thousands) =\",round(P_prime_f(4),2))"
   ]
  },
  {
   "cell_type": "markdown",
   "metadata": {},
   "source": [
    "<div class=\"alert alert-block alert-success\"><b>Problem 11:</b> \n",
    "    The labor costs to produce luxury yachts can be modeled by: \n",
    "    $$ f(x)=(x^2+7x+4)^2 $$ \n",
    "    (x represents the number of yachts produced)\n",
    "<br/>\n",
    "Find the marginal cost to produce 10 yachts \\$\n",
    "\n",
    "<br/>\n",
    "Find the marginal cost to produce 20 yachts \\$\n",
    "<br/>\n",
    "\n",
    "    \n",
    "</div>\n"
   ]
  },
  {
   "cell_type": "code",
   "execution_count": 71,
   "metadata": {},
   "outputs": [
    {
     "name": "stdout",
     "output_type": "stream",
     "text": [
      "Marginal cost to produce 10 yachts $9396\n",
      "Marginal cost to produce 20 yachts $51136\n"
     ]
    }
   ],
   "source": [
    "from sympy import symbols, diff, lambdify, log\n",
    "from IPython.display import display\n",
    "\n",
    "x = symbols('x')\n",
    "f = (x**2 + 7*x + 4)**2\n",
    "f_x = f.diff(x)\n",
    "func_f_x = lambdify(x,f_x)\n",
    "# a)\n",
    "print(\"Marginal cost to produce 10 yachts $\",func_f_x(10),sep=\"\")\n",
    "print(\"Marginal cost to produce 20 yachts $\",func_f_x(20),sep=\"\")\n",
    "# b)\n",
    "\n",
    "#print(\"Marginal Revenue when 175 Blazing Blue snowmobiles are produced =\", round(func_R_p(175),2))"
   ]
  },
  {
   "cell_type": "markdown",
   "metadata": {},
   "source": [
    "<div class=\"alert alert-block alert-success\"><b>Problem 14:</b> \n",
    "    The number of per capita cumulative cases of COVID-19 in a particular country can be modeled by the following where t represents the number of days after the first 100 cases. \n",
    "    $$ g(t)=ln(3t^5 ) $$ \n",
    "    (x represents the number of yachts produced)\n",
    "<br/>\n",
    "    \n",
    "a) Find g'(t) .\n",
    "\n",
    "b) Determine the rate of change in the number of cases after 156 days.\n",
    "\n",
    "<br/>\n",
    "\n",
    "    \n",
    "</div>\n"
   ]
  },
  {
   "cell_type": "code",
   "execution_count": 72,
   "metadata": {},
   "outputs": [
    {
     "name": "stdout",
     "output_type": "stream",
     "text": [
      "Cases per day 0.03205128205128205\n"
     ]
    }
   ],
   "source": [
    "from sympy import symbols, diff, lambdify, log\n",
    "from IPython.display import display\n",
    "\n",
    "t = symbols('t')\n",
    "g = (log(3*t**5))\n",
    "g_t = g.diff(t)\n",
    "func_g_t = lambdify(t,g_t)\n",
    "# a)\n",
    "print(\"Cases per day \",func_g_t(156),sep=\"\")\n",
    "# b)\n",
    "\n",
    "#print(\"Marginal Revenue when 175 Blazing Blue snowmobiles are produced =\", round(func_R_p(175),2))"
   ]
  },
  {
   "cell_type": "markdown",
   "metadata": {},
   "source": [
    "<div class=\"alert alert-block alert-success\"><b>Problem 14:</b> \n",
    "The depth (in feet) of water at a dock changes with the rise and fall of tides. The depth is modeled by the following function where t is the number of hours after midnight. \n",
    "<br/>\n",
    "    $$ D(t)=4 sin(π/6 t+7π/6)+3 $$ \n",
    "Find the rate at which the depth is changing at 1 a.m.  Round your answer to 4 decimal places.\n",
    "\n",
    "<br/>\n",
    "\n",
    "    \n",
    "</div>\n",
    "\n",
    "\n"
   ]
  },
  {
   "cell_type": "code",
   "execution_count": 73,
   "metadata": {},
   "outputs": [
    {
     "name": "stdout",
     "output_type": "stream",
     "text": [
      "Rate at which the depth is changing at 1 a.m =-1.0472\n"
     ]
    }
   ],
   "source": [
    "from sympy import symbols, diff, lambdify, log, sin, pi\n",
    "from IPython.display import display\n",
    "\n",
    "t = symbols('t')\n",
    "d = 4*(sin((pi/6)*t + (7*pi/6)))+3\n",
    "d_prime = d.diff(t)\n",
    "func_d_prime = lambdify(t,d_prime)\n",
    "# a)\n",
    "print(\"Rate at which the depth is changing at 1 a.m =\",round(func_d_prime(1),4),sep=\"\")\n",
    "# b)\n",
    "\n",
    "#print(\"Marginal Revenue when 175 Blazing Blue snowmobiles are produced =\", round(func_R_p(175),2))"
   ]
  }
 ],
 "metadata": {
  "kernelspec": {
   "display_name": "Python 3",
   "language": "python",
   "name": "python3"
  },
  "language_info": {
   "codemirror_mode": {
    "name": "ipython",
    "version": 3
   },
   "file_extension": ".py",
   "mimetype": "text/x-python",
   "name": "python",
   "nbconvert_exporter": "python",
   "pygments_lexer": "ipython3",
   "version": "3.7.6"
  }
 },
 "nbformat": 4,
 "nbformat_minor": 1
}
