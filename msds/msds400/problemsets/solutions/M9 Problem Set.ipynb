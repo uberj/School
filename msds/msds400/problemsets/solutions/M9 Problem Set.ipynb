{
 "cells": [
  {
   "cell_type": "code",
   "execution_count": 1,
   "metadata": {
    "collapsed": false
   },
   "outputs": [
   ],
   "source": [
    "# Let us use the classes from the Graph Theory Notebook"
   ]
  },
  {
   "cell_type": "code",
   "execution_count": 2,
   "metadata": {
    "collapsed": false
   },
   "outputs": [
   ],
   "source": [
    "import string\n",
    "\n",
    "class Node(object):\n",
    "    '''\n",
    "    This is a class that represents a node. The functions of a class are called methods. Instantiations of this class\n",
    "    will create objects that have access to the methods. \n",
    "    \n",
    "    Each method begins with an argument of \"self\" which lets the methos know which object it belongs to.\n",
    "    \n",
    "    For the Node object, we care about the name of the node and a dictionary naming the adjacent nodes. The adjacent\n",
    "    dictionary keys will be the name's of adjacent nodes and the value will be the weight of that edge.\n",
    "    '''\n",
    "    def __init__(self, name):\n",
    "        # The init method is magic python method that get's called when an object is instantiated. \n",
    "        self.name = name  # Take the name given at instantiation and assign it to the object\n",
    "        self.adjacent = {}  # When we create the node, we don't know about any adjacent nodes. Create a placeholder\n",
    "        \n",
    "    def __str__(self):\n",
    "        # When printing a node, format it like this:\n",
    "        return \"Node {}: {}\".format(self.name, self.adjacent)\n",
    "    \n",
    "    def __repr__(self):\n",
    "        # When representing this object, use the str method\n",
    "        return self.__str__()\n",
    "        "
   ]
  },
  {
   "cell_type": "code",
   "execution_count": 6,
   "metadata": {
    "collapsed": false
   },
   "outputs": [
   ],
   "source": [
    "class Graph(object):\n",
    "    '''\n",
    "    This class represents a graph. The graph is consists of a collection of nodes. \n",
    "    '''\n",
    "    def __init__(self, adjacency_matrix=None):\n",
    "        '''\n",
    "        When the graph is instantiated it will not know about any of its member nodes. There is an optional \n",
    "        `adjacency_matrix` argument that defaults to None. If an adjacency_matrix is provided, then we can \n",
    "        create the member nodes, their relationships, and add them to this graph.\n",
    "        '''\n",
    "        self.nodes = {}\n",
    "        if adjacency_matrix:\n",
    "            # We were provided an adjacency matrix\n",
    "            self._create_member_nodes_from_adjacency_matrix(adjacency_matrix)\n",
    "            \n",
    "    def __str__(self):\n",
    "        return '\\n'.join([str(n) for n in self.nodes.values()])\n",
    "    \n",
    "    def __repr__(self):\n",
    "        return self.__str__()\n",
    "    \n",
    "    def _create_member_nodes_from_adjacency_matrix(self, adjacency_matrix):\n",
    "        # A preceeding underscore indicetes a method that is only called within the class. \n",
    "        # Create nodes and weights from an adjacency matrix (list of lists) and assign them to this graph\n",
    "        letters = list(string.ascii_lowercase)  # Get a list of letters to assign to the nodes we create\n",
    "        needed_letters = len(adjacency_matrix)\n",
    "        if needed_letters > len(letters):\n",
    "            # Give the user an error that the input matrix is too large to have \n",
    "            raise ValueError(\"The matrix is too large to create from 26 letters. Please manually assign names to nodes and then add them to the graph.\")\n",
    "        \n",
    "        for i, row in enumerate(adjacency_matrix):  # get an index of the row and the contentx of the row\n",
    "            letter_name = letters[i]\n",
    "            node = Node(letter_name)\n",
    "            for j, column_value in enumerate(row):\n",
    "                if column_value != 0:  # There is an adjacent node here\n",
    "                    adjacent_letter_name = letters[j]\n",
    "                    node.adjacent[adjacent_letter_name] = column_value\n",
    "            self.nodes[letter_name] = node\n",
    "            \n",
    "    def get_distance_of_path(self, path):\n",
    "        # Given a list of node names within the graph, find its distance using the node adjacency measures\n",
    "        distance = 0\n",
    "        for i, node_name in enumerate(path[:-1]):\n",
    "            # Gets the index and node name for each in the path except for the last one\n",
    "            this_node = self.nodes[node_name]\n",
    "            next_node = self.nodes[path[i+1]]\n",
    "            distance += this_node.adjacent[next_node.name]  # Get the distance from this_node to next node\n",
    "        \n",
    "        return distance\n",
    "    \n",
    "    def find_all_paths_between(self, a, b, path=None):\n",
    "        if not path:\n",
    "            # No path list provided, create one\n",
    "            path = []\n",
    "\n",
    "        path = path + [a] # Add a to the path\n",
    "\n",
    "        if a == b:  # This is a path to itself, at the end of a path\n",
    "            return [path]\n",
    "        if a not in self.nodes:  # a could not be found in the graph\n",
    "            return []\n",
    "        paths = []\n",
    "        for node in self.nodes[a].adjacent:  # look to adjacent nodes of a\n",
    "            if node not in path:\n",
    "                newpaths = self.find_all_paths_between(node, b, path)  # Recursivly go down another level\n",
    "                for newpath in newpaths:\n",
    "                    paths.append(newpath)\n",
    "        return paths\n",
    "    \n",
    "    def shortest_path(self, a, b):\n",
    "        # Get the distance of each weighted path and return the shortest\n",
    "        all_paths = self.find_all_paths_between(a, b)\n",
    "        \n",
    "        if not all_paths:\n",
    "            return []\n",
    "        \n",
    "        # The shortest path will be the first path in the list\n",
    "        shortest_path = None\n",
    "        shortest_distance = None\n",
    "        \n",
    "        for path in all_paths:\n",
    "            p_distance = self.get_distance_of_path(path)\n",
    "            if not shortest_distance or p_distance < shortest_distance:\n",
    "                # This path is shorter\n",
    "                shortest_path = path\n",
    "                shortest_distance = p_distance\n",
    "                \n",
    "        return shortest_path\n",
    "    \n",
    "    def is_tree(self):\n",
    "        # returns True if the graph is a tree, otherwise False\n",
    "        \n",
    "        node_names = list(self.nodes.keys())\n",
    "        first = node_names[0]  # Make sure the first node has a path to all other nodes\n",
    "        second = node_names[1]  # Used to determine if acyclic\n",
    "        \n",
    "        for node in node_names:\n",
    "            if node == first:\n",
    "                continue  # Don't compare it against itself\n",
    "            if not self.find_all_paths_between(first, node):\n",
    "                return False  # No path was found between first and node, this must not be a tree\n",
    "            \n",
    "        # Check if cyclic. Trees must be acyclic.\n",
    "        paths_back = self.find_all_paths_between(first, second)\n",
    "        adjacent = [first, second] in paths_back\n",
    "        for p in paths_back:\n",
    "            if set(p) == set(node_names) and adjacent:\n",
    "                # This path contains each node and returns to itself. It is cyclic\n",
    "                return False\n",
    "        \n",
    "        return True\n",
    "        "
   ]
  },
  {
   "cell_type": "code",
   "execution_count": 15,
   "metadata": {
    "collapsed": false
   },
   "outputs": [
   ],
   "source": [
    "# 3\n",
    "matrix = [\n",
    "    # Distance to \n",
    "    # A   B   C   D   E   F   G   H   I   J   K   L\n",
    "    [ 0,  9,  0,  14, 0,  0,  0,  0,  0,  0,  0,  0],  # Node A distances to [A, B, C, D, E, F, G, G, I, J, K]\n",
    "    [ 9,  0,  13, 0,  12, 0,  0,  0,  0,  0,  0,  0],  # B\n",
    "    [ 0,  13, 0,  0,  0,  24, 0,  0,  0,  0,  0,  0],  # C\n",
    "    [ 14, 0,  0,  0,  10, 0,  8,  0,  0,  0,  0,  0],  # D\n",
    "    [ 0,  12, 0,  10, 0,  30, 0,  20, 0,  0,  0,  0],  # E\n",
    "    [ 0,  0,  24, 0,  30, 0,  0,  0,  23, 0,  0,  0],  # F\n",
    "    [ 0,  0,  0,  8,  0,  0,  0,  29, 0,  22, 0,  0],  # G\n",
    "    [ 0,  0,  0,  0,  20, 0,  29, 0,  2,  0,  15, 0],  # H\n",
    "    [ 0,  0,  0,  0,  0,  23, 0,  2,  0,  0,  0,  1],  # I\n",
    "    [ 0,  0,  0,  0,  0,  0,  22, 0,  0,  0,  4,  0],  # J\n",
    "    [ 0,  0,  0,  0,  0,  0,  0,  15, 0,  4,  0,  17],  # K\n",
    "    [ 0,  0,  0,  0,  0,  0,  0,  0,  1,  0,  17, 0],  # L\n",
    "] \n",
    "\n",
    "g = Graph(matrix)\n",
    "g.shortest_path('a', 'l')"
   ]
  },
  {
   "cell_type": "code",
   "execution_count": 22,
   "metadata": {
    "collapsed": false
   },
   "outputs": [
    {
     "name": "stdout",
     "output_type": "stream",
     "text": [
      "The shortest way from A -> B is via ['a', 'e', 'c', 'b'] with a distance of 18\n"
     ]
    }
   ],
   "source": [
    "# 4\n",
    "\n",
    "# This time we instantiate the Node and Graph without the matrix\n",
    "a, b, c, d, e = Node('a'), Node('b'), Node('c'), Node('d'), Node('e')\n",
    "a.adjacent = {'c': 29, 'd': 8, 'e': 11}\n",
    "b.adjacent = {'c': 4, 'd':19, 'e': 13}\n",
    "c.adjacent = {'a': 29, 'b': 4, 'd': 16, 'e': 3}\n",
    "d.adjacent = {'a': 8, 'b': 19, 'c': 16, 'e': 14}\n",
    "e.adjacent = {'a': 11, 'b': 13, 'c': 3, 'd': 14}\n",
    "\n",
    "g = Graph()\n",
    "g.nodes = {n.name: n for n in [a, b, c, d, e]}\n",
    "\n",
    "path = g.shortest_path('a', 'b')\n",
    "distance = g.get_distance_of_path(path)\n",
    "\n",
    "print(f\"The shortest way from A -> B is via {path} with a distance of {distance}\")"
   ]
  },
  {
   "cell_type": "code",
   "execution_count": 0,
   "metadata": {
    "collapsed": false
   },
   "outputs": [
   ],
   "source": [
   ]
  }
 ],
 "metadata": {
  "kernelspec": {
  },
  "language_info": {
   "codemirror_mode": {
    "name": "ipython",
    "version": 3
   },
   "file_extension": ".py",
   "mimetype": "text/x-python",
   "name": "python",
   "nbconvert_exporter": "python",
   "pygments_lexer": "ipython3",
   "version": "3.8.5-final"
  },
  "orig_nbformat": 2
 },
 "nbformat": 4,
 "nbformat_minor": 4
}