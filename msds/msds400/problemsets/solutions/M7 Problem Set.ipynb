{
 "cells": [
  {
   "cell_type": "markdown",
   "metadata": {},
   "source": [
    "<div class=\"alert alert-block alert-success\"><b>Problem 4:</b>\n",
    "The traffic flow rate (cars per hour) across an intersection is modeled r(t)=300+600t-240t^2 , where t represents the number of hours since 6 am. How many cars pass through the intersection between 6 am and 7 am?\n",
    "\n",
    "</div>"
   ]
  },
  {
   "cell_type": "code",
   "execution_count": 3,
   "metadata": {},
   "outputs": [
    {
     "name": "stdout",
     "output_type": "stream",
     "text": [
      "520 cars\n"
     ]
    }
   ],
   "source": [
    "from sympy import Symbol, integrate\n",
    "# https://docs.sympy.org/latest/tutorial/calculus.html?highlight=calculus#integrals\n",
    "t = Symbol('t')\n",
    "r_t = 300 + 600*t - 240*t**2\n",
    "\n",
    "flow_rate = integrate(r_t, (t,0,1))\n",
    "# a = integrate(r_prime, (t, 0, 1))\n",
    "print(f\"{flow_rate} cars\")"
   ]
  },
  {
   "cell_type": "markdown",
   "metadata": {},
   "source": [
    "<div class=\"alert alert-block alert-success\"><b>Problem 5:</b>\n",
    "You are memorizing words for a vocabulary test. You studied a few days ago, and you know 22 words already. It is the night before the test, and you sit down to finish studying the words. Suppose that the rate of memorizing is given by M'(t)=-0.007t^2+0.8t , where M'(t) is the memory rate, in words per minute. What is the total number of words you have memorized after 8 minutes of studying?\n",
    "</div>"
   ]
  },
  {
   "cell_type": "code",
   "execution_count": 14,
   "metadata": {},
   "outputs": [
    {
     "name": "stdout",
     "output_type": "stream",
     "text": [
      "46 words\n"
     ]
    }
   ],
   "source": [
    "from sympy import Symbol, integrate\n",
    "# https://docs.sympy.org/latest/tutorial/calculus.html?highlight=calculus#integrals\n",
    "t = Symbol('t')\n",
    "M_prime = -0.007*t**2 + 0.8*t\n",
    "\n",
    "# We will first find M(t) and add the constant 22\n",
    "M_t = integrate(M_prime, t) + 22\n",
    "\n",
    "words_memorized = M_t.evalf(subs={t:8})\n",
    "\n",
    "print(f\"{round(words_memorized)} words\")"
   ]
  },
  {
   "cell_type": "markdown",
   "metadata": {},
   "source": [
    "<div class=\"alert alert-block alert-success\"><b>Problem 5:</b>\n",
    "The rate of reaction for a certain drug in the appropriate units is given by\n",
    "\n",
    "R'(t)=9/(t+1)+2/√(t+1)\n",
    "\n",
    "where t is time (in hours) after the drug is administered. Find the total reaction to the drug over the following time periods. Round your answers to three decimal places as needed.\n",
    "\n",
    "From t=1 hour to t=9 hours, the total reaction of the drug is units.\n",
    "\n",
    "From t=9 hours to t=23 hours, the total reaction of the drug is units.\n",
    "\n",
    "</div>"
   ]
  },
  {
   "cell_type": "code",
   "execution_count": 63,
   "metadata": {},
   "outputs": [],
   "source": [
    "from sympy import Symbol, integrate\n",
    "# https://docs.sympy.org/latest/tutorial/calculus.html?highlight=calculus#integrals\n",
    "t = Symbol('t')\n",
    "R_prime = 9/(t+1) + 2/((t+1)**(1/2))"
   ]
  },
  {
   "cell_type": "code",
   "execution_count": 62,
   "metadata": {},
   "outputs": [
    {
     "data": {
      "text/plain": [
       "'21.477'"
      ]
     },
     "execution_count": 62,
     "metadata": {},
     "output_type": "execute_result"
    }
   ],
   "source": [
    "# From t=1 hour to t=9 hours, the total reaction of the drug is units.\n",
    "f\"{round(integrate(R_prime,(t,1,9)).evalf(),3)}\""
   ]
  },
  {
   "cell_type": "code",
   "execution_count": 60,
   "metadata": {},
   "outputs": [
    {
     "data": {
      "text/plain": [
       "'14.826'"
      ]
     },
     "execution_count": 60,
     "metadata": {},
     "output_type": "execute_result"
    }
   ],
   "source": [
    "# From t=9 hours to t=23 hours, the total reaction of the drug is units.\n",
    "f\"{round(integrate(R_prime,(t,9,23)).evalf(),3)}\""
   ]
  },
  {
   "cell_type": "code",
   "execution_count": null,
   "metadata": {},
   "outputs": [],
   "source": []
  },
  {
   "cell_type": "markdown",
   "metadata": {},
   "source": [
    "<div class=\"alert alert-block alert-success\"><b>Problem 9:</b> Computer the given integral:\n",
    "\n",
    "∫xe^(5x^2 )dx = + C\n",
    "\n",
    "</div>"
   ]
  },
  {
   "cell_type": "code",
   "execution_count": 31,
   "metadata": {},
   "outputs": [
    {
     "name": "stdout",
     "output_type": "stream",
     "text": [
      "exp(5*x**2)/10 + C\n"
     ]
    }
   ],
   "source": [
    "from sympy import Symbol, integrate, exp\n",
    "import math\n",
    "# https://docs.sympy.org/latest/tutorial/calculus.html?highlight=calculus#integrals\n",
    "x = Symbol('x')\n",
    "f_x = x*exp(5*x**2)\n",
    "\n",
    "val = integrate(f_x, x)\n",
    "print(f\"{val} + C\")"
   ]
  },
  {
   "cell_type": "markdown",
   "metadata": {},
   "source": [
    "<div class=\"alert alert-block alert-success\"><b>Problem 8:</b> \n",
    "    Suppose it is known that, on average, 3 customers per minute visit your website. This being the case, you know that the integral below will calculate the probability that you will have a customer visit in the next m minutes.\n",
    "    </div>"
   ]
  },
  {
   "attachments": {
    "screenshot-e-negative-exponent.PNG": {
     "image/png": "[encoded data removed]"
    }
   },
   "cell_type": "markdown",
   "metadata": {},
   "source": [
    "![screenshot-e-negative-exponent.PNG](attachment:screenshot-e-negative-exponent.PNG)"
   ]
  },
  {
   "cell_type": "markdown",
   "metadata": {},
   "source": [
    "<div class=\"alert alert-block alert-success\">\n",
    "What is the percent probability that a customer will visit your website \n",
    "in the next 70 seconds?\n",
    "\n",
    "</div>"
   ]
  },
  {
   "cell_type": "code",
   "execution_count": 41,
   "metadata": {},
   "outputs": [
    {
     "data": {
      "text/plain": [
       "'96.98%'"
      ]
     },
     "execution_count": 41,
     "metadata": {},
     "output_type": "execute_result"
    }
   ],
   "source": [
    "from sympy import Symbol, integrate\n",
    "prob = integrate((3*exp(-3*t)),(t,0,70/60))\n",
    "f\"{round(prob*100,2)}%\""
   ]
  },
  {
   "cell_type": "markdown",
   "metadata": {},
   "source": [
    "<div class=\"alert alert-block alert-success\">\n",
    "What is the value of the following?\n",
    "</div>"
   ]
  },
  {
   "attachments": {
    "screenshot-e-second.PNG": {
     "image/png": "[encoded data removed]"
    }
   },
   "cell_type": "markdown",
   "metadata": {},
   "source": [
    "![screenshot-e-second.PNG](attachment:screenshot-e-second.PNG)"
   ]
  },
  {
   "cell_type": "code",
   "execution_count": 46,
   "metadata": {},
   "outputs": [
    {
     "data": {
      "text/plain": [
       "'100%'"
      ]
     },
     "execution_count": 46,
     "metadata": {},
     "output_type": "execute_result"
    }
   ],
   "source": [
    "from sympy import Symbol, integrate\n",
    "prob = integrate((3*exp(-3*t)),(t,0,math.inf))\n",
    "f\"{round(prob*100,2)}%\""
   ]
  },
  {
   "cell_type": "code",
   "execution_count": 47,
   "metadata": {},
   "outputs": [
    {
     "data": {
      "text/plain": [
       "'It is a certainty that a customer will eventually visit the website.'"
      ]
     },
     "execution_count": 47,
     "metadata": {},
     "output_type": "execute_result"
    }
   ],
   "source": [
    "f\"It is a certainty that a customer will eventually visit the website.\""
   ]
  }
 ],
 "metadata": {
  "kernelspec": {
   "display_name": "Python 3",
   "language": "python",
   "name": "python3"
  },
  "language_info": {
   "codemirror_mode": {
    "name": "ipython",
    "version": 3
   },
   "file_extension": ".py",
   "mimetype": "text/x-python",
   "name": "python",
   "nbconvert_exporter": "python",
   "pygments_lexer": "ipython3",
   "version": "3.7.6"
  }
 },
 "nbformat": 4,
 "nbformat_minor": 1
}
