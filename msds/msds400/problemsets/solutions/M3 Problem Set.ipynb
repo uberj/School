{
 "cells": [
  {
   "cell_type": "markdown",
   "metadata": {
    "collapsed": false
   },
   "source": [
    "<div class=\"alert alert-block alert-success\"><b>Problem 3: </b>Landon runs a bakery that sells two kinds of pies. Landon knows the bakery must make at least 2 and at most 78 dozens of the Lemon Puckers. The bakery must also make at least 2 and at most 42 dozens of the Mint Breezes. Each tray of Lemon Puckers takes 14 ounces of flour, while each tray of Mint Breezes requires 13 ounces of flour. The bakery only has 1274 ounces of flour available. If dozens of Lemon Puckers generate \\$2.73 in income, and dozens of Mint Breezes generate \\$1.66, how many dozens of the pies should Landon have the bakery make to get the most income?</div>"
   ]
  },
  {
   "cell_type": "markdown",
   "metadata": {
    "collapsed": false
   },
   "source": [
    "<div class=\"alert alert-block alert-info\"><b>Solution:</b>Let x be the number of Lemon Puckers (in dozens) and y be the number of Mint Breezes (in dozens) the bakery should make <br><br>The system of inequalities is as shown below:<br>\n",
    "2 ≤ x ≤ 78 <br>\n",
    "2 ≤ y ≤ 42 <br>\n",
    "14x +13y ≤ 1274 <br>\n",
    "\n",
    "We need to maximize <br>\n",
    "    I = 2.73x + 1.66y\n",
    "</div>"
   ]
  },
  {
   "cell_type": "code",
   "execution_count": 42,
   "metadata": {
    "collapsed": false
   },
   "outputs": [
    {
     "name": "stdout",
     "output_type": "stream",
     "text": [
      "Number (in dozens) of Lemon Puckers = 78, Mint Breezes = 14)\n",
      "Maximum profits are 236.18\n"
     ]
    }
   ],
   "source": [
    "from pulp import LpVariable, LpProblem, LpMaximize, LpStatus, value, LpMinimize\n",
    "\n",
    "# declare your variables\n",
    "x = LpVariable(\"x\", 2, 78) # x>=0\n",
    "y = LpVariable(\"y\", 2, 42) # y>=0\n",
    "\n",
    "# defines the problem\n",
    "prob = LpProblem(\"problem\", LpMaximize)\n",
    "\n",
    "# defines the constraints\n",
    "prob += 14*x + 13*y <= 1274\n",
    "\n",
    "# defines the objective function to maximize\n",
    "prob += 2.73*x + 1.66*y\n",
    "\n",
    "# solve the problem\n",
    "status = prob.solve()\n",
    "LpStatus[status]\n",
    "\n",
    "# print the results (integer values)\n",
    "print(\"Number (in dozens) of Lemon Puckers = \",int(value(x)),\", Mint Breezes = \",int(value(y)),\")\",sep=\"\")\n",
    "\n",
    "print(\"Maximum profits are\",2.73*value(x) + 1.66*value(y))\n"
   ]
  },
  {
   "cell_type": "markdown",
   "metadata": {
    "collapsed": false
   },
   "source": [
    "<div class=\"alert alert-block alert-success\"><b>Problem 10: </b>A company has $10,550 available per month for advertising. Newspaper ads cost \\$190 each and can't run more than 25 times per month. Radio ads cost \\$500 each and can't run more than 32 times per month at this price.<br/>\n",
    "Each newspaper ad reaches 7000 potential customers, and each radio ad reaches 8400 potential customers. The company wants to maximize the number of ad exposures to potential customers.\n",
    "<br/><br/>\n",
    "Use n for number of Newspaper advertisements and r for number of Radio advertisements.\n",
    "\n",
    "Maximize P = \n",
    "subject to <br/>\n",
    "≤25 <br/>\n",
    "≤32 <br/>\n",
    "≤\\$10,550 <br/>\n",
    "\n",
    "    \n",
    "Enter the solution below. If needed, round ads to 1 decimal place and group exposure to the nearest whole person.\n",
    "    <br/>\n",
    "Number of Newspaper ads to run is <br/>\n",
    "Number of Radio ads to run is <br/>\n",
    "Maximum target group exposure is people <br/> \n",
    "</div>\n"
   ]
  },
  {
   "cell_type": "markdown",
   "metadata": {
    "collapsed": false
   },
   "source": [
    "<div class=\"alert alert-block alert-info\"><b>Solution:</b>Let n be the number of newspaper ads and r be the number of radio ads.<br><br>The system of inequalities is as shown below:<br>\n",
    "\n",
    "    \n",
    "n ≤ 25 <br>\n",
    "r ≤ 32 <br>\n",
    "190n + 500r ≤ 10550 <br>\n",
    "\n",
    "We need to maximize ad exposures <br>\n",
    "    P = 7000n + 8400r\n",
    "</div>"
   ]
  },
  {
   "cell_type": "code",
   "execution_count": 54,
   "metadata": {
    "collapsed": false
   },
   "outputs": [
    {
     "name": "stdout",
     "output_type": "stream",
     "text": [
      "Number of newspaper ads = 25, radio ads = 11)\n",
      "Maximum exposure is 272440.0\n"
     ]
    }
   ],
   "source": [
    "from pulp import LpVariable, LpProblem, LpMaximize, LpStatus, value, LpMinimize\n",
    "\n",
    "# declare your variables\n",
    "n = LpVariable(\"n\", 0, 25) # n<=25\n",
    "r = LpVariable(\"r\", 0, 32) # r<=32\n",
    "\n",
    "# defines the problem\n",
    "prob = LpProblem(\"problem\", LpMaximize)\n",
    "\n",
    "# defines the constraints\n",
    "prob += 190*n + 500*r <= 10550\n",
    "\n",
    "# defines the objective function to maximize\n",
    "prob += 70000*n + 8400*r\n",
    "\n",
    "# solve the problem\n",
    "status = prob.solve()\n",
    "LpStatus[status]\n",
    "\n",
    "# print the results (integer values)\n",
    "print(\"Number of newspaper ads = \",int(value(n)),\", radio ads = \",int(value(r)),\")\",sep=\"\")\n",
    "\n",
    "print(\"Maximum exposure is\",7000*value(n) + 8400*value(r))\n"
   ]
  },
  {
   "attachments": {
    "11-table.PNG": {
     "image/PNG": "[encoded data removed]"
    }
   },
   "cell_type": "markdown",
   "metadata": {
    "collapsed": false
   },
   "source": [
    "<div class=\"alert alert-block alert-success\"><b>Problem 11: </b>A factory manufactures three products, A, B, and C. Each product requires the use of two machines, Machine I and Machine II. The total hours available, respectively, on Machine I and Machine II per month are 8,070 and 10,380. The time requirements and profit per unit for each product are listed below.<br/><br/>\n",
    "\n",
    "![11-table.PNG](attachment:11-table.PNG)\n",
    "<br/>    \n",
    "\n",
    "\n",
    "</div>\n"
   ]
  },
  {
   "cell_type": "markdown",
   "metadata": {
    "collapsed": false
   },
   "source": [
    "<div class=\"alert alert-block alert-success\">\n",
    "How many units of each product should be manufactured to maximize profit, and what is the maximum profit?<br/>\n",
    "Start by setting up the linear programming problem, with A, B, and C representing the number of units of each product that are produced.\n",
    "<br/>\n",
    "\n",
    "Maximize P= <br/>\n",
    "subject to: <br/>\n",
    "≤ 8,070 <br/>\n",
    "≤ 10,380 <br/>\n",
    "Enter the solution below. If needed round numbers of items to 1 decimal place and profit to 2 decimal places.<br/>\n",
    "The maximum profit is $ when the company produces:<br/>\n",
    "units of product A<br/>\n",
    "units of product B<br/>\n",
    "units of product C<br/>\n",
    "</div>"
   ]
  },
  {
   "cell_type": "markdown",
   "metadata": {
    "collapsed": false
   },
   "source": [
    "<div class=\"alert alert-block alert-info\"><b>Solution:</b> Let <b>x1</b>,<b>x2</b> and <b>x3</b> be the units of products A, B and C respectively.<br/>\n",
    "\n",
    "Total hours available are Machine I and Machine II respectively.\n",
    "    \n",
    "    Maximize Profit=8x1 + 14x2 + 19x3\n",
    "    subject to\n",
    "    7x1 + 10x2 + 10x3 ≤ 8070\n",
    "    10x1 + 9x2 + 16x3 ≤ 10380\n",
    "    \n",
    "</div>"
   ]
  },
  {
   "cell_type": "code",
   "execution_count": 51,
   "metadata": {
    "collapsed": false
   },
   "outputs": [
    {
     "name": "stdout",
     "output_type": "stream",
     "text": [
      "x1 = 0 , x2 = 361 , x3 = 445 )\n",
      "Maximum profits are $ 13524.43\n"
     ]
    }
   ],
   "source": [
    "from pulp import LpVariable, LpProblem, LpMaximize, LpStatus, value, LpMinimize\n",
    "\n",
    "# declare your variables\n",
    "x1 = LpVariable(\"x1\", 0, None) # x1>=0\n",
    "x2 = LpVariable(\"x2\", 0, None) # x2>=0\n",
    "x3 = LpVariable(\"x3\", 0, None) # x3>=0\n",
    "\n",
    "# defines the problem\n",
    "prob = LpProblem(\"problem\", LpMaximize)\n",
    "\n",
    "# defines the constraints\n",
    "prob += 7*x1 + 10*x2 + 10*x3 <= 8070\n",
    "\n",
    "prob += 10*x1 + 9*x2 + 16*x3 <= 10380\n",
    "\n",
    "# defines the objective function to maximize\n",
    "prob += 8*x1 + 14*x2 + 19*x3\n",
    "\n",
    "# solve the problem\n",
    "status = prob.solve()\n",
    "LpStatus[status]\n",
    "\n",
    "# print the results (integer values)\n",
    "print(\"x1 =\",int(value(x1)),\", x2 =\",int(value(x2)),\", x3 =\",int(value(x3)),\")\")\n",
    "\n",
    "print(\"Maximum profits are $\",round(8*value(x1) + 14*value(x2) + 19*value(x3),2))\n"
   ]
  },
  {
   "cell_type": "markdown",
   "metadata": {
    "collapsed": false
   },
   "source": [
    "<div class=\"alert alert-block alert-success\"><b>Problem 12: </b>A graphic designer designs magazine covers and brochures. Each magazine requires 2 hours of brainstorming and 1 hour of layout. Each brochure requires 2 hours of brainstorming and 3 hours of layout. The company makes \\$100 profit from each magazine cover and \\$250 from each brochure. She has a maximum of 16 hours for brainstorming each week and 16 hours for layout each week.<br/><br/>\n",
    "    \n",
    "How many of each should she design in order to maximize the company's profits?<br/>\n",
    "1) magazine covers<br/>\n",
    "2) brochures<br/>\n",
    "What is the maximum profit? $<br/><br/>\n",
    "</div>"
   ]
  },
  {
   "cell_type": "markdown",
   "metadata": {
    "collapsed": false
   },
   "source": [
    "<div class=\"alert alert-block alert-info\"><b>Solution:</b> Let <b>x</b> be the number of magazine covers and <b>y</b>  be the number of brochures.<br/>\n",
    "\n",
    "This sets up the following system-\n",
    "\n",
    "2x + 2y ≤ 16 <br>\n",
    "x + 3y ≤ 16<br>\n",
    " \n",
    "The profit to maximize can be expressed as follows: <br/>\n",
    "100x + 250y <br/>    \n",
    "    \n",
    "</div>"
   ]
  },
  {
   "cell_type": "code",
   "execution_count": 36,
   "metadata": {
    "collapsed": false
   },
   "outputs": [
    {
     "name": "stdout",
     "output_type": "stream",
     "text": [
      "Number of Magazine Covers = 4, Number of Brochures = 4)\n",
      "Maximum profits are 1400.0\n"
     ]
    }
   ],
   "source": [
    "from pulp import LpVariable, LpProblem, LpMaximize, LpStatus, value, LpMinimize\n",
    "\n",
    "# declare your variables\n",
    "x = LpVariable(\"x\", 0, None) # x>=0\n",
    "y = LpVariable(\"y\", 0, None) # y>=0\n",
    "\n",
    "# defines the problem\n",
    "prob = LpProblem(\"problem\", LpMaximize)\n",
    "\n",
    "# defines the constraints\n",
    "prob += 2*x + 2*y <= 16\n",
    "prob += x + 3*y <= 16\n",
    "\n",
    "# defines the objective function to maximize\n",
    "prob += 100*x + 250*y\n",
    "\n",
    "# solve the problem\n",
    "status = prob.solve()\n",
    "LpStatus[status]\n",
    "\n",
    "# print the results (integer values)\n",
    "print(\"Number of Magazine Covers = \",int(value(x)),\", Number of Brochures = \",int(value(y)),\")\",sep=\"\")\n",
    "\n",
    "print(\"Maximum profits are\",100*value(x) + 250*value(y))\n"
   ]
  },
  {
   "cell_type": "markdown",
   "metadata": {
    "collapsed": false
   },
   "source": [
    "<div class=\"alert alert-block alert-success\"><b>Problem 13: </b>The water-supply manager for Cincinnati needs to supply the city with at least 20 million gallons of potable water per day. The supply may be drawn from the local reservoir or from a pipeline to an adjacent town. The local reservoir has a maximum daily yield of 20 million gallons of potable water, and the pipeline has a maximum daily yield of 14 million gallons. By contract, the pipeline is required to supply a minimum of 13 million gallons per day. If the cost for 1 million gallons of reservoir water is \\$310 and the cost for 1 million gallons of pipeline water is \\$290, how much water should the manager get from each source to minimize daily water costs for the city? What is the minimum daily water cost?\n",
    "</div>"
   ]
  },
  {
   "cell_type": "code",
   "execution_count": 1,
   "metadata": {
    "collapsed": false
   },
   "outputs": [
    {
     "name": "stdout",
     "output_type": "stream",
     "text": [
      "Requirement already satisfied: pulp in c:\\programdata\\anaconda3\\lib\\site-packages (2.2)\n",
      "Requirement already satisfied: amply>=0.1.2 in c:\\programdata\\anaconda3\\lib\\site-packages (from pulp) (0.1.2)\n",
      "Requirement already satisfied: docutils>=0.3 in c:\\programdata\\anaconda3\\lib\\site-packages (from amply>=0.1.2->pulp) (0.16)\n",
      "Requirement already satisfied: pyparsing in c:\\programdata\\anaconda3\\lib\\site-packages (from amply>=0.1.2->pulp) (2.4.6)\n"
     ]
    }
   ],
   "source": [
    "!pip install pulp"
   ]
  },
  {
   "cell_type": "markdown",
   "metadata": {
    "collapsed": false
   },
   "source": [
    "<div class=\"alert alert-block alert-info\">Let <b>x</b> be the amount of water (in million gallons) the manager should get from the local reservoir and <b>y</b>  be the amount of water from the pipeline.<br/>\n",
    "\n",
    "This sets up the following system-\n",
    "    \n",
    "20 ≥ x ≥ 0 <br/>\n",
    "14 ≥ y ≥ 13 <br/>    \n",
    "\n",
    "x + y ≥ 13   \n",
    "    \n",
    "The Costs to minimize can be expressed as follows <br/>\n",
    "310x + 290y <br/>    \n",
    "    \n",
    "</div>"
   ]
  },
  {
   "cell_type": "code",
   "execution_count": 23,
   "metadata": {
    "collapsed": false
   },
   "outputs": [
    {
     "name": "stdout",
     "output_type": "stream",
     "text": [
      "Water from each source (in million gallons) local reservoir=6, pipeline=14)\n",
      "Minimum cost is 5920\n"
     ]
    }
   ],
   "source": [
    "from pulp import LpVariable, LpProblem, LpMaximize, LpStatus, value, LpMinimize\n",
    "\n",
    "# declare your variables\n",
    "x = LpVariable(\"x\", 0, 20) # 20>=x>=0\n",
    "y = LpVariable(\"y\", 13, 14) # 14>=y>=13\n",
    "\n",
    "# defines the problem\n",
    "prob = LpProblem(\"problem\", LpMinimize)\n",
    "\n",
    "# defines the constraint\n",
    "prob += x + y >= 20\n",
    "\n",
    "# defines the objective function to maximize\n",
    "prob += 310*x + 290*y\n",
    "\n",
    "# solve the problem\n",
    "status = prob.solve()\n",
    "LpStatus[status]\n",
    "\n",
    "# print the results (integer values)\n",
    "print(\"Water from each source (in million gallons) local reservoir=\",int(value(x)),\", pipeline=\",int(value(y)),\")\",sep=\"\")\n",
    "\n",
    "print(\"Minimum cost is\",int(310*value(x) +290*value(y)))\n"
   ]
  },
  {
   "cell_type": "markdown",
   "metadata": {
    "collapsed": false
   },
   "source": [
    "<div class=\"alert alert-block alert-success\"><b>Problem 14:</b>\n",
    "A diet is to contain at least 2950 mg vitamin C, 2890 mg Calcium, and 2430 calories every day. Two foods, a dairy-based meal and a vegan option are to fulfill these requirements. Each ounce of the dairy-based meal provides 50 mg vitamin C, 30 mg Calcium, and 10 calories. Each ounce of the vegan option provides 20 mg vitamin C, 40 mg Calcium, and 50 calories. If the dairy-based meal costs \\$0.33 per ounce and the vegan option costs \\$0.40 per ounce, how many ounces of each food should be purchased to minimize costs? What is that minimum cost (per day)?\n",
    "</div>"
   ]
  },
  {
   "cell_type": "markdown",
   "metadata": {
    "collapsed": false
   },
   "source": [
    "<div class=\"alert alert-block alert-info\">Let <b>x</b> be the the ounces of the dairy-based meal and <b>y</b> be the ounces of the vegan option.<br/>\n",
    "    \n",
    "50x + 20y ≥ 2950 <br/>\n",
    "20x + 40y ≥ 2890 <br/>\n",
    "10x + 50y ≥ 2430 <br/>    \n",
    "    x ≥ 0, y ≥ 0 <br/>\n",
    "\n",
    "The Costs to minimize can be expressed as follows <br/>\n",
    "0.33x + 0.4y <br/>    \n",
    "    \n",
    "</div>"
   ]
  },
  {
   "cell_type": "code",
   "execution_count": 15,
   "metadata": {
    "collapsed": false
   },
   "outputs": [
    {
     "name": "stdout",
     "output_type": "stream",
     "text": [
      "He should buy 43 ounces dairy-based option and  40  of the vegan one.\n",
      "The minimum cost is $ 30.19\n"
     ]
    }
   ],
   "source": [
    "from pulp import LpVariable, LpProblem, LpMaximize, LpStatus, value, LpMinimize\n",
    "\n",
    "# declare your variables\n",
    "x = LpVariable(\"x\", 0, None) # x>=0\n",
    "y = LpVariable(\"y\", 0, None) # y>=0\n",
    "\n",
    "# defines the problem\n",
    "prob = LpProblem(\"problem\", LpMinimize)\n",
    "\n",
    "# defines the constraints\n",
    "prob += 50*x + 20*y >= 2950\n",
    "prob += 30*x + 40*y >= 2890 \n",
    "prob += 10*x + 50*y >= 2430 \n",
    "\n",
    "# defines the objective function to maximize\n",
    "prob += 0.33*x + 0.40*y\n",
    "\n",
    "# solve the problem\n",
    "status = prob.solve()\n",
    "LpStatus[status]\n",
    "\n",
    "# print the results (integer values)\n",
    "print(\"He should buy\",int(value(x)),\"ounces dairy-based option and \",int(value(y)),\" of the vegan one.\")\n",
    "print(\"The minimum cost is $\",round((0.33*value(x) + 0.4* value(y)),2))\n"
   ]
  },
  {
   "cell_type": "markdown",
   "metadata": {
    "collapsed": false
   },
   "source": [
    "<div class=\"alert alert-block alert-success\"><b> Problem 15.</b>\n",
    "A company's lawn seed mixtures contain three types of seeds: bluegrass, rye, and Bermuda. The costs per pound of the\n",
    "three types are 11 cents, 14 cents, and 6 cents, respectively. In each batch there must be at least 20% bluegrass seed\n",
    "and the amount of must be no more than two-thirds the amount of rye. To fill current orders the company must\n",
    "make at least 5000 pounds of the mixture. How much of each kind of seed should be used to minimize cost?    \n",
    "</div>"
   ]
  },
  {
   "cell_type": "markdown",
   "metadata": {
    "collapsed": false
   },
   "source": [
    "<div class=\"alert alert-block alert-info\">\n",
    "   **Solution:**Let x be the pounds of bluegrass seed <br>\n",
    "Let y be the pounds of rye seed <br>\n",
    "Let z be the pounds of Bermuda seed <br>\n",
    "\n",
    "Cost to be minimized = 0.11 x + 0.14 y + 0.06 z <br>\n",
    "Subject to:\n",
    "* x ≥ 0.20(x + y + z) \n",
    "* z ≤ 2/3 y \n",
    "* x + y + z ≥ 5000 \n",
    "* x ≥ 0 y ≥ 0 z ≥ 0 \n",
    " \n",
    "</div>"
   ]
  },
  {
   "cell_type": "code",
   "execution_count": 8,
   "metadata": {
    "collapsed": false
   },
   "outputs": [
    {
     "name": "stdout",
     "output_type": "stream",
     "text": [
      "Pounds of Bluegrass to be used = 1000.0\n",
      "Pounds of Rye to be used = 2400.0\n",
      "Pounds of Bermuda to be used = 1600.0\n",
      "Minimum Cost is 542.0\n"
     ]
    }
   ],
   "source": [
    "from pulp import LpVariable, LpProblem, LpMaximize, GLPK, LpStatus, value, LpMinimize\n",
    "\n",
    "model = LpProblem(\"problem\", LpMinimize)\n",
    "x = LpVariable(\"x\", 0, None) # x >= 0\n",
    "y = LpVariable(\"y\", 0, None) # y >= 0\n",
    "z = LpVariable(\"z\", 0, None) # z >= 0\n",
    "\n",
    "model += 0.80*x - 0.20*y - 0.20*z >= 0\n",
    "model += 2/3*y - z >= 0\n",
    "model += x + y + z >= 5000\n",
    "\n",
    "model += 0.11*x + 0.14*y + 0.06*z\n",
    "\n",
    "# solve the problem\n",
    "status = model.solve()\n",
    "LpStatus[status]\n",
    "\n",
    "print('Pounds of Bluegrass to be used = {}'.format(value(x),'%d'))\n",
    "print('Pounds of Rye to be used = {}'.format(value(y),'%d'))\n",
    "print('Pounds of Bermuda to be used = {}'.format(value(z),'%d'))\n",
    "\n",
    "minimum_cost = 0.11 * value(x) + 0.14 * value(y) + 0.06 * value(z) \n",
    "\n",
    "print('Minimum Cost is {}'.format(minimum_cost,'%.2f'))\n"
   ]
  }
 ],
 "metadata": {
  "kernelspec": {
   "display_name": "Python 3 (system-wide)",
   "language": "python",
   "metadata": {
    "cocalc": {
     "description": "Python 3 programming language",
     "priority": 100,
     "url": "https://www.python.org/"
    }
   },
   "name": "python3"
  },
  "language_info": {
   "codemirror_mode": {
    "name": "ipython",
    "version": 3
   },
   "file_extension": ".py",
   "mimetype": "text/x-python",
   "name": "python",
   "nbconvert_exporter": "python",
   "pygments_lexer": "ipython3",
   "version": "3.8.2"
  },
  "varInspector": {
   "cols": {
    "lenName": 16,
    "lenType": 16,
    "lenVar": 40
   },
   "kernels_config": {
    "python": {
     "delete_cmd_postfix": "",
     "delete_cmd_prefix": "del ",
     "library": "var_list.py",
     "varRefreshCmd": "print(var_dic_list())"
    },
    "r": {
     "delete_cmd_postfix": ") ",
     "delete_cmd_prefix": "rm(",
     "library": "var_list.r",
     "varRefreshCmd": "cat(var_dic_list()) "
    }
   },
   "types_to_exclude": [
    "module",
    "function",
    "builtin_function_or_method",
    "instance",
    "_Feature"
   ],
   "window_display": false
  }
 },
 "nbformat": 4,
 "nbformat_minor": 4
}