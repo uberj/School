{
 "cells": [
  {
   "cell_type": "code",
   "execution_count": 1,
   "metadata": {
    "collapsed": false
   },
   "outputs": [
    {
     "name": "stdout",
     "output_type": "stream",
     "text": [
      "Probability of a male is 0.4865\n",
      "Probability of an A is 0.3243\n"
     ]
    }
   ],
   "source": [
    "# 1\n",
    "males = 36\n",
    "total = 74\n",
    "\n",
    "p_male = males/total\n",
    "print(f\"Probability of a male is {p_male:.4}\")\n",
    "\n",
    "a = 24\n",
    "p_a = a/total\n",
    "print(f\"Probability of an A is {p_a:.4}\")"
   ]
  },
  {
   "cell_type": "code",
   "execution_count": 2,
   "metadata": {
    "collapsed": false
   },
   "outputs": [
    {
     "name": "stdout",
     "output_type": "stream",
     "text": [
      "Randomly answering the exam gives a probability of 0.97 for getting at least one question wrong.\n"
     ]
    }
   ],
   "source": [
    "# 2  \n",
    "p_succ = .5\n",
    "q_count = 5\n",
    "\n",
    "p_all_correct = p_succ ** q_count\n",
    "p_at_least_one_wrong = 1 - p_all_correct\n",
    "\n",
    "print(f\"Randomly answering the exam gives a probability of {p_at_least_one_wrong:.2} for getting at least one question wrong.\")\n"
   ]
  },
  {
   "cell_type": "code",
   "execution_count": 54,
   "metadata": {
    "collapsed": false
   },
   "outputs": [
    {
     "name": "stdout",
     "output_type": "stream",
     "text": [
      "The probability that someone was wearing a seatbelt given that they were ejected is 0.4473684210526315\n",
      "The probability that someone was not wearing a seatbelt given that they were not ejected is 0.20844686648501365\n"
     ]
    }
   ],
   "source": [
    "# 10\n",
    "\n",
    "# Prob seatbelts\n",
    "p_s = .7\n",
    "\n",
    "# Seatbelts and ejection\n",
    "p_s_u_e = .17\n",
    "\n",
    "# No Seatbelts and ejection\n",
    "p_n_u_e = .49\n",
    "\n",
    "# Probability of ejection\n",
    "p_e = (p_s * p_s_u_e) + (1 - p_s) * p_n_u_e\n",
    "\n",
    "# Probability of non-ejection\n",
    "p_z = 1 - p_e\n",
    "\n",
    "# P(A|B) = P(B|A) * P(A) / P(B)\n",
    "p_se = p_s_u_e * p_s / p_e\n",
    "print(f\"The probability that someone was wearing a seatbelt given that they were ejected is {p_se}\")\n",
    "\n",
    "# Not wearing seatbelt, not ejected\n",
    "p_z_u_n = 1 - p_n_u_e\n",
    "\n",
    "# No seatbelt\n",
    "p_n = 1 - p_s\n",
    "\n",
    "# P(N | Z) = P(Z | N) * P(N) / P(Z)\n",
    "p_nz = p_z_u_n * p_n / p_z\n",
    "\n",
    "print(f\"The probability that someone was not wearing a seatbelt given that they were not ejected is {p_nz}\")"
   ]
  },
  {
   "cell_type": "code",
   "execution_count": 4,
   "metadata": {
    "collapsed": false
   },
   "outputs": [
    {
     "name": "stdout",
     "output_type": "stream",
     "text": [
      "There are a total of 67600000 possible with 5 numbers and 2 letters\n"
     ]
    }
   ],
   "source": [
    "# 11\n",
    "n_count = 10\n",
    "l_count = 26\n",
    "\n",
    "n = 5  \n",
    "l = 2\n",
    "\n",
    "tot_plates = n_count ** n * l_count ** l\n",
    "print(f\"There are a total of {tot_plates} possible with 5 numbers and 2 letters\")\n",
    "\n"
   ]
  },
  {
   "cell_type": "code",
   "execution_count": 5,
   "metadata": {
    "collapsed": false
   },
   "outputs": [
    {
     "name": "stdout",
     "output_type": "stream",
     "text": [
      "The expected value of each warranty is $44.6\n"
     ]
    }
   ],
   "source": [
    "# 15\n",
    "p_failure = .008\n",
    "cost = 300\n",
    "\n",
    "warranty_payout = p_failure * cost\n",
    "warranty_income = 47\n",
    "\n",
    "value = warranty_income - warranty_payout\n",
    "r_value = round(value, 2)\n",
    "print(f\"The expected value of each warranty is ${r_value:2}\")"
   ]
  }
 ],
 "metadata": {
  "kernelspec": {
   "display_name": "Python 3 (system-wide)",
   "language": "python",
   "metadata": {
    "cocalc": {
     "description": "Python 3 programming language",
     "priority": 100,
     "url": "https://www.python.org/"
    }
   },
   "name": "python3"
  },
  "language_info": {
   "codemirror_mode": {
    "name": "ipython",
    "version": 3
   },
   "file_extension": ".py",
   "mimetype": "text/x-python",
   "name": "python",
   "nbconvert_exporter": "python",
   "pygments_lexer": "ipython3",
   "version": "3.8.2"
  },
  "orig_nbformat": 2
 },
 "nbformat": 4,
 "nbformat_minor": 4
}