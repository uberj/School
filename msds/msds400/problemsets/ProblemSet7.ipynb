{
 "cells": [
  {
   "cell_type": "code",
   "execution_count": 17,
   "id": "posted-operation",
   "metadata": {},
   "outputs": [],
   "source": [
    "from sympy import *\n",
    "from sympy.abc import x, t\n",
    "init_printing()\n",
    "def full_simplify(expr):\n",
    "    cur = expr\n",
    "    while True:\n",
    "        nxt = simplify(cur)\n",
    "        if cur == nxt:\n",
    "            return cur\n",
    "        cur = nxt"
   ]
  },
  {
   "cell_type": "code",
   "execution_count": 19,
   "id": "inner-desire",
   "metadata": {},
   "outputs": [
    {
     "data": {
      "image/png": "[encoded data removed]",
      "text/latex": [
       "$\\displaystyle \\left( \\frac{t + 3}{\\left(t^{2} + 6 t\\right)^{2}}, \\  - \\frac{1}{2 t \\left(t + 6\\right)}\\right)$"
      ],
      "text/plain": [
       "⎛   t + 3         -1     ⎞\n",
       "⎜───────────, ───────────⎟\n",
       "⎜          2  2⋅t⋅(t + 6)⎟\n",
       "⎜⎛ 2      ⎞              ⎟\n",
       "⎝⎝t  + 6⋅t⎠              ⎠"
      ]
     },
     "execution_count": 19,
     "metadata": {},
     "output_type": "execute_result"
    }
   ],
   "source": [
    "expr = (t+3)/(t**2 + 6*t)**2\n",
    "expr, full_simplify(integrate(expr))"
   ]
  },
  {
   "cell_type": "code",
   "execution_count": 13,
   "id": "expanded-amber",
   "metadata": {},
   "outputs": [
    {
     "data": {
      "image/png": "[encoded data removed]",
      "text/latex": [
       "$\\displaystyle \\left( \\frac{2 x - 3}{x^{2} - 3 x}, \\  \\log{\\left(x \\left(x - 3\\right) \\right)}\\right)$"
      ],
      "text/plain": [
       "⎛2⋅x - 3                 ⎞\n",
       "⎜────────, log(x⋅(x - 3))⎟\n",
       "⎜ 2                      ⎟\n",
       "⎝x  - 3⋅x                ⎠"
      ]
     },
     "execution_count": 13,
     "metadata": {},
     "output_type": "execute_result"
    }
   ],
   "source": [
    "expr = (2*x - 3)/(x**2 - 3*x)\n",
    "expr, full_simplify(integrate(expr))"
   ]
  },
  {
   "cell_type": "code",
   "execution_count": 31,
   "id": "exact-clear",
   "metadata": {},
   "outputs": [
    {
     "data": {
      "image/png": "[encoded data removed]",
      "text/latex": [
       "$\\displaystyle \\left( x^{2} e^{x^{3}}, \\  \\frac{e^{x^{3}}}{3}\\right)$"
      ],
      "text/plain": [
       "⎛           ⎛ 3⎞⎞\n",
       "⎜    ⎛ 3⎞   ⎝x ⎠⎟\n",
       "⎜ 2  ⎝x ⎠  ℯ    ⎟\n",
       "⎜x ⋅ℯ    , ─────⎟\n",
       "⎝            3  ⎠"
      ]
     },
     "execution_count": 31,
     "metadata": {},
     "output_type": "execute_result"
    }
   ],
   "source": [
    "expr = (x**2) * exp(x**3)\n",
    "expr, manualintegrate(expr, x)"
   ]
  },
  {
   "cell_type": "code",
   "execution_count": 36,
   "id": "associate-tomorrow",
   "metadata": {},
   "outputs": [
    {
     "data": {
      "image/png": "[encoded data removed]",
      "text/latex": [
       "$\\displaystyle \\left( x \\sqrt{1 - x}, \\  \\frac{2 \\left(1 - x\\right)^{\\frac{5}{2}}}{5} - \\frac{2 \\left(1 - x\\right)^{\\frac{3}{2}}}{3}\\right)$"
      ],
      "text/plain": [
       "⎛                      5/2            3/2⎞\n",
       "⎜    _______  2⋅(1 - x)      2⋅(1 - x)   ⎟\n",
       "⎜x⋅╲╱ 1 - x , ──────────── - ────────────⎟\n",
       "⎝                  5              3      ⎠"
      ]
     },
     "execution_count": 36,
     "metadata": {},
     "output_type": "execute_result"
    }
   ],
   "source": [
    "expr = x * sqrt(1-x)\n",
    "from sympy.integrals.manualintegrate import manualintegrate, integral_steps\n",
    "from sympy.integrals.heurisch import heurisch\n",
    "expr, manualintegrate(expr, x)"
   ]
  },
  {
   "cell_type": "code",
   "execution_count": 51,
   "id": "furnished-marketing",
   "metadata": {},
   "outputs": [
    {
     "data": {
      "image/png": "[encoded data removed]",
      "text/latex": [
       "$\\displaystyle \\left( 6 x^{2} - 3 x + 5, \\  \\int\\limits_{2}^{5} \\left(6 x^{2} - 3 x + 5\\right)\\, dx, \\  \\frac{435}{2}\\right)$"
      ],
      "text/plain": [
       "⎛                5                           ⎞\n",
       "⎜                ⌠                           ⎟\n",
       "⎜   2            ⎮ ⎛   2          ⎞          ⎟\n",
       "⎜6⋅x  - 3⋅x + 5, ⎮ ⎝6⋅x  - 3⋅x + 5⎠ dx, 435/2⎟\n",
       "⎜                ⌡                           ⎟\n",
       "⎝                2                           ⎠"
      ]
     },
     "execution_count": 51,
     "metadata": {},
     "output_type": "execute_result"
    }
   ],
   "source": [
    "expr = 6*x**2 - 3*x + 5\n",
    "a, b = 2, 5\n",
    "expr, manualintegrate(expr, (x, a, b)), integrate(expr, (x, a, b))"
   ]
  },
  {
   "cell_type": "code",
   "execution_count": 53,
   "id": "retained-purse",
   "metadata": {},
   "outputs": [
    {
     "data": {
      "image/png": "[encoded data removed]",
      "text/latex": [
       "$\\displaystyle \\left( \\frac{1}{x}, \\  \\log{\\left(2 \\right)}\\right)$"
      ],
      "text/plain": [
       "⎛1        ⎞\n",
       "⎜─, log(2)⎟\n",
       "⎝x        ⎠"
      ]
     },
     "execution_count": 53,
     "metadata": {},
     "output_type": "execute_result"
    }
   ],
   "source": [
    "expr = 1/x\n",
    "a, b = 1, 2\n",
    "expr, integrate(expr, (x, a, b))"
   ]
  },
  {
   "cell_type": "code",
   "execution_count": 57,
   "id": "portuguese-eleven",
   "metadata": {},
   "outputs": [
    {
     "data": {
      "image/png": "[encoded data removed]",
      "text/latex": [
       "$\\displaystyle \\left( x \\sqrt{25 - x^{2}}, \\  \\frac{125}{3}\\right)$"
      ],
      "text/plain": [
       "⎛     _________       ⎞\n",
       "⎜    ╱       2        ⎟\n",
       "⎝x⋅╲╱  25 - x  , 125/3⎠"
      ]
     },
     "execution_count": 57,
     "metadata": {},
     "output_type": "execute_result"
    }
   ],
   "source": [
    "expr = x*sqrt(25 - x**2)\n",
    "a, b = 0, 5\n",
    "expr, integrate(expr, (x, a, b))"
   ]
  },
  {
   "cell_type": "code",
   "execution_count": 58,
   "id": "remarkable-genetics",
   "metadata": {},
   "outputs": [
    {
     "data": {
      "image/png": "[encoded data removed]",
      "text/latex": [
       "$\\displaystyle 16.0$"
      ],
      "text/plain": [
       "16.0"
      ]
     },
     "execution_count": 58,
     "metadata": {},
     "output_type": "execute_result"
    }
   ],
   "source": [
    "expr = x**2 - 4\n",
    "abs(float(integrate(expr, (x, 0, 2)))) + float(integrate(expr, (x, 2, 4)))"
   ]
  },
  {
   "cell_type": "code",
   "execution_count": 60,
   "id": "auburn-hazard",
   "metadata": {},
   "outputs": [
    {
     "data": {
      "image/png": "[encoded data removed]",
      "text/latex": [
       "$\\displaystyle \\left( 2 x e^{- x^{2}}, \\  1\\right)$"
      ],
      "text/plain": [
       "⎛       2   ⎞\n",
       "⎜     -x    ⎟\n",
       "⎝2⋅x⋅ℯ   , 1⎠"
      ]
     },
     "execution_count": 60,
     "metadata": {},
     "output_type": "execute_result"
    }
   ],
   "source": [
    "expr = 2*x*exp(-x**2)\n",
    "a, b = 0, oo\n",
    "expr, integrate(expr, (x, a, b))"
   ]
  },
  {
   "cell_type": "code",
   "execution_count": 61,
   "id": "mighty-artist",
   "metadata": {},
   "outputs": [
    {
     "data": {
      "image/png": "[encoded data removed]",
      "text/latex": [
       "$\\displaystyle \\left( 2 x e^{- x^{2}}, \\  0.221199216928595\\right)$"
      ],
      "text/plain": [
       "⎛       2                   ⎞\n",
       "⎜     -x                    ⎟\n",
       "⎝2⋅x⋅ℯ   , 0.221199216928595⎠"
      ]
     },
     "execution_count": 61,
     "metadata": {},
     "output_type": "execute_result"
    }
   ],
   "source": [
    "expr = 2*x*exp(-x**2)\n",
    "a, b = 0, 0.5\n",
    "expr, integrate(expr, (x, a, b))"
   ]
  },
  {
   "cell_type": "code",
   "execution_count": 75,
   "id": "organizational-triple",
   "metadata": {},
   "outputs": [
    {
     "name": "stdout",
     "output_type": "stream",
     "text": [
      "expr, limit, mu, variance, std-deviation\n"
     ]
    },
    {
     "data": {
      "image/png": "[encoded data removed]",
      "text/latex": [
       "$\\displaystyle \\left( 0.115384615384615 x^{2}, \\  1.0, \\  2.30769230769231, \\  0.259171597633136, \\  0.509088987931517\\right)$"
      ],
      "text/plain": [
       "⎛                   2                                                         \n",
       "⎝0.115384615384615⋅x , 1.0, 2.30769230769231, 0.259171597633136, 0.50908898793\n",
       "\n",
       "    ⎞\n",
       "1517⎠"
      ]
     },
     "execution_count": 75,
     "metadata": {},
     "output_type": "execute_result"
    }
   ],
   "source": [
    "expr = (3/26)*x**2\n",
    "a, b = 1, 3\n",
    "mu = integrate((expr)*x, (x, a, b))\n",
    "s_2 = integrate((expr)*(x-mu)**2, (x, a, b))\n",
    "print(\"expr, limit, mu, variance, std-deviation\")\n",
    "expr, integrate(expr, (x, a, b)), mu, s_2, sqrt(s_2)"
   ]
  },
  {
   "cell_type": "code",
   "execution_count": 83,
   "id": "binding-arrest",
   "metadata": {},
   "outputs": [
    {
     "name": "stdout",
     "output_type": "stream",
     "text": [
      "expr, limit, mu, variance, std-deviation\n"
     ]
    },
    {
     "data": {
      "image/png": "[encoded data removed]",
      "text/latex": [
       "$\\displaystyle \\left( \\frac{1}{x \\log{\\left(20 \\right)}}, \\  1, \\  6.34235581321135, \\  26.3692587773434, \\  5.13510065893001\\right)$"
      ],
      "text/plain": [
       "⎛    1                                                                 ⎞\n",
       "⎜─────────, 1, 6.342355813211347, 26.369258777343376, 5.135100658930005⎟\n",
       "⎝x⋅log(20)                                                             ⎠"
      ]
     },
     "execution_count": 83,
     "metadata": {},
     "output_type": "execute_result"
    }
   ],
   "source": [
    "expr = 1/(ln(20)*x)\n",
    "a, b = 1, 20\n",
    "mu = integrate((expr)*x, (x, a, b))\n",
    "var = integrate((expr)*(x-mu)**2, (x, a, b))\n",
    "stdev = sqrt(var)\n",
    "print(\"expr, limit, mu, variance, std-deviation\")\n",
    "expr, integrate(expr, (x, a, b)), float(mu), float(var), float(stdev)"
   ]
  },
  {
   "cell_type": "code",
   "execution_count": 88,
   "id": "smoking-glasgow",
   "metadata": {},
   "outputs": [
    {
     "name": "stdout",
     "output_type": "stream",
     "text": [
      "[1.2072551542813414, 11.477456472141352]\n"
     ]
    },
    {
     "data": {
      "image/png": "[encoded data removed]",
      "text/latex": [
       "$\\displaystyle 0.751747914645532$"
      ],
      "text/plain": [
       "0.7517479146455317"
      ]
     },
     "execution_count": 88,
     "metadata": {},
     "output_type": "execute_result"
    }
   ],
   "source": [
    "u = float(mu - stdev)\n",
    "v = float(mu + stdev)\n",
    "print(f\"[{u}, {v}]\")\n",
    "float(integrate(expr, (x, u, v)))"
   ]
  },
  {
   "cell_type": "code",
   "execution_count": 97,
   "id": "million-impossible",
   "metadata": {},
   "outputs": [
    {
     "name": "stdout",
     "output_type": "stream",
     "text": [
      "integral from (a, b): 0.9932620530009145\n",
      "mu: 20.0\n",
      "variance: 400.0\n",
      "stdev: 20.0\n"
     ]
    },
    {
     "data": {
      "image/png": "[encoded data removed]",
      "text/latex": [
       "$\\displaystyle 0.05 e^{- \\frac{x}{20}}$"
      ],
      "text/plain": [
       "      -x \n",
       "      ───\n",
       "       20\n",
       "0.05⋅ℯ   "
      ]
     },
     "execution_count": 97,
     "metadata": {},
     "output_type": "execute_result"
    }
   ],
   "source": [
    "def analyze_pdf(f, x, a=0, b=oo):\n",
    "    mu = integrate((f)*x, (x, a, oo))\n",
    "    var = integrate((f)*(x-mu)**2, (x, a, oo))\n",
    "    stdev = sqrt(var)\n",
    "    print(f\"integral from (a, b): {float(integrate(f, (x, a, b)))}\")\n",
    "    print(f\"mu: {float(mu)}\")\n",
    "    print(f\"variance: {float(var)}\")\n",
    "    print(f\"stdev: {float(stdev)}\")\n",
    "    return f\n",
    "analyze_pdf((1/20)*exp(-x/20), x, b=100)"
   ]
  },
  {
   "cell_type": "code",
   "execution_count": 153,
   "id": "pending-introduction",
   "metadata": {},
   "outputs": [],
   "source": [
    "from scipy.stats import norm"
   ]
  },
  {
   "cell_type": "code",
   "execution_count": 146,
   "id": "suffering-bronze",
   "metadata": {},
   "outputs": [
    {
     "name": "stdout",
     "output_type": "stream",
     "text": [
      "AUC up to -0.5 = 0.6914624612740131\n"
     ]
    }
   ],
   "source": [
    "mu = 75\n",
    "std = 16\n",
    "zscore = lambda z: (z - mu)/std\n",
    "zs = zscore(67)\n",
    "print(f\"AUC up to {zs} = {1 - norm.cdf(zs)}\")"
   ]
  },
  {
   "cell_type": "code",
   "execution_count": 147,
   "id": "focal-following",
   "metadata": {},
   "outputs": [
    {
     "data": {
      "image/png": "[encoded data removed]",
      "text/latex": [
       "$\\displaystyle 0.186543328677332$"
      ],
      "text/plain": [
       "0.18654332867733225"
      ]
     },
     "execution_count": 147,
     "metadata": {},
     "output_type": "execute_result"
    }
   ],
   "source": [
    "mu = 75\n",
    "std = 16\n",
    "zscore = lambda z: (z - mu)/std\n",
    "norm.cdf(zscore(70)) - norm.cdf(zscore(61))"
   ]
  },
  {
   "cell_type": "code",
   "execution_count": 152,
   "id": "prime-respondent",
   "metadata": {},
   "outputs": [
    {
     "data": {
      "image/png": "[encoded data removed]",
      "text/latex": [
       "$\\displaystyle \\left( 61.5340602628334, \\  88.4659397371666\\right)$"
      ],
      "text/plain": [
       "(61.53406026283337, 88.46593973716662)"
      ]
     },
     "execution_count": 152,
     "metadata": {},
     "output_type": "execute_result"
    }
   ],
   "source": [
    "inv_zscore = lambda x: x * std  + mu\n",
    "inv_zscore(norm.ppf(.20)), inv_zscore(norm.ppf(.80))"
   ]
  },
  {
   "cell_type": "code",
   "execution_count": 323,
   "id": "proof-surfing",
   "metadata": {},
   "outputs": [
    {
     "data": {
      "image/png": "[encoded data removed]",
      "text/latex": [
       "$\\displaystyle 1.0$"
      ],
      "text/plain": [
       "1.0"
      ]
     },
     "execution_count": 323,
     "metadata": {},
     "output_type": "execute_result"
    }
   ],
   "source": [
    "# Empirical Rule\n",
    "# 68% of data between 1 std from mean (u-std, u+std)\n",
    "# 95% of data between 2 std from mean (u-2*std, u+2*std)\n",
    "# 99.7% of data between 3 std from mean (u-3*std, u+3*std)\n",
    "(64-55)/9\n",
    "#95/2"
   ]
  },
  {
   "cell_type": "code",
   "execution_count": 157,
   "id": "reflected-lancaster",
   "metadata": {},
   "outputs": [
    {
     "data": {
      "image/png": "[encoded data removed]",
      "text/latex": [
       "$\\displaystyle 0.157305355899827$"
      ],
      "text/plain": [
       "0.15730535589982697"
      ]
     },
     "execution_count": 157,
     "metadata": {},
     "output_type": "execute_result"
    }
   ],
   "source": [
    "from scipy.stats import norm\n",
    "mu = 78\n",
    "std = 6\n",
    "zscore = lambda z: (z - mu)/std\n",
    "norm.cdf(zscore(96)) - norm.cdf(zscore(84))"
   ]
  },
  {
   "cell_type": "code",
   "execution_count": 344,
   "id": "annual-region",
   "metadata": {},
   "outputs": [
    {
     "name": "stdout",
     "output_type": "stream",
     "text": [
      "L6: 528\n",
      "R6: 642\n",
      "M3: 600\n"
     ]
    }
   ],
   "source": [
    "ts = [0,3,6,9,12,15,18]\n",
    "vs = [0,7,23,42,53,51,38]\n",
    "dt = 3\n",
    "# using 4 because its 4 seconds between each step\n",
    "print(f\"L6: {sum([dt*v for v in vs[:-1]])}\")\n",
    "print(f\"R6: {sum([dt*v for v in vs[1:]])}\")\n",
    "print(f\"M3: {sum([7*dt*2 + 42*dt*2 + 51*dt*2])}\")"
   ]
  },
  {
   "cell_type": "code",
   "execution_count": 185,
   "id": "excited-causing",
   "metadata": {},
   "outputs": [
    {
     "data": {
      "image/png": "[encoded data removed]",
      "text/latex": [
       "$\\displaystyle \\left[ 4, \\  4, \\  4, \\  4, \\  4, \\  4\\right]$"
      ],
      "text/plain": [
       "[4, 4, 4, 4, 4, 4]"
      ]
     },
     "execution_count": 185,
     "metadata": {},
     "output_type": "execute_result"
    }
   ],
   "source": [
    "[(ts[i+1]-ts[i]) for i in range(len(vs) - 1)]"
   ]
  },
  {
   "cell_type": "code",
   "execution_count": 256,
   "id": "improved-insurance",
   "metadata": {},
   "outputs": [
    {
     "data": {
      "image/png": "[encoded data removed]",
      "text/latex": [
       "$\\displaystyle \\left( \\sqrt{t^{3} + 64}, \\  \\frac{8 t \\Gamma\\left(\\frac{1}{3}\\right) {{}_{2}F_{1}\\left(\\begin{matrix} - \\frac{1}{2}, \\frac{1}{3} \\\\ \\frac{4}{3} \\end{matrix}\\middle| {\\frac{t^{3} e^{i \\pi}}{64}} \\right)}}{3 \\Gamma\\left(\\frac{4}{3}\\right)}\\right)$"
      ],
      "text/plain": [
       "⎛                              ⎛          │  3  ⅈ⋅π⎞⎞\n",
       "⎜                          ┌─  ⎜-1/2, 1/3 │ t ⋅ℯ   ⎟⎟\n",
       "⎜   _________  8⋅t⋅Γ(1/3)⋅ ├─  ⎜          │ ───────⎟⎟\n",
       "⎜  ╱  3                   2╵ 1 ⎝   4/3    │    64  ⎠⎟\n",
       "⎜╲╱  t  + 64 , ─────────────────────────────────────⎟\n",
       "⎝                             3⋅Γ(4/3)              ⎠"
      ]
     },
     "execution_count": 256,
     "metadata": {},
     "output_type": "execute_result"
    }
   ],
   "source": [
    "expr=sqrt(t**3 + 4**3)\n",
    "\n",
    "expr, integrate(expr, t)"
   ]
  },
  {
   "cell_type": "code",
   "execution_count": 221,
   "id": "caroline-freeze",
   "metadata": {},
   "outputs": [
    {
     "data": {
      "image/png": "[encoded data removed]",
      "text/latex": [
       "$\\displaystyle \\left( - 180 x^{2} + 600 x + 500, \\  740\\right)$"
      ],
      "text/plain": [
       "⎛       2                   ⎞\n",
       "⎝- 180⋅x  + 600⋅x + 500, 740⎠"
      ]
     },
     "execution_count": 221,
     "metadata": {},
     "output_type": "execute_result"
    }
   ],
   "source": [
    "expr = 500+600*x-180*x**2\n",
    "expr, integrate(expr, (x, 0, 1))"
   ]
  },
  {
   "cell_type": "code",
   "execution_count": 246,
   "id": "behind-consumption",
   "metadata": {},
   "outputs": [
    {
     "data": {
      "image/png": "[encoded data removed]",
      "text/latex": [
       "$\\displaystyle \\left( - 0.001 x^{2} + 0.1 x, \\  18.3356666666667\\right)$"
      ],
      "text/plain": [
       "⎛         2                          ⎞\n",
       "⎝- 0.001⋅x  + 0.1⋅x, 18.3356666666667⎠"
      ]
     },
     "execution_count": 246,
     "metadata": {},
     "output_type": "execute_result"
    }
   ],
   "source": [
    "expr = -0.001*x**2 + 0.1*x\n",
    "expr, integrate(expr, (x, 0, 7)) + 16"
   ]
  },
  {
   "cell_type": "code",
   "execution_count": 248,
   "id": "fabulous-productivity",
   "metadata": {},
   "outputs": [
    {
     "data": {
      "image/png": "[encoded data removed]",
      "text/latex": [
       "$\\displaystyle \\left( \\frac{8}{t + 1} + \\frac{3}{\\sqrt{t + 1}}, \\  21.5473377999716, \\  18.2811462486198\\right)$"
      ],
      "text/plain": [
       "⎛  8         3                                           ⎞\n",
       "⎜───── + ─────────, 21.547337799971622, 18.28114624861976⎟\n",
       "⎜t + 1     _______                                       ⎟\n",
       "⎝        ╲╱ t + 1                                        ⎠"
      ]
     },
     "execution_count": 248,
     "metadata": {},
     "output_type": "execute_result"
    }
   ],
   "source": [
    "expr = 8/(t + 1) + 3/sqrt(t + 1)\n",
    "expr, float(integrate(expr, (t, 1, 8))), float(integrate(expr, (t, 8, 22)))"
   ]
  },
  {
   "cell_type": "code",
   "execution_count": 250,
   "id": "arranged-black",
   "metadata": {},
   "outputs": [
    {
     "data": {
      "image/png": "[encoded data removed]",
      "text/latex": [
       "$\\displaystyle \\left( x^{9} \\left(x^{10} + 5\\right)^{3}, \\  \\frac{x^{10} \\left(x^{30} + 20 x^{20} + 150 x^{10} + 500\\right)}{40}\\right)$"
      ],
      "text/plain": [
       "⎛            3   10 ⎛ 30       20        10      ⎞⎞\n",
       "⎜ 9 ⎛ 10    ⎞   x  ⋅⎝x   + 20⋅x   + 150⋅x   + 500⎠⎟\n",
       "⎜x ⋅⎝x   + 5⎠ , ──────────────────────────────────⎟\n",
       "⎝                               40                ⎠"
      ]
     },
     "execution_count": 250,
     "metadata": {},
     "output_type": "execute_result"
    }
   ],
   "source": [
    "expr = (x**9)*(x**10 + 5)**3\n",
    "expr, full_simplify(integrate(expr, x))"
   ]
  },
  {
   "cell_type": "code",
   "execution_count": 253,
   "id": "compressed-permission",
   "metadata": {},
   "outputs": [
    {
     "data": {
      "image/png": "[encoded data removed]",
      "text/latex": [
       "$\\displaystyle \\left( x e^{2 x^{2}}, \\  \\frac{e^{2 x^{2}}}{4}\\right)$"
      ],
      "text/plain": [
       "⎛             2⎞\n",
       "⎜      2   2⋅x ⎟\n",
       "⎜   2⋅x   ℯ    ⎟\n",
       "⎜x⋅ℯ    , ─────⎟\n",
       "⎝           4  ⎠"
      ]
     },
     "execution_count": 253,
     "metadata": {},
     "output_type": "execute_result"
    }
   ],
   "source": [
    "expr = x*exp(2*(x)**2)\n",
    "expr, full_simplify(integrate(expr, x))"
   ]
  },
  {
   "cell_type": "code",
   "execution_count": 257,
   "id": "differential-darwin",
   "metadata": {},
   "outputs": [
    {
     "data": {
      "image/png": "[encoded data removed]",
      "text/latex": [
       "$\\displaystyle 0.6$"
      ],
      "text/plain": [
       "0.6000000000000001"
      ]
     },
     "execution_count": 257,
     "metadata": {},
     "output_type": "execute_result"
    }
   ],
   "source": [
    "0.2 * (27 - 24)"
   ]
  },
  {
   "cell_type": "code",
   "execution_count": 258,
   "id": "cooked-visitor",
   "metadata": {},
   "outputs": [
    {
     "data": {
      "image/png": "[encoded data removed]",
      "text/latex": [
       "$\\displaystyle 0.8$"
      ],
      "text/plain": [
       "0.8"
      ]
     },
     "execution_count": 258,
     "metadata": {},
     "output_type": "execute_result"
    }
   ],
   "source": [
    "0.2 * (29 - 25)"
   ]
  },
  {
   "cell_type": "code",
   "execution_count": 264,
   "id": "tired-playback",
   "metadata": {},
   "outputs": [
    {
     "name": "stdout",
     "output_type": "stream",
     "text": [
      "Q1: 18.0\n",
      "Q2: 20.0\n",
      "Q3: 22.0\n",
      "IQR: 4.0\n"
     ]
    }
   ],
   "source": [
    "# Uniform distribution calculations\n",
    "f_x0 = 16\n",
    "f_xmax = 24\n",
    "print(f\"Q1: {f_x0 + (f_xmax - f_x0)*0.25}\")\n",
    "print(f\"Q2: {f_x0 + (f_xmax - f_x0)*0.5}\")\n",
    "print(f\"Q3: {f_x0 + (f_xmax - f_x0)*0.75}\")\n",
    "print(f\"IQR: {(f_x0 + (f_xmax - f_x0)*0.75) - (f_x0 + (f_xmax - f_x0)*0.25)}\")"
   ]
  },
  {
   "cell_type": "code",
   "execution_count": 265,
   "id": "mechanical-visitor",
   "metadata": {},
   "outputs": [
    {
     "data": {
      "image/png": "[encoded data removed]",
      "text/latex": [
       "$\\displaystyle \\left( 0.625, \\  0.125\\right)$"
      ],
      "text/plain": [
       "(0.625, 0.125)"
      ]
     },
     "execution_count": 265,
     "metadata": {},
     "output_type": "execute_result"
    }
   ],
   "source": [
    "0.125 * (21 - 16), 0.125 * (24 - 23)"
   ]
  },
  {
   "cell_type": "code",
   "execution_count": 285,
   "id": "matched-canberra",
   "metadata": {},
   "outputs": [],
   "source": [
    "expon = lambda l, x: (1/l)*exp((1/-l)*x) "
   ]
  },
  {
   "cell_type": "code",
   "execution_count": 288,
   "id": "growing-processor",
   "metadata": {},
   "outputs": [
    {
     "data": {
      "image/png": "[encoded data removed]",
      "text/latex": [
       "$\\displaystyle 31618.3508156748$"
      ],
      "text/plain": [
       "31618.3508156748"
      ]
     },
     "execution_count": 288,
     "metadata": {},
     "output_type": "execute_result"
    }
   ],
   "source": [
    "(1 - integrate(expon(2.8, x), (x, 0, 0.5))) * 140 * 270"
   ]
  },
  {
   "cell_type": "code",
   "execution_count": 287,
   "id": "flying-minority",
   "metadata": {},
   "outputs": [
    {
     "name": "stdout",
     "output_type": "stream",
     "text": [
      "     13 |.                                                      \n",
      "        |                                                       \n",
      "        |                                                       \n",
      "        | .                                                     \n",
      "        |                                                       \n",
      "        |  .                                                    \n",
      "        |                                                       \n",
      "        |   .                                                   \n",
      "        |    .                                                  \n",
      "        |                                                       \n",
      "    6.5 |-----.-------------------------------------------------\n",
      "        |      \\                                                \n",
      "        |       \\                                               \n",
      "        |        \\                                              \n",
      "        |         \\                                             \n",
      "        |          ..                                           \n",
      "        |            ..                                         \n",
      "        |              ..                                       \n",
      "        |                ....                                   \n",
      "        |                    ........                           \n",
      "      0 |_______________________________________________________\n",
      "         -10                        0                          10\n"
     ]
    },
    {
     "data": {
      "text/plain": [
       "<sympy.plotting.plot.Plot at 0x1250a30d0>"
      ]
     },
     "execution_count": 287,
     "metadata": {},
     "output_type": "execute_result"
    }
   ],
   "source": [
    "plotting.plot(expon(2.8, x))"
   ]
  },
  {
   "cell_type": "code",
   "execution_count": 299,
   "id": "diverse-edinburgh",
   "metadata": {},
   "outputs": [
    {
     "data": {
      "image/png": "[encoded data removed]",
      "text/latex": [
       "$\\displaystyle 5634.51571154967$"
      ],
      "text/plain": [
       "5634.51571154967"
      ]
     },
     "execution_count": 299,
     "metadata": {},
     "output_type": "execute_result"
    }
   ],
   "source": [
    "mu = 3.67\n",
    "expr_cdf = lambda t: 1 - exp(-t/mu)\n",
    "price = 140\n",
    "units = 220\n",
    "expr_cdf(0.5) * price * units + (expr_cdf(1) - expr_cdf(0.5)) * (price/2) * units"
   ]
  },
  {
   "cell_type": "code",
   "execution_count": 302,
   "id": "absent-henry",
   "metadata": {},
   "outputs": [
    {
     "name": "stdout",
     "output_type": "stream",
     "text": [
      "    4.2 |.                                                      \n",
      "        |                                                       \n",
      "        | .                                                     \n",
      "        |                                                       \n",
      "        |  .                                                    \n",
      "        |   .                                                   \n",
      "        |                                                       \n",
      "        |    .                                                  \n",
      "        |     \\                                                 \n",
      "        |      \\                                                \n",
      "    2.1 |-------\\-----------------------------------------------\n",
      "        |        \\                                              \n",
      "        |         \\                                             \n",
      "        |          ..                                           \n",
      "        |            \\                                          \n",
      "        |             ..                                        \n",
      "        |               ...                                     \n",
      "        |                  ...                                  \n",
      "        |                     .....                             \n",
      "        |                          ...........                  \n",
      "      0 |_______________________________________________________\n",
      "         -10                        0                          10\n"
     ]
    },
    {
     "data": {
      "text/plain": [
       "<sympy.plotting.plot.Plot at 0x12527e650>"
      ]
     },
     "execution_count": 302,
     "metadata": {},
     "output_type": "execute_result"
    }
   ],
   "source": [
    "plotting.plot((1/mu)*exp(-t/mu))"
   ]
  },
  {
   "cell_type": "code",
   "execution_count": 307,
   "id": "floral-albert",
   "metadata": {},
   "outputs": [
    {
     "data": {
      "image/png": "[encoded data removed]",
      "text/latex": [
       "$\\displaystyle 0.984496146400991$"
      ],
      "text/plain": [
       "0.984496146400991"
      ]
     },
     "execution_count": 307,
     "metadata": {},
     "output_type": "execute_result"
    }
   ],
   "source": [
    "expr = 5*exp(-5*t)\n",
    "integrate(expr, (t, 0, 50/60))"
   ]
  },
  {
   "cell_type": "code",
   "execution_count": 314,
   "id": "exciting-forwarding",
   "metadata": {},
   "outputs": [
    {
     "data": {
      "image/png": "[encoded data removed]",
      "text/latex": [
       "$\\displaystyle 0.477249868051821$"
      ],
      "text/plain": [
       "0.4772498680518208"
      ]
     },
     "execution_count": 314,
     "metadata": {},
     "output_type": "execute_result"
    }
   ],
   "source": [
    "mu = 65\n",
    "std = 8\n",
    "zscore = lambda x: (x - mu)/std\n",
    "norm.cdf(zscore(81)) - norm.cdf(zscore(65))"
   ]
  },
  {
   "cell_type": "code",
   "execution_count": 311,
   "id": "suspended-announcement",
   "metadata": {},
   "outputs": [
    {
     "name": "stdout",
     "output_type": "stream",
     "text": [
      "a: 2.081784386617098\n",
      "b: 0.9813189157359767\n",
      "c: 2.7490039840637475\n",
      "d: 0.0029888329822720383\n"
     ]
    }
   ],
   "source": [
    "# from scipy.stats import norm\n",
    "mu_man = 69.4\n",
    "std_man = 2.69\n",
    "zscore_man = lambda x: (x - mu_man)/std_man\n",
    "\n",
    "mu_woman = 64.1\n",
    "std_woman = 2.51\n",
    "zscore_woman = lambda x: (x - mu_woman)/std_woman\n",
    "\n",
    "q1 = 12*6 + 3\n",
    "print(f\"a: {zscore_man(q1)}\")\n",
    "print(f\"b: {norm.cdf(zscore_man(q1))}\")\n",
    "\n",
    "q2 = 5*12 + 11\n",
    "print(f\"c: {zscore_woman(q2)}\")\n",
    "print(f\"d: {1 - norm.cdf(zscore_woman(q2))}\")"
   ]
  },
  {
   "cell_type": "code",
   "execution_count": 316,
   "id": "secret-middle",
   "metadata": {},
   "outputs": [
    {
     "name": "stdout",
     "output_type": "stream",
     "text": [
      "a: 0.22336748927930133\n",
      "b: 0.6914624612740131\n"
     ]
    }
   ],
   "source": [
    "mu = 245\n",
    "std = 46\n",
    "zscore = lambda x: (x - mu)/std\n",
    "print(f\"a: {norm.cdf(zscore(210))}\")\n",
    "print(f\"b: {1 - norm.cdf(zscore(222))}\")"
   ]
  }
 ],
 "metadata": {
  "kernelspec": {
   "display_name": "Python 3",
   "language": "python",
   "name": "python3"
  },
  "language_info": {
   "codemirror_mode": {
    "name": "ipython",
    "version": 3
   },
   "file_extension": ".py",
   "mimetype": "text/x-python",
   "name": "python",
   "nbconvert_exporter": "python",
   "pygments_lexer": "ipython3",
   "version": "3.9.1"
  }
 },
 "nbformat": 4,
 "nbformat_minor": 5
}
