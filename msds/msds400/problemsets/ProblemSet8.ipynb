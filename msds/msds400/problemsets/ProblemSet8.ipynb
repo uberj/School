{
 "cells": [
  {
   "cell_type": "code",
   "execution_count": 3,
   "id": "dress-gender",
   "metadata": {},
   "outputs": [],
   "source": [
    "from sympy import *\n",
    "from sympy.abc import *\n",
    "init_printing()\n",
    "def full_simplify(expr):\n",
    "    cur = expr\n",
    "    while True:\n",
    "        nxt = simplify(cur)\n",
    "        if cur == nxt:\n",
    "            return cur\n",
    "        cur = nxt"
   ]
  },
  {
   "cell_type": "code",
   "execution_count": 3,
   "id": "logical-bennett",
   "metadata": {},
   "outputs": [
    {
     "name": "stdout",
     "output_type": "stream",
     "text": [
      "-26\n",
      "-27\n",
      "-28\n",
      "-3\n"
     ]
    }
   ],
   "source": [
    "f = lambda x, y: 7*x - 6*y + 8\n",
    "print(f(-4, 1))\n",
    "print(f(-5, 0))\n",
    "print(f(0, 6))\n",
    "print(f(1, 3))"
   ]
  },
  {
   "cell_type": "code",
   "execution_count": 4,
   "id": "surface-complexity",
   "metadata": {},
   "outputs": [
    {
     "data": {
      "image/png": "[encoded data removed]",
      "text/latex": [
       "$\\displaystyle y \\log{\\left(5 x - 3 y \\right)}$"
      ],
      "text/plain": [
       "y⋅log(5⋅x - 3⋅y)"
      ]
     },
     "execution_count": 4,
     "metadata": {},
     "output_type": "execute_result"
    }
   ],
   "source": [
    "expr = y*ln(5*x - 3*y)\n",
    "expr"
   ]
  },
  {
   "cell_type": "code",
   "execution_count": 5,
   "id": "timely-richards",
   "metadata": {},
   "outputs": [
    {
     "data": {
      "image/png": "[encoded data removed]",
      "text/latex": [
       "$\\displaystyle \\frac{5 y}{5 x - 3 y}$"
      ],
      "text/plain": [
       "   5⋅y   \n",
       "─────────\n",
       "5⋅x - 3⋅y"
      ]
     },
     "execution_count": 5,
     "metadata": {},
     "output_type": "execute_result"
    }
   ],
   "source": [
    "diff(expr, x)"
   ]
  },
  {
   "cell_type": "code",
   "execution_count": 6,
   "id": "absent-payment",
   "metadata": {},
   "outputs": [
    {
     "data": {
      "image/png": "[encoded data removed]",
      "text/latex": [
       "$\\displaystyle \\frac{- 3 y + \\left(5 x - 3 y\\right) \\log{\\left(5 x - 3 y \\right)}}{5 x - 3 y}$"
      ],
      "text/plain": [
       "-3⋅y + (5⋅x - 3⋅y)⋅log(5⋅x - 3⋅y)\n",
       "─────────────────────────────────\n",
       "            5⋅x - 3⋅y            "
      ]
     },
     "execution_count": 6,
     "metadata": {},
     "output_type": "execute_result"
    }
   ],
   "source": [
    "full_simplify(diff(expr, y))"
   ]
  },
  {
   "cell_type": "code",
   "execution_count": 8,
   "id": "proud-blair",
   "metadata": {},
   "outputs": [
    {
     "data": {
      "image/png": "[encoded data removed]",
      "text/latex": [
       "$\\displaystyle 3 x^{3} - x^{2} y^{4} - 4 y^{5}$"
      ],
      "text/plain": [
       "   3    2  4      5\n",
       "3⋅x  - x ⋅y  - 4⋅y "
      ]
     },
     "execution_count": 8,
     "metadata": {},
     "output_type": "execute_result"
    }
   ],
   "source": [
    "M = 3*pow(x, 3) - pow(x, 2)*pow(y, 4) - 4*pow(y, 5)\n",
    "M"
   ]
  },
  {
   "cell_type": "code",
   "execution_count": 9,
   "id": "little-arnold",
   "metadata": {},
   "outputs": [
    {
     "data": {
      "image/png": "[encoded data removed]",
      "text/latex": [
       "$\\displaystyle 9 x^{2} - 2 x y^{4}$"
      ],
      "text/plain": [
       "   2        4\n",
       "9⋅x  - 2⋅x⋅y "
      ]
     },
     "execution_count": 9,
     "metadata": {},
     "output_type": "execute_result"
    }
   ],
   "source": [
    "# M_x\n",
    "M.diff(x)"
   ]
  },
  {
   "cell_type": "code",
   "execution_count": 10,
   "id": "internal-rotation",
   "metadata": {},
   "outputs": [
    {
     "data": {
      "image/png": "[encoded data removed]",
      "text/latex": [
       "$\\displaystyle - 4 x^{2} y^{3} - 20 y^{4}$"
      ],
      "text/plain": [
       "     2  3       4\n",
       "- 4⋅x ⋅y  - 20⋅y "
      ]
     },
     "execution_count": 10,
     "metadata": {},
     "output_type": "execute_result"
    }
   ],
   "source": [
    "# M_y\n",
    "M.diff(y)"
   ]
  },
  {
   "cell_type": "code",
   "execution_count": 11,
   "id": "promising-riverside",
   "metadata": {},
   "outputs": [
    {
     "data": {
      "image/png": "[encoded data removed]",
      "text/latex": [
       "$\\displaystyle 2 \\left(9 x - y^{4}\\right)$"
      ],
      "text/plain": [
       "  ⎛       4⎞\n",
       "2⋅⎝9⋅x - y ⎠"
      ]
     },
     "execution_count": 11,
     "metadata": {},
     "output_type": "execute_result"
    }
   ],
   "source": [
    "# M_xx\n",
    "M.diff(x, 2)"
   ]
  },
  {
   "cell_type": "code",
   "execution_count": 12,
   "id": "brave-potato",
   "metadata": {},
   "outputs": [
    {
     "data": {
      "image/png": "[encoded data removed]",
      "text/latex": [
       "$\\displaystyle - 8 x y^{3}$"
      ],
      "text/plain": [
       "      3\n",
       "-8⋅x⋅y "
      ]
     },
     "execution_count": 12,
     "metadata": {},
     "output_type": "execute_result"
    }
   ],
   "source": [
    "# M_xy\n",
    "M.diff(x).diff(y)"
   ]
  },
  {
   "cell_type": "code",
   "execution_count": 28,
   "id": "signed-celtic",
   "metadata": {},
   "outputs": [
    {
     "data": {
      "image/png": "[encoded data removed]",
      "text/latex": [
       "$\\displaystyle 4 e^{x^{2} - 2 y}$"
      ],
      "text/plain": [
       "    2      \n",
       "   x  - 2⋅y\n",
       "4⋅ℯ        "
      ]
     },
     "execution_count": 28,
     "metadata": {},
     "output_type": "execute_result"
    }
   ],
   "source": [
    "Z = 4*exp(pow(x,2) - 2*y)\n",
    "Z"
   ]
  },
  {
   "cell_type": "code",
   "execution_count": 363,
   "id": "fourth-pregnancy",
   "metadata": {},
   "outputs": [
    {
     "data": {
      "image/png": "[encoded data removed]",
      "text/latex": [
       "$\\displaystyle 4.996$"
      ],
      "text/plain": [
       "4.99600000000000"
      ]
     },
     "execution_count": 363,
     "metadata": {},
     "output_type": "execute_result"
    }
   ],
   "source": [
    "point = [(x, 4), (y, 8)]\n",
    "# equation for a tagent plane\n",
    "# z = f(a, b) + f_x(a, b)(x - a) + f_y(a, b)(y - b)\n",
    "def tangent_plane(f, point, x, y):\n",
    "    return f.subs(point) + \\\n",
    "            f.diff(x).subs(point) * (x - point[0][1]) + \\\n",
    "            f.diff(y).subs(point)* (y - point[1][1])\n",
    "\n",
    "# total differntial dz = f_x(x, y) * dx + f_y(x, y) * dy\n",
    "def approx(f, known_point, unknown_point):\n",
    "    (x, x_val), (y, y_val) = known_point[0], known_point[1]\n",
    "    dx = unknown_point[0][1] - x_val\n",
    "    dy = unknown_point[1][1] - y_val\n",
    "    dz = f.diff(x).subs(x, x_val).subs(y, y_val) * dx \\\n",
    "        + f.diff(y).subs(x, x_val).subs(y, y_val) * dy\n",
    "    \n",
    "    return f.subs(dict(known_point)) + dz\n"
   ]
  },
  {
   "cell_type": "code",
   "execution_count": 364,
   "id": "rapid-board",
   "metadata": {},
   "outputs": [
    {
     "data": {
      "image/png": "[encoded data removed]",
      "text/latex": [
       "$\\displaystyle 13.0023076923077$"
      ],
      "text/plain": [
       "13.0023076923077"
      ]
     },
     "execution_count": 364,
     "metadata": {},
     "output_type": "execute_result"
    }
   ],
   "source": [
    "#approx(sqrt(pow(x, 2) + pow(y, 2)), [(x, 3), (y, 4)], [(x, 2.98), (y, 4.01)])\n",
    "approx(sqrt(pow(x, 2) + pow(y, 2)), [(x, 5), (y, 12)], [(x, 5.03), (y, 11.99)])"
   ]
  },
  {
   "cell_type": "code",
   "execution_count": 357,
   "id": "spoken-search",
   "metadata": {},
   "outputs": [
    {
     "data": {
      "image/png": "[encoded data removed]",
      "text/latex": [
       "$\\displaystyle \\left( x^{3} - x^{2} y - 2 x + y^{2} + 3 y - 2, \\  7 x + 8 y - 3\\right)$"
      ],
      "text/plain": [
       "⎛ 3    2            2                         ⎞\n",
       "⎝x  - x ⋅y - 2⋅x + y  + 3⋅y - 2, 7⋅x + 8⋅y - 3⎠"
      ]
     },
     "execution_count": 357,
     "metadata": {},
     "output_type": "execute_result"
    }
   ],
   "source": [
    "f = pow(x, 3) - pow(x, 2)*y + pow(y, 2) - 2*x + 3*y - 2\n",
    "f, tangent_plane(f, [(x, -1), (y, 3)], x, y)"
   ]
  },
  {
   "cell_type": "code",
   "execution_count": 35,
   "id": "defined-inflation",
   "metadata": {},
   "outputs": [
    {
     "data": {
      "image/png": "[encoded data removed]",
      "text/latex": [
       "$\\displaystyle \\frac{2 \\sqrt{3} \\sqrt{x y}}{3}$"
      ],
      "text/plain": [
       "       _____\n",
       "2⋅√3⋅╲╱ x⋅y \n",
       "────────────\n",
       "     3      "
      ]
     },
     "execution_count": 35,
     "metadata": {},
     "output_type": "execute_result"
    }
   ],
   "source": [
    "f = 4*sqrt((x*y)/12)\n",
    "f"
   ]
  },
  {
   "cell_type": "code",
   "execution_count": 37,
   "id": "careful-proceeding",
   "metadata": {},
   "outputs": [
    {
     "data": {
      "image/png": "[encoded data removed]",
      "text/latex": [
       "$\\displaystyle \\frac{x}{2} + \\frac{2 y}{3}$"
      ],
      "text/plain": [
       "x   2⋅y\n",
       "─ + ───\n",
       "2    3 "
      ]
     },
     "execution_count": 37,
     "metadata": {},
     "output_type": "execute_result"
    }
   ],
   "source": [
    "point = [(x, 8), (y, 6)]\n",
    "# equation for a tagent plane\n",
    "# z = f(a, b) + f_x(a, b)(x - a) + f_y(a, b)(y - b)\n",
    "plane = f.subs(point) + \\\n",
    "f.diff(x).subs(point) * (x - point[0][1]) + \\\n",
    "f.diff(y).subs(point)* (y - point[1][1])\n",
    "plane"
   ]
  },
  {
   "cell_type": "code",
   "execution_count": 39,
   "id": "eleven-customer",
   "metadata": {},
   "outputs": [
    {
     "data": {
      "image/png": "[encoded data removed]",
      "text/latex": [
       "$\\displaystyle 8.25333333333333$"
      ],
      "text/plain": [
       "8.25333333333333"
      ]
     },
     "execution_count": 39,
     "metadata": {},
     "output_type": "execute_result"
    }
   ],
   "source": [
    "plane.subs(x, 8.24).subs(y, 6.2)"
   ]
  },
  {
   "cell_type": "code",
   "execution_count": 41,
   "id": "touched-credit",
   "metadata": {},
   "outputs": [
    {
     "data": {
      "image/png": "[encoded data removed]",
      "text/latex": [
       "$\\displaystyle x e^{5 y}$"
      ],
      "text/plain": [
       "   5⋅y\n",
       "x⋅ℯ   "
      ]
     },
     "execution_count": 41,
     "metadata": {},
     "output_type": "execute_result"
    }
   ],
   "source": [
    "z = x * exp(5*y)\n",
    "z"
   ]
  },
  {
   "cell_type": "code",
   "execution_count": 43,
   "id": "foster-absolute",
   "metadata": {},
   "outputs": [
    {
     "data": {
      "image/png": "[encoded data removed]",
      "text/latex": [
       "$\\displaystyle t^{3} \\left(10 t + 4\\right) e^{10 t - 15}$"
      ],
      "text/plain": [
       " 3             10⋅t - 15\n",
       "t ⋅(10⋅t + 4)⋅ℯ         "
      ]
     },
     "execution_count": 43,
     "metadata": {},
     "output_type": "execute_result"
    }
   ],
   "source": [
    "full_simplify(z.subs(x, pow(t, 4)).subs(y, -3 + 2*t).diff(t))"
   ]
  },
  {
   "cell_type": "code",
   "execution_count": 47,
   "id": "heated-burner",
   "metadata": {},
   "outputs": [
    {
     "data": {
      "image/png": "[encoded data removed]",
      "text/latex": [
       "$\\displaystyle \\frac{8.31 T}{P}$"
      ],
      "text/plain": [
       "8.31⋅T\n",
       "──────\n",
       "  P   "
      ]
     },
     "execution_count": 47,
     "metadata": {},
     "output_type": "execute_result"
    }
   ],
   "source": [
    "V = 8.31*T/P\n"
   ]
  },
  {
   "cell_type": "code",
   "execution_count": 50,
   "id": "assisted-opera",
   "metadata": {},
   "outputs": [
    {
     "data": {
      "image/png": "[encoded data removed]",
      "text/latex": [
       "$\\displaystyle -0.232699762187872$"
      ],
      "text/plain": [
       "-0.2326997621878716"
      ]
     },
     "execution_count": 50,
     "metadata": {},
     "output_type": "execute_result"
    }
   ],
   "source": [
    "# chain rule:\n",
    "# dz   df   dx   df   dy\n",
    "# -- = -- * -- + -- * -- \n",
    "# dt   dx   dt   dy   dt\n",
    "dT_dt = 0.15\n",
    "dP_dt = 0.09\n",
    "P_t = 29\n",
    "T_t = 310\n",
    "(8.31 * dT_dt) / P_t - (8.31 * T_t * dP_dt) / P_t**2"
   ]
  },
  {
   "cell_type": "code",
   "execution_count": 351,
   "id": "equal-yugoslavia",
   "metadata": {},
   "outputs": [
    {
     "name": "stdout",
     "output_type": "stream",
     "text": [
      "[{x: 0, y: 0}, {x: 4, y: 18}]\n",
      "Critical numbers are: {x: 0, y: 0}, {x: 4, y: 18}\n",
      "{x: 0, y: 0}\n",
      "{x: 4, y: 18}\n",
      "Minimums\n",
      "f({x: 4, y: 18}) = 1336\n",
      "Maximums\n",
      "Saddle points\n",
      "f({x: 0, y: 0}) = 2200\n"
     ]
    }
   ],
   "source": [
    "def second_derivative_test(f, x, y):\n",
    "    f_x = f.diff(x)\n",
    "    f_y = f.diff(y)\n",
    "    f_xx = f.diff(x, 2)\n",
    "    f_yy = f.diff(y, 2)\n",
    "    f_xy = f.diff(x).diff(y)\n",
    "    \n",
    "    cps = solve([f_x, f_y])\n",
    "    critical_points = cps if type(cps) == list else [cps]\n",
    "    print(critical_points)\n",
    "    print(f\"Critical numbers are: {', '.join(map(str, critical_points))}\")\n",
    "    minimums = []\n",
    "    maximums = []\n",
    "    non_ms = []\n",
    "    for cp in critical_points:\n",
    "        print(cp)\n",
    "        if not cp[x].is_real or not cp[y].is_real:\n",
    "            continue\n",
    "        D = f_xx.subs(x, cp[x]).subs(y, cp[y]) * \\\n",
    "            f_yy.subs(x, cp[x]).subs(y, cp[y]) - \\\n",
    "            pow(f_xy.subs(x, cp[x]).subs(y, cp[y]), 2)\n",
    "        if D > 0 and f_xx.subs(x, cp[x]).subs(y, cp[y]) > 0:\n",
    "            minimums.append((cp, f.subs(x, cp[x]).subs(y, cp[y]), D))\n",
    "        elif D > 0 and f_xx.subs(x, cp[x]).subs(y, cp[y]) < 0:\n",
    "            maximums.append((cp, f.subs(x, cp[x]).subs(y, cp[y]),D))\n",
    "        elif D < 0:\n",
    "            non_ms.append((cp, f.subs(x, cp[x]).subs(y, cp[y]),D))\n",
    "    \n",
    "    print(f\"Minimums\")\n",
    "    for m in sorted(minimums, key=lambda m: m[1]):\n",
    "        print(f\"f({m[0]}) = {m[1]}\")   \n",
    "    print(f\"Maximums\")\n",
    "    for m in reversed(sorted(maximums, key=lambda m: m[1])):\n",
    "        print(f\"f({m[0]}) = {m[1]}\") \n",
    "        \n",
    "    print(f\"Saddle points\")\n",
    "    for m in sorted(non_ms, key=lambda m: m[1]):\n",
    "        print(f\"f({m[0]}) = {m[1]}\")          \n",
    "\n",
    "f = 2200 + 27*pow(x, 3) - 72*x*y + 8*pow(y, 2)\n",
    "second_derivative_test(f, x, y)\n"
   ]
  },
  {
   "cell_type": "code",
   "execution_count": 342,
   "id": "atomic-rates",
   "metadata": {},
   "outputs": [
    {
     "name": "stdout",
     "output_type": "stream",
     "text": [
      "[{x: -10, y: 0}, {x: -10, y: 12}, {x: 0, y: 0}, {x: 0, y: 12}]\n",
      "Critical numbers are: {x: -10, y: 0}, {x: -10, y: 12}, {x: 0, y: 0}, {x: 0, y: 12}\n",
      "{x: -10, y: 0}\n",
      "{x: -10, y: 12}\n",
      "{x: 0, y: 0}\n",
      "{x: 0, y: 12}\n",
      "Minimums\n",
      "f({x: 0, y: 12}) = -865\n",
      "Maximums\n",
      "f({x: -10, y: 0}) = 499\n",
      "Non Max/Min critical points\n",
      "f({x: -10, y: 12}) = -365\n",
      "f({x: 0, y: 0}) = -1\n"
     ]
    }
   ],
   "source": [
    "f = pow(x, 3) + pow(y, 3) + 15*pow(x, 2) - 18*pow(y,2) - 1\n",
    "second_derivative_test(f, x, y)"
   ]
  },
  {
   "cell_type": "code",
   "execution_count": 122,
   "id": "spread-professor",
   "metadata": {},
   "outputs": [
    {
     "data": {
      "image/png": "[encoded data removed]",
      "text/latex": [
       "$\\displaystyle - 3 x^{2} - 5 x y + 4 x - 6 y^{2} + 9 y$"
      ],
      "text/plain": [
       "     2                    2      \n",
       "- 3⋅x  - 5⋅x⋅y + 4⋅x - 6⋅y  + 9⋅y"
      ]
     },
     "execution_count": 122,
     "metadata": {},
     "output_type": "execute_result"
    }
   ],
   "source": [
    "S = 4*x + 9*y - 3*pow(x, 2) - 6*pow(y, 2) - 5*x*y\n",
    "S"
   ]
  },
  {
   "cell_type": "code",
   "execution_count": 123,
   "id": "incorporated-blogger",
   "metadata": {},
   "outputs": [
    {
     "data": {
      "image/png": "[encoded data removed]",
      "text/latex": [
       "$\\displaystyle - 6 x - 5 y + 4$"
      ],
      "text/plain": [
       "-6⋅x - 5⋅y + 4"
      ]
     },
     "execution_count": 123,
     "metadata": {},
     "output_type": "execute_result"
    }
   ],
   "source": [
    "S.diff(x)"
   ]
  },
  {
   "cell_type": "code",
   "execution_count": 124,
   "id": "periodic-medication",
   "metadata": {},
   "outputs": [
    {
     "data": {
      "image/png": "[encoded data removed]",
      "text/latex": [
       "$\\displaystyle - 5 x - 12 y + 9$"
      ],
      "text/plain": [
       "-5⋅x - 12⋅y + 9"
      ]
     },
     "execution_count": 124,
     "metadata": {},
     "output_type": "execute_result"
    }
   ],
   "source": [
    "S.diff(y)"
   ]
  },
  {
   "cell_type": "code",
   "execution_count": 125,
   "id": "suited-tooth",
   "metadata": {},
   "outputs": [
    {
     "name": "stdout",
     "output_type": "stream",
     "text": [
      "[{x: 3/47, y: 34/47}]\n",
      "Critical numbers are: {x: 3/47, y: 34/47}\n",
      "{x: 3/47, y: 34/47}\n",
      "Minimums\n",
      "Maximums\n",
      "f({x: 3/47, y: 34/47}) = 159/47\n",
      "Non Max/Min critical points\n"
     ]
    }
   ],
   "source": [
    "second_derivative_test(S, x, y)"
   ]
  },
  {
   "cell_type": "code",
   "execution_count": 194,
   "id": "lovely-alarm",
   "metadata": {},
   "outputs": [
    {
     "name": "stdout",
     "output_type": "stream",
     "text": [
      "f(-1,0) = 1\n",
      "f(1,0) = 1\n",
      "f(0,-1) = 2\n",
      "f(0,1) = 2\n"
     ]
    }
   ],
   "source": [
    "def lagrange_optimize(f, g, vs):\n",
    "    lam = Symbol('lam')\n",
    "    eqs = [g]\n",
    "    for v in vs:\n",
    "        eqs.append(f.diff(v) - lam * g.diff(v))\n",
    "    sls = solve(eqs)\n",
    "    solutions = sls if type(sls) == list else [sls]\n",
    "    print(\"Solutions:\")\n",
    "    for s in solutions:\n",
    "        #print(list(map(lambda x: x.is_real, map(lambda u: s[u], vs))))\n",
    "        real_values = list(filter(lambda k: k.is_real, map(lambda u: s[u], vs)))\n",
    "        if len(real_values) != len(vs):\n",
    "            continue\n",
    "        print(\"f(\", end='')\n",
    "        params = ''\n",
    "        for v in vs:\n",
    "            params += f\"{s[v]},\"\n",
    "        print(params.strip(','), end='')\n",
    "        print(\") = \", end='')\n",
    "\n",
    "        point = f\n",
    "        for v in vs:\n",
    "            point = point.subs(v, s[v])\n",
    "        print(point)\n",
    "\n",
    "\n",
    "lagrange_optimize(pow(x, 2) + 2*pow(y, 2), pow(x, 2) + pow(y, 2) - 1, [x, y])   "
   ]
  },
  {
   "cell_type": "code",
   "execution_count": 195,
   "id": "loving-access",
   "metadata": {},
   "outputs": [
    {
     "name": "stdout",
     "output_type": "stream",
     "text": [
      "f(11.9113842519643,5.49756196244507,4.58130163537090) = 9.82253594754995\n"
     ]
    }
   ],
   "source": [
    "from sympy.abc import *\n",
    "f = x*y*0.05 + y*z*0.10 + 0.03*(y*z + 2*x*z)\n",
    "g = x*y*z - 300\n",
    "# x depth\n",
    "# y = front\n",
    "# z = height\n",
    "lagrange_optimize(f, g, [x, y, z])"
   ]
  },
  {
   "cell_type": "code",
   "execution_count": 196,
   "id": "convertible-accreditation",
   "metadata": {},
   "outputs": [
    {
     "name": "stdout",
     "output_type": "stream",
     "text": [
      "f(1275,425) = 2530050\n"
     ]
    }
   ],
   "source": [
    "from sympy.abc import *\n",
    "\n",
    "f = pow(x, 2) + x*y + 2*pow(y, 2) + 1300\n",
    "g = x + y - 1700\n",
    "lagrange_optimize(f, g, [x, y])"
   ]
  },
  {
   "cell_type": "code",
   "execution_count": 198,
   "id": "marked-distance",
   "metadata": {},
   "outputs": [
    {
     "name": "stdout",
     "output_type": "stream",
     "text": [
      "f(600.000000000000,30.0000000000000) = 3295.68162991835\n"
     ]
    }
   ],
   "source": [
    "from sympy.abc import *\n",
    "\n",
    "f = 10*pow(p, 0.8)*pow(r, 0.2)\n",
    "g = p*400 + r*2000 - 300000\n",
    "lagrange_optimize(f, g, [p, r])"
   ]
  },
  {
   "cell_type": "code",
   "execution_count": 295,
   "id": "ambient-amazon",
   "metadata": {},
   "outputs": [
    {
     "data": {
      "image/png": "[encoded data removed]",
      "text/latex": [
       "$\\displaystyle w_{f0} \\left(I_{0} w_{g0} + I_{1} w_{g1} + I_{2} w_{g2}\\right) - w_{f1} \\left(I_{0} w_{h0} + I_{1} w_{h1} + I_{2} w_{h2}\\right)$"
      ],
      "text/plain": [
       "w_f0⋅(I₀⋅w_g0 + I₁⋅w_g1 + I₂⋅w_g2) - w_f1⋅(I₀⋅wₕ₀ + I₁⋅wₕ₁ + I₂⋅wₕ₂)"
      ]
     },
     "execution_count": 295,
     "metadata": {},
     "output_type": "execute_result"
    }
   ],
   "source": [
    "from random import Random\n",
    "r = Random(0)\n",
    "ri = lambda: r.randint(-10, 10)\n",
    "\n",
    "I_0, I_1, I_2, w_g0, w_g1, w_g2, w_h0, w_h1, w_h2, w_f0, w_f1, E = \\\n",
    "    symbols('I_0 I_1 I_2 w_g0 w_g1 w_g2 w_h0 w_h1 w_h2 w_f0 w_f1, E')\n",
    "\n",
    "G = I_0*w_g0 + I_1*w_g1 + I_2*w_g2\n",
    "H = I_0*w_h0 + I_1*w_h1 + I_2*w_h2\n",
    "F = G*w_f0 - H*w_f1\n",
    "\n",
    "V = I_0 + 3*I_1 + 7*I_2\n",
    "Inputs = dict([\n",
    "    (I_0, ri()),(I_1, ri()),(I_2, ri())\n",
    "])\n",
    "weights = dict([ # Inputs\n",
    "    [w_g0, ri()],[w_g1, ri()],[w_g2, ri()], # g weights\n",
    "    [w_h0, ri()],[w_h1, ri()],[w_h2, ri()], # h weights\n",
    "    [w_f0, ri()],[w_f1, ri()], # f weights\n",
    "])\n",
    "F.subs(terms.items()) # error term\n",
    "F"
   ]
  },
  {
   "cell_type": "code",
   "execution_count": 335,
   "id": "elementary-merchandise",
   "metadata": {},
   "outputs": [],
   "source": [
    "E = F - V\n",
    "E = E.subs(Inputs.items(), terms.items())"
   ]
  },
  {
   "cell_type": "code",
   "execution_count": 339,
   "id": "diverse-relations",
   "metadata": {},
   "outputs": [
    {
     "name": "stdout",
     "output_type": "stream",
     "text": [
      "-386.231744656573\n"
     ]
    }
   ],
   "source": [
    "weights = list(terms.items())[3:]\n",
    "error = E.subs(weights + Is)\n",
    "for i in range(100):\n",
    "    adjusted_weights = []\n",
    "    alpha = 0.001\n",
    "    Error = pow(F - V, 2)\n",
    "    for i, w in enumerate(map(list, weights)):\n",
    "        adjust = alpha * E.diff(w[0]).subs(weights).subs(Inputs)\n",
    "#         if i == 4:\n",
    "#             print(w)\n",
    "        w[1] = w[1] - adjust\n",
    "        adjusted_weights.append(w)\n",
    "    weights = adjusted_weights\n",
    "print(E.subs(weights + Is))"
   ]
  },
  {
   "cell_type": "code",
   "execution_count": 292,
   "id": "seventh-secret",
   "metadata": {},
   "outputs": [
    {
     "name": "stdout",
     "output_type": "stream",
     "text": [
      "[w_g0, -2.00406200000000]\n",
      "[w_g1, 5.99390700000000]\n",
      "[w_g2, 5.01827900000000]\n",
      "[w_h0, 2.03191200000000]\n",
      "[w_h1, -0.952132000000000]\n",
      "[w_h2, 4.85639600000000]\n",
      "[w_f0, 1.06209400000000]\n",
      "[w_f1, 7.91275200000000]\n"
     ]
    },
    {
     "data": {
      "image/png": "[encoded data removed]",
      "text/latex": [
       "$\\displaystyle 308.849731450849$"
      ],
      "text/plain": [
       "308.849731450849"
      ]
     },
     "execution_count": 292,
     "metadata": {},
     "output_type": "execute_result"
    }
   ],
   "source": []
  },
  {
   "cell_type": "code",
   "execution_count": 260,
   "id": "educational-duncan",
   "metadata": {},
   "outputs": [
    {
     "data": {
      "image/png": "[encoded data removed]",
      "text/latex": [
       "$\\displaystyle -18$"
      ],
      "text/plain": [
       "-18"
      ]
     },
     "execution_count": 260,
     "metadata": {},
     "output_type": "execute_result"
    }
   ],
   "source": [
    "F.diff(list(terms.items())[0][0]).subs(terms)"
   ]
  },
  {
   "cell_type": "code",
   "execution_count": 346,
   "id": "attempted-gathering",
   "metadata": {},
   "outputs": [
    {
     "data": {
      "image/png": "[encoded data removed]",
      "text/latex": [
       "$\\displaystyle \\sqrt{x^{4} + 3 x y + y^{4} + 10}$"
      ],
      "text/plain": [
       "   ______________________\n",
       "  ╱  4            4      \n",
       "╲╱  x  + 3⋅x⋅y + y  + 10 "
      ]
     },
     "execution_count": 346,
     "metadata": {},
     "output_type": "execute_result"
    }
   ],
   "source": [
    "f = sqrt(pow(x, 4) + 3*x*y + pow(y, 4) + 10)\n",
    "f"
   ]
  },
  {
   "cell_type": "code",
   "execution_count": 347,
   "id": "hungarian-poetry",
   "metadata": {},
   "outputs": [
    {
     "data": {
      "image/png": "[encoded data removed]",
      "text/latex": [
       "$\\displaystyle \\frac{29 \\sqrt{21}}{42}$"
      ],
      "text/plain": [
       "29⋅√21\n",
       "──────\n",
       "  42  "
      ]
     },
     "execution_count": 347,
     "metadata": {},
     "output_type": "execute_result"
    }
   ],
   "source": [
    "f.diff(x).subs(x, 2).subs(y, -1)"
   ]
  },
  {
   "cell_type": "code",
   "execution_count": 349,
   "id": "architectural-manufacturer",
   "metadata": {},
   "outputs": [
    {
     "data": {
      "image/png": "[encoded data removed]",
      "text/latex": [
       "$\\displaystyle \\frac{48 \\sqrt{311}}{311}$"
      ],
      "text/plain": [
       "48⋅√311\n",
       "───────\n",
       "  311  "
      ]
     },
     "execution_count": 349,
     "metadata": {},
     "output_type": "execute_result"
    }
   ],
   "source": [
    "f.diff(y).subs(x, -4).subs(y, 3)"
   ]
  }
 ],
 "metadata": {
  "kernelspec": {
   "display_name": "Python 3",
   "language": "python",
   "name": "python3"
  },
  "language_info": {
   "codemirror_mode": {
    "name": "ipython",
    "version": 3
   },
   "file_extension": ".py",
   "mimetype": "text/x-python",
   "name": "python",
   "nbconvert_exporter": "python",
   "pygments_lexer": "ipython3",
   "version": "3.9.1"
  }
 },
 "nbformat": 4,
 "nbformat_minor": 5
}
