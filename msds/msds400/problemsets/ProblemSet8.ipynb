{
 "cells": [
  {
   "cell_type": "code",
   "execution_count": 3,
   "id": "patient-channels",
   "metadata": {},
   "outputs": [],
   "source": [
    "from sympy import *\n",
    "from sympy.abc import *\n",
    "init_printing()\n",
    "def full_simplify(expr):\n",
    "    cur = expr\n",
    "    while True:\n",
    "        nxt = simplify(cur)\n",
    "        if cur == nxt:\n",
    "            return cur\n",
    "        cur = nxt"
   ]
  },
  {
   "cell_type": "code",
   "execution_count": 3,
   "id": "editorial-vegetarian",
   "metadata": {},
   "outputs": [
    {
     "name": "stdout",
     "output_type": "stream",
     "text": [
      "-26\n",
      "-27\n",
      "-28\n",
      "-3\n"
     ]
    }
   ],
   "source": [
    "f = lambda x, y: 7*x - 6*y + 8\n",
    "print(f(-4, 1))\n",
    "print(f(-5, 0))\n",
    "print(f(0, 6))\n",
    "print(f(1, 3))"
   ]
  },
  {
   "cell_type": "code",
   "execution_count": 4,
   "id": "empty-ranking",
   "metadata": {},
   "outputs": [
    {
     "data": {
      "image/png": "[encoded data removed]",
      "text/latex": [
       "$\\displaystyle y \\log{\\left(5 x - 3 y \\right)}$"
      ],
      "text/plain": [
       "y⋅log(5⋅x - 3⋅y)"
      ]
     },
     "execution_count": 4,
     "metadata": {},
     "output_type": "execute_result"
    }
   ],
   "source": [
    "expr = y*ln(5*x - 3*y)\n",
    "expr"
   ]
  },
  {
   "cell_type": "code",
   "execution_count": 5,
   "id": "representative-insulation",
   "metadata": {},
   "outputs": [
    {
     "data": {
      "image/png": "[encoded data removed]",
      "text/latex": [
       "$\\displaystyle \\frac{5 y}{5 x - 3 y}$"
      ],
      "text/plain": [
       "   5⋅y   \n",
       "─────────\n",
       "5⋅x - 3⋅y"
      ]
     },
     "execution_count": 5,
     "metadata": {},
     "output_type": "execute_result"
    }
   ],
   "source": [
    "diff(expr, x)"
   ]
  },
  {
   "cell_type": "code",
   "execution_count": 6,
   "id": "direct-oakland",
   "metadata": {},
   "outputs": [
    {
     "data": {
      "image/png": "[encoded data removed]",
      "text/latex": [
       "$\\displaystyle \\frac{- 3 y + \\left(5 x - 3 y\\right) \\log{\\left(5 x - 3 y \\right)}}{5 x - 3 y}$"
      ],
      "text/plain": [
       "-3⋅y + (5⋅x - 3⋅y)⋅log(5⋅x - 3⋅y)\n",
       "─────────────────────────────────\n",
       "            5⋅x - 3⋅y            "
      ]
     },
     "execution_count": 6,
     "metadata": {},
     "output_type": "execute_result"
    }
   ],
   "source": [
    "full_simplify(diff(expr, y))"
   ]
  },
  {
   "cell_type": "code",
   "execution_count": 8,
   "id": "middle-reach",
   "metadata": {},
   "outputs": [
    {
     "data": {
      "image/png": "[encoded data removed]",
      "text/latex": [
       "$\\displaystyle 3 x^{3} - x^{2} y^{4} - 4 y^{5}$"
      ],
      "text/plain": [
       "   3    2  4      5\n",
       "3⋅x  - x ⋅y  - 4⋅y "
      ]
     },
     "execution_count": 8,
     "metadata": {},
     "output_type": "execute_result"
    }
   ],
   "source": [
    "M = 3*pow(x, 3) - pow(x, 2)*pow(y, 4) - 4*pow(y, 5)\n",
    "M"
   ]
  },
  {
   "cell_type": "code",
   "execution_count": 9,
   "id": "manual-constitutional",
   "metadata": {},
   "outputs": [
    {
     "data": {
      "image/png": "[encoded data removed]",
      "text/latex": [
       "$\\displaystyle 9 x^{2} - 2 x y^{4}$"
      ],
      "text/plain": [
       "   2        4\n",
       "9⋅x  - 2⋅x⋅y "
      ]
     },
     "execution_count": 9,
     "metadata": {},
     "output_type": "execute_result"
    }
   ],
   "source": [
    "# M_x\n",
    "M.diff(x)"
   ]
  },
  {
   "cell_type": "code",
   "execution_count": 10,
   "id": "fantastic-speed",
   "metadata": {},
   "outputs": [
    {
     "data": {
      "image/png": "[encoded data removed]",
      "text/latex": [
       "$\\displaystyle - 4 x^{2} y^{3} - 20 y^{4}$"
      ],
      "text/plain": [
       "     2  3       4\n",
       "- 4⋅x ⋅y  - 20⋅y "
      ]
     },
     "execution_count": 10,
     "metadata": {},
     "output_type": "execute_result"
    }
   ],
   "source": [
    "# M_y\n",
    "M.diff(y)"
   ]
  },
  {
   "cell_type": "code",
   "execution_count": 11,
   "id": "resistant-finding",
   "metadata": {},
   "outputs": [
    {
     "data": {
      "image/png": "[encoded data removed]",
      "text/latex": [
       "$\\displaystyle 2 \\left(9 x - y^{4}\\right)$"
      ],
      "text/plain": [
       "  ⎛       4⎞\n",
       "2⋅⎝9⋅x - y ⎠"
      ]
     },
     "execution_count": 11,
     "metadata": {},
     "output_type": "execute_result"
    }
   ],
   "source": [
    "# M_xx\n",
    "M.diff(x, 2)"
   ]
  },
  {
   "cell_type": "code",
   "execution_count": 12,
   "id": "monthly-cloud",
   "metadata": {},
   "outputs": [
    {
     "data": {
      "image/png": "[encoded data removed]",
      "text/latex": [
       "$\\displaystyle - 8 x y^{3}$"
      ],
      "text/plain": [
       "      3\n",
       "-8⋅x⋅y "
      ]
     },
     "execution_count": 12,
     "metadata": {},
     "output_type": "execute_result"
    }
   ],
   "source": [
    "# M_xy\n",
    "M.diff(x).diff(y)"
   ]
  },
  {
   "cell_type": "code",
   "execution_count": 28,
   "id": "adopted-cassette",
   "metadata": {},
   "outputs": [
    {
     "data": {
      "image/png": "[encoded data removed]",
      "text/latex": [
       "$\\displaystyle 4 e^{x^{2} - 2 y}$"
      ],
      "text/plain": [
       "    2      \n",
       "   x  - 2⋅y\n",
       "4⋅ℯ        "
      ]
     },
     "execution_count": 28,
     "metadata": {},
     "output_type": "execute_result"
    }
   ],
   "source": [
    "Z = 4*exp(pow(x,2) - 2*y)\n",
    "Z"
   ]
  },
  {
   "cell_type": "code",
   "execution_count": 31,
   "id": "soviet-linux",
   "metadata": {},
   "outputs": [
    {
     "data": {
      "image/png": "[encoded data removed]",
      "text/latex": [
       "$\\displaystyle 32 x - 8 y - 60$"
      ],
      "text/plain": [
       "32⋅x - 8⋅y - 60"
      ]
     },
     "execution_count": 31,
     "metadata": {},
     "output_type": "execute_result"
    }
   ],
   "source": [
    "point = [(x, 4), (y, 8)]\n",
    "# equation for a tagent plane\n",
    "# z = f(a, b) + f_x(a, b)(x - a) + f_y(a, b)(y - b)\n",
    "Z.subs(point) + \\\n",
    "Z.diff(x).subs(point) * (x - point[0][1]) + \\\n",
    "Z.diff(y).subs(point)* (y - point[1][1])"
   ]
  },
  {
   "cell_type": "code",
   "execution_count": 35,
   "id": "rocky-briefs",
   "metadata": {},
   "outputs": [
    {
     "data": {
      "image/png": "[encoded data removed]",
      "text/latex": [
       "$\\displaystyle \\frac{2 \\sqrt{3} \\sqrt{x y}}{3}$"
      ],
      "text/plain": [
       "       _____\n",
       "2⋅√3⋅╲╱ x⋅y \n",
       "────────────\n",
       "     3      "
      ]
     },
     "execution_count": 35,
     "metadata": {},
     "output_type": "execute_result"
    }
   ],
   "source": [
    "f = 4*sqrt((x*y)/12)\n",
    "f"
   ]
  },
  {
   "cell_type": "code",
   "execution_count": 37,
   "id": "broad-badge",
   "metadata": {},
   "outputs": [
    {
     "data": {
      "image/png": "[encoded data removed]",
      "text/latex": [
       "$\\displaystyle \\frac{x}{2} + \\frac{2 y}{3}$"
      ],
      "text/plain": [
       "x   2⋅y\n",
       "─ + ───\n",
       "2    3 "
      ]
     },
     "execution_count": 37,
     "metadata": {},
     "output_type": "execute_result"
    }
   ],
   "source": [
    "point = [(x, 8), (y, 6)]\n",
    "# equation for a tagent plane\n",
    "# z = f(a, b) + f_x(a, b)(x - a) + f_y(a, b)(y - b)\n",
    "plane = f.subs(point) + \\\n",
    "f.diff(x).subs(point) * (x - point[0][1]) + \\\n",
    "f.diff(y).subs(point)* (y - point[1][1])\n",
    "plane"
   ]
  },
  {
   "cell_type": "code",
   "execution_count": 39,
   "id": "tracked-child",
   "metadata": {},
   "outputs": [
    {
     "data": {
      "image/png": "[encoded data removed]",
      "text/latex": [
       "$\\displaystyle 8.25333333333333$"
      ],
      "text/plain": [
       "8.25333333333333"
      ]
     },
     "execution_count": 39,
     "metadata": {},
     "output_type": "execute_result"
    }
   ],
   "source": [
    "plane.subs(x, 8.24).subs(y, 6.2)"
   ]
  },
  {
   "cell_type": "code",
   "execution_count": 41,
   "id": "domestic-celtic",
   "metadata": {},
   "outputs": [
    {
     "data": {
      "image/png": "[encoded data removed]",
      "text/latex": [
       "$\\displaystyle x e^{5 y}$"
      ],
      "text/plain": [
       "   5⋅y\n",
       "x⋅ℯ   "
      ]
     },
     "execution_count": 41,
     "metadata": {},
     "output_type": "execute_result"
    }
   ],
   "source": [
    "z = x * exp(5*y)\n",
    "z"
   ]
  },
  {
   "cell_type": "code",
   "execution_count": 43,
   "id": "opposite-million",
   "metadata": {},
   "outputs": [
    {
     "data": {
      "image/png": "[encoded data removed]",
      "text/latex": [
       "$\\displaystyle t^{3} \\left(10 t + 4\\right) e^{10 t - 15}$"
      ],
      "text/plain": [
       " 3             10⋅t - 15\n",
       "t ⋅(10⋅t + 4)⋅ℯ         "
      ]
     },
     "execution_count": 43,
     "metadata": {},
     "output_type": "execute_result"
    }
   ],
   "source": [
    "full_simplify(z.subs(x, pow(t, 4)).subs(y, -3 + 2*t).diff(t))"
   ]
  },
  {
   "cell_type": "code",
   "execution_count": 47,
   "id": "floppy-aspect",
   "metadata": {},
   "outputs": [
    {
     "data": {
      "image/png": "[encoded data removed]",
      "text/latex": [
       "$\\displaystyle \\frac{8.31 T}{P}$"
      ],
      "text/plain": [
       "8.31⋅T\n",
       "──────\n",
       "  P   "
      ]
     },
     "execution_count": 47,
     "metadata": {},
     "output_type": "execute_result"
    }
   ],
   "source": [
    "V = 8.31*T/P\n"
   ]
  },
  {
   "cell_type": "code",
   "execution_count": 50,
   "id": "alert-copyright",
   "metadata": {},
   "outputs": [
    {
     "data": {
      "image/png": "[encoded data removed]",
      "text/latex": [
       "$\\displaystyle -0.232699762187872$"
      ],
      "text/plain": [
       "-0.2326997621878716"
      ]
     },
     "execution_count": 50,
     "metadata": {},
     "output_type": "execute_result"
    }
   ],
   "source": [
    "# chain rule:\n",
    "# dz   df   dx   df   dy\n",
    "# -- = -- * -- + -- * -- \n",
    "# dt   dx   dt   dy   dt\n",
    "dT_dt = 0.15\n",
    "dP_dt = 0.09\n",
    "P_t = 29\n",
    "T_t = 310\n",
    "(8.31 * dT_dt) / P_t - (8.31 * T_t * dP_dt) / P_t**2"
   ]
  },
  {
   "cell_type": "code",
   "execution_count": 115,
   "id": "derived-jersey",
   "metadata": {},
   "outputs": [
    {
     "name": "stdout",
     "output_type": "stream",
     "text": [
      "[{x: 0, y: 0}, {x: -sqrt(2)/4, y: -sqrt(2)/4}, {x: sqrt(2)/4, y: sqrt(2)/4}, {x: -sqrt(2)*I/4, y: sqrt(2)*I/4}, {x: sqrt(2)*I/4, y: -sqrt(2)*I/4}, {x: -1/4 - I/4, y: 1/4 - I/4}, {x: -1/4 + I/4, y: 1/4 + I/4}, {x: 1/4 - I/4, y: -1/4 - I/4}, {x: 1/4 + I/4, y: -1/4 + I/4}]\n",
      "Critical numbers are: {x: 0, y: 0}, {x: -sqrt(2)/4, y: -sqrt(2)/4}, {x: sqrt(2)/4, y: sqrt(2)/4}, {x: -sqrt(2)*I/4, y: sqrt(2)*I/4}, {x: sqrt(2)*I/4, y: -sqrt(2)*I/4}, {x: -1/4 - I/4, y: 1/4 - I/4}, {x: -1/4 + I/4, y: 1/4 + I/4}, {x: 1/4 - I/4, y: -1/4 - I/4}, {x: 1/4 + I/4, y: -1/4 + I/4}\n",
      "{x: 0, y: 0}\n",
      "{x: -sqrt(2)/4, y: -sqrt(2)/4}\n",
      "{x: sqrt(2)/4, y: sqrt(2)/4}\n",
      "{x: -sqrt(2)*I/4, y: sqrt(2)*I/4}\n",
      "{x: sqrt(2)*I/4, y: -sqrt(2)*I/4}\n",
      "{x: -1/4 - I/4, y: 1/4 - I/4}\n",
      "{x: -1/4 + I/4, y: 1/4 + I/4}\n",
      "{x: 1/4 - I/4, y: -1/4 - I/4}\n",
      "{x: 1/4 + I/4, y: -1/4 + I/4}\n",
      "Minimums\n",
      "f({x: -sqrt(2)/4, y: -sqrt(2)/4}) = -1/16\n",
      "f({x: sqrt(2)/4, y: sqrt(2)/4}) = -1/16\n",
      "Maximums\n",
      "Non Max/Min critical points\n",
      "f({x: 0, y: 0}) = 0\n"
     ]
    },
    {
     "data": {
      "image/png": "[encoded data removed]",
      "text/latex": [
       "$\\displaystyle 2 x^{4} - x y + 2 y^{4}$"
      ],
      "text/plain": [
       "   4            4\n",
       "2⋅x  - x⋅y + 2⋅y "
      ]
     },
     "execution_count": 115,
     "metadata": {},
     "output_type": "execute_result"
    }
   ],
   "source": [
    "def second_derivative_test(f, x, y):\n",
    "    f_x = f.diff(x)\n",
    "    f_y = f.diff(y)\n",
    "    f_xx = f.diff(x, 2)\n",
    "    f_yy = f.diff(y, 2)\n",
    "    f_xy = f.diff(x).diff(y)\n",
    "    \n",
    "    cps = solve([f_x, f_y])\n",
    "    critical_points = cps if type(cps) == list else [cps]\n",
    "    print(critical_points)\n",
    "    print(f\"Critical numbers are: {', '.join(map(str, critical_points))}\")\n",
    "    minimums = []\n",
    "    maximums = []\n",
    "    non_ms = []\n",
    "    for cp in critical_points:\n",
    "        print(cp)\n",
    "        if not cp[x].is_real or not cp[y].is_real:\n",
    "            continue\n",
    "        D = f_xx.subs(x, cp[x]).subs(y, cp[y]) * \\\n",
    "            f_yy.subs(x, cp[x]).subs(y, cp[y]) - \\\n",
    "            pow(f_xy.subs(x, cp[x]).subs(y, cp[y]), 2)\n",
    "        if D > 0 and f_xx.subs(x, cp[x]).subs(y, cp[y]) > 0:\n",
    "            minimums.append((cp, f.subs(x, cp[x]).subs(y, cp[y]), D))\n",
    "        elif D > 0 and f_xx.subs(x, cp[x]).subs(y, cp[y]) < 0:\n",
    "            maximums.append((cp, f.subs(x, cp[x]).subs(y, cp[y]),D))\n",
    "        elif D < 0:\n",
    "            non_ms.append((cp, f.subs(x, cp[x]).subs(y, cp[y]),D))\n",
    "    \n",
    "    print(f\"Minimums\")\n",
    "    for m in sorted(minimums, key=lambda m: m[1]):\n",
    "        print(f\"f({m[0]}) = {m[1]}\")   \n",
    "    print(f\"Maximums\")\n",
    "    for m in reversed(sorted(maximums, key=lambda m: m[1])):\n",
    "        print(f\"f({m[0]}) = {m[1]}\") \n",
    "        \n",
    "    print(f\"Non Max/Min critical points\")\n",
    "    for m in sorted(non_ms, key=lambda m: m[1]):\n",
    "        print(f\"f({m[0]}) = {m[1]}\")          \n",
    "\n",
    "f = 2*pow(x, 4) + 2*pow(y, 4) - x*y\n",
    "# S = 9*x + 5*y - 7*pow(x, 2) - 2*pow(y, 2) - 3*x*y\n",
    "second_derivative_test(f, x, y)\n",
    "f"
   ]
  },
  {
   "cell_type": "code",
   "execution_count": 116,
   "id": "driven-danger",
   "metadata": {},
   "outputs": [
    {
     "name": "stdout",
     "output_type": "stream",
     "text": [
      "[{x: -10, y: 0}, {x: -10, y: 12}, {x: 0, y: 0}, {x: 0, y: 12}]\n",
      "Critical numbers are: {x: -10, y: 0}, {x: -10, y: 12}, {x: 0, y: 0}, {x: 0, y: 12}\n",
      "{x: -10, y: 0}\n",
      "{x: -10, y: 12}\n",
      "{x: 0, y: 0}\n",
      "{x: 0, y: 12}\n",
      "Minimums\n",
      "f({x: 0, y: 12}) = -865\n",
      "Maximums\n",
      "f({x: -10, y: 0}) = 499\n",
      "Non Max/Min critical points\n",
      "f({x: -10, y: 12}) = -365\n",
      "f({x: 0, y: 0}) = -1\n"
     ]
    },
    {
     "data": {
      "image/png": "[encoded data removed]",
      "text/latex": [
       "$\\displaystyle x^{3} + 15 x^{2} + y^{3} - 18 y^{2} - 1$"
      ],
      "text/plain": [
       " 3       2    3       2    \n",
       "x  + 15⋅x  + y  - 18⋅y  - 1"
      ]
     },
     "execution_count": 116,
     "metadata": {},
     "output_type": "execute_result"
    }
   ],
   "source": [
    "f = pow(x, 3) + pow(y, 3) + 15*pow(x, 2) - 18*pow(y,2) - 1\n",
    "second_derivative_test(f, x, y)\n",
    "f"
   ]
  },
  {
   "cell_type": "code",
   "execution_count": 122,
   "id": "precious-singer",
   "metadata": {},
   "outputs": [
    {
     "data": {
      "image/png": "[encoded data removed]",
      "text/latex": [
       "$\\displaystyle - 3 x^{2} - 5 x y + 4 x - 6 y^{2} + 9 y$"
      ],
      "text/plain": [
       "     2                    2      \n",
       "- 3⋅x  - 5⋅x⋅y + 4⋅x - 6⋅y  + 9⋅y"
      ]
     },
     "execution_count": 122,
     "metadata": {},
     "output_type": "execute_result"
    }
   ],
   "source": [
    "S = 4*x + 9*y - 3*pow(x, 2) - 6*pow(y, 2) - 5*x*y\n",
    "S"
   ]
  },
  {
   "cell_type": "code",
   "execution_count": 123,
   "id": "drawn-banana",
   "metadata": {},
   "outputs": [
    {
     "data": {
      "image/png": "[encoded data removed]",
      "text/latex": [
       "$\\displaystyle - 6 x - 5 y + 4$"
      ],
      "text/plain": [
       "-6⋅x - 5⋅y + 4"
      ]
     },
     "execution_count": 123,
     "metadata": {},
     "output_type": "execute_result"
    }
   ],
   "source": [
    "S.diff(x)"
   ]
  },
  {
   "cell_type": "code",
   "execution_count": 124,
   "id": "attempted-johnston",
   "metadata": {},
   "outputs": [
    {
     "data": {
      "image/png": "[encoded data removed]",
      "text/latex": [
       "$\\displaystyle - 5 x - 12 y + 9$"
      ],
      "text/plain": [
       "-5⋅x - 12⋅y + 9"
      ]
     },
     "execution_count": 124,
     "metadata": {},
     "output_type": "execute_result"
    }
   ],
   "source": [
    "S.diff(y)"
   ]
  },
  {
   "cell_type": "code",
   "execution_count": 125,
   "id": "level-spectrum",
   "metadata": {},
   "outputs": [
    {
     "name": "stdout",
     "output_type": "stream",
     "text": [
      "[{x: 3/47, y: 34/47}]\n",
      "Critical numbers are: {x: 3/47, y: 34/47}\n",
      "{x: 3/47, y: 34/47}\n",
      "Minimums\n",
      "Maximums\n",
      "f({x: 3/47, y: 34/47}) = 159/47\n",
      "Non Max/Min critical points\n"
     ]
    }
   ],
   "source": [
    "second_derivative_test(S, x, y)"
   ]
  },
  {
   "cell_type": "code",
   "execution_count": 194,
   "id": "satisfied-acting",
   "metadata": {},
   "outputs": [
    {
     "name": "stdout",
     "output_type": "stream",
     "text": [
      "f(-1,0) = 1\n",
      "f(1,0) = 1\n",
      "f(0,-1) = 2\n",
      "f(0,1) = 2\n"
     ]
    }
   ],
   "source": [
    "def lagrange_optimize(f, g, vs):\n",
    "    lam = Symbol('lam')\n",
    "    eqs = [g]\n",
    "    for v in vs:\n",
    "        eqs.append(f.diff(v) - lam * g.diff(v))\n",
    "    sls = solve(eqs)\n",
    "    solutions = sls if type(sls) == list else [sls]\n",
    "    for s in solutions:\n",
    "        #print(list(map(lambda x: x.is_real, map(lambda u: s[u], vs))))\n",
    "        real_values = list(filter(lambda k: k.is_real, map(lambda u: s[u], vs)))\n",
    "        if len(real_values) != len(vs):\n",
    "            continue\n",
    "        print(\"f(\", end='')\n",
    "        params = ''\n",
    "        for v in vs:\n",
    "            params += f\"{s[v]},\"\n",
    "        print(params.strip(','), end='')\n",
    "        print(\") = \", end='')\n",
    "\n",
    "        point = f\n",
    "        for v in vs:\n",
    "            point = point.subs(v, s[v])\n",
    "        print(point)\n",
    "        \n",
    "\n",
    "lagrange_optimize(pow(x, 2) + 2*pow(y, 2), pow(x, 2) + pow(y, 2) - 1, [x, y])   "
   ]
  },
  {
   "cell_type": "code",
   "execution_count": 195,
   "id": "specialized-loading",
   "metadata": {},
   "outputs": [
    {
     "name": "stdout",
     "output_type": "stream",
     "text": [
      "f(11.9113842519643,5.49756196244507,4.58130163537090) = 9.82253594754995\n"
     ]
    }
   ],
   "source": [
    "from sympy.abc import *\n",
    "f = x*y*0.05 + y*z*0.10 + 0.03*(y*z + 2*x*z)\n",
    "g = x*y*z - 300\n",
    "# x depth\n",
    "# y = front\n",
    "# z = height\n",
    "lagrange_optimize(f, g, [x, y, z])"
   ]
  },
  {
   "cell_type": "code",
   "execution_count": 196,
   "id": "nonprofit-chassis",
   "metadata": {},
   "outputs": [
    {
     "name": "stdout",
     "output_type": "stream",
     "text": [
      "f(1275,425) = 2530050\n"
     ]
    }
   ],
   "source": [
    "from sympy.abc import *\n",
    "\n",
    "f = pow(x, 2) + x*y + 2*pow(y, 2) + 1300\n",
    "g = x + y - 1700\n",
    "lagrange_optimize(f, g, [x, y])"
   ]
  },
  {
   "cell_type": "code",
   "execution_count": 198,
   "id": "moving-arbor",
   "metadata": {},
   "outputs": [
    {
     "name": "stdout",
     "output_type": "stream",
     "text": [
      "f(600.000000000000,30.0000000000000) = 3295.68162991835\n"
     ]
    }
   ],
   "source": [
    "from sympy.abc import *\n",
    "\n",
    "f = 10*pow(p, 0.8)*pow(r, 0.2)\n",
    "g = p*400 + r*2000 - 300000\n",
    "lagrange_optimize(f, g, [p, r])"
   ]
  }
 ],
 "metadata": {
  "kernelspec": {
   "display_name": "Python 3",
   "language": "python",
   "name": "python3"
  },
  "language_info": {
   "codemirror_mode": {
    "name": "ipython",
    "version": 3
   },
   "file_extension": ".py",
   "mimetype": "text/x-python",
   "name": "python",
   "nbconvert_exporter": "python",
   "pygments_lexer": "ipython3",
   "version": "3.9.1"
  }
 },
 "nbformat": 4,
 "nbformat_minor": 5
}
