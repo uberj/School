{
 "cells": [
  {
   "cell_type": "code",
   "execution_count": 2,
   "id": "comparative-slide",
   "metadata": {},
   "outputs": [
    {
     "name": "stdout",
     "output_type": "stream",
     "text": [
      "x1: 17.254902\n",
      "x2: 8.627451\n",
      "x3: 25.882353\n",
      "optimum: 11776.470614999998\n"
     ]
    }
   ],
   "source": [
    "# Study Questions\n",
    "from pulp import LpVariable, LpProblem, LpMaximize, LpMinimize, LpStatus, value\n",
    "\n",
    "# Declare variables\n",
    "x1 = LpVariable('x1', 0, None)\n",
    "x2 = LpVariable('x2', 0, None)\n",
    "x3 = LpVariable('x3', 0, None)\n",
    "\n",
    "# define the problem\n",
    "prob = LpProblem(\"problem\", LpMaximize)\n",
    "\n",
    "# defines the constraints\n",
    "\n",
    "prob += x1 + x2 + x3 <= 400\n",
    "prob += x1*20 + x2*35 + x3*60 <= 2200\n",
    "prob += x3 -x1 - x2 <= 0\n",
    "prob += x1 >= 2*x2\n",
    "#prob += -x1 + 2*x2 <= 0\n",
    "\n",
    "# defines the objective function to minimize\n",
    "prob += x1*95 + x2*200 + x3*325\n",
    "\n",
    "# solve the problem\n",
    "status = prob.solve()\n",
    "LpStatus[status]\n",
    "\n",
    "for var in [x1, x2, x3]:\n",
    "    print(f\"{var}: {value(var)}\")\n",
    "print(f\"optimum: {value(x1)*95 + value(x2)*200 + value(x3)*325}\")"
   ]
  },
  {
   "cell_type": "code",
   "execution_count": 7,
   "id": "fourth-assets",
   "metadata": {},
   "outputs": [
    {
     "name": "stdout",
     "output_type": "stream",
     "text": [
      "x1: 30.0\n",
      "x2: 197.25\n",
      "x3: 75.75\n",
      "optimum: 303.0\n"
     ]
    }
   ],
   "source": [
    "# Declare variables\n",
    "x1 = LpVariable('x1', 0, None) # min walking\n",
    "x2 = LpVariable('x2', 0, None) # min cycling\n",
    "x3 = LpVariable('x3', 0, None) # min swimming\n",
    "\n",
    "# define the problem\n",
    "prob = LpProblem(\"problem\", LpMinimize)\n",
    "\n",
    "# defines the constraints\n",
    "\n",
    "prob += 3.5*x1 + 4*x2 + 8*x3 >= 1500\n",
    "prob += x1 + x2 >= 3*x3\n",
    "prob += x1 >= 30\n",
    "\n",
    "# defines the objective function to minimize\n",
    "prob += x1 + x2 + x3\n",
    "\n",
    "# solve the problem\n",
    "status = prob.solve()\n",
    "LpStatus[status]\n",
    "\n",
    "for var in [x1, x2, x3]:\n",
    "    print(f\"{var}: {value(var)}\")\n",
    "print(f\"optimum: {value(x1) + value(x2) + value(x3)}\")"
   ]
  },
  {
   "cell_type": "code",
   "execution_count": 13,
   "id": "surface-seating",
   "metadata": {},
   "outputs": [],
   "source": [
    "import sympy as sym\n",
    "def full_simplify(expr):\n",
    "    cur = expr\n",
    "    while True:\n",
    "        nxt = sym.simplify(cur)\n",
    "        if cur == nxt:\n",
    "            return cur\n",
    "        cur = nxt"
   ]
  },
  {
   "cell_type": "code",
   "execution_count": 9,
   "id": "posted-fruit",
   "metadata": {},
   "outputs": [
    {
     "data": {
      "text/latex": [
       "$\\displaystyle \\frac{x^{2}}{2 - 2 x}$"
      ],
      "text/plain": [
       "x**2/(2 - 2*x)"
      ]
     },
     "execution_count": 9,
     "metadata": {},
     "output_type": "execute_result"
    }
   ],
   "source": [
    "x = sym.symbols('x')\n",
    "expr = x**2 / (2*(1 - x))\n",
    "expr"
   ]
  },
  {
   "cell_type": "code",
   "execution_count": 14,
   "id": "superb-material",
   "metadata": {},
   "outputs": [
    {
     "data": {
      "text/latex": [
       "$\\displaystyle - \\frac{x \\left(x - 2\\right)}{2 \\left(x - 1\\right)^{2}}$"
      ],
      "text/plain": [
       "-x*(x - 2)/(2*(x - 1)**2)"
      ]
     },
     "execution_count": 14,
     "metadata": {},
     "output_type": "execute_result"
    }
   ],
   "source": [
    "full_simplify(sym.diff(expr))"
   ]
  },
  {
   "cell_type": "code",
   "execution_count": 16,
   "id": "utility-economics",
   "metadata": {},
   "outputs": [
    {
     "data": {
      "text/latex": [
       "$\\displaystyle 0.117283950617284$"
      ],
      "text/plain": [
       "0.117283950617284"
      ]
     },
     "execution_count": 16,
     "metadata": {},
     "output_type": "execute_result"
    }
   ],
   "source": [
    "full_simplify(sym.diff(expr)).subs(x, 0.1)"
   ]
  },
  {
   "cell_type": "code",
   "execution_count": 12,
   "id": "disciplinary-senator",
   "metadata": {},
   "outputs": [
    {
     "data": {
      "text/latex": [
       "$\\displaystyle 3.58163265306123$"
      ],
      "text/plain": [
       "3.58163265306123"
      ]
     },
     "execution_count": 12,
     "metadata": {},
     "output_type": "execute_result"
    }
   ],
   "source": [
    "full_simplify(sym.diff(expr)).subs(x, 0.65)"
   ]
  },
  {
   "cell_type": "code",
   "execution_count": 17,
   "id": "least-government",
   "metadata": {},
   "outputs": [
    {
     "data": {
      "text/latex": [
       "$\\displaystyle - \\frac{5.79}{x}$"
      ],
      "text/plain": [
       "-5.79/x"
      ]
     },
     "execution_count": 17,
     "metadata": {},
     "output_type": "execute_result"
    }
   ],
   "source": [
    "full_simplify(sym.diff(-5.79*sym.log(x)))"
   ]
  },
  {
   "cell_type": "code",
   "execution_count": 4,
   "id": "pursuant-america",
   "metadata": {},
   "outputs": [
    {
     "name": "stdout",
     "output_type": "stream",
     "text": [
      "a: 59.0\n",
      "l: 32.0\n",
      "optimum: 3286.0\n"
     ]
    }
   ],
   "source": [
    "# Question 1\n",
    "# Declare variables\n",
    "a = LpVariable('a', 0, None) # units for atlanta\n",
    "l = LpVariable('l', 0, None) # units for little rock\n",
    "\n",
    "# define the problem\n",
    "prob = LpProblem(\"problem\", LpMinimize)\n",
    "\n",
    "# defines the constraints\n",
    "\n",
    "prob += a >= 45\n",
    "prob += l >= 32\n",
    "prob += a + l <= 127\n",
    "prob += 20*a + 10*l >= 1500\n",
    "\n",
    "# defines the objective function to minimize\n",
    "prob += 34*a + 40*l\n",
    "\n",
    "# solve the problem\n",
    "status = prob.solve()\n",
    "LpStatus[status]\n",
    "\n",
    "for var in [a, l]:\n",
    "    print(f\"{var}: {value(var)}\")\n",
    "print(f\"optimum: {34*value(a) + 40*value(l)}\")"
   ]
  },
  {
   "cell_type": "code",
   "execution_count": 6,
   "id": "outside-specification",
   "metadata": {},
   "outputs": [
    {
     "name": "stdout",
     "output_type": "stream",
     "text": [
      "x: 0.0\n",
      "y: 33.75\n",
      "z: 0.0\n",
      "optimum: 232875.0\n"
     ]
    }
   ],
   "source": [
    "# Question 2\n",
    "# Declare variables\n",
    "x = LpVariable('x', 0, None)\n",
    "y = LpVariable('y', 0, None)\n",
    "z = LpVariable('z', 0, None)\n",
    "\n",
    "# define the problem\n",
    "prob = LpProblem(\"problem\", LpMinimize)\n",
    "\n",
    "# defines the constraints\n",
    "prob += 10*x + 40*y + 20*z >= 1350\n",
    "prob += 25*y + 15*z >= 750\n",
    "prob += 10*x + 20*y >= 660\n",
    "\n",
    "# defines the objective function to minimize\n",
    "prob += x*6200 + y*6900 + z*6800\n",
    "\n",
    "# solve the problem\n",
    "status = prob.solve()\n",
    "LpStatus[status]\n",
    "\n",
    "for var in [x, y, z]:\n",
    "    print(f\"{var}: {value(var)}\")\n",
    "print(f\"optimum: {value(x)*6200 + value(y)*6900 + value(z)*6800}\")"
   ]
  },
  {
   "cell_type": "code",
   "execution_count": 10,
   "id": "dental-emphasis",
   "metadata": {},
   "outputs": [],
   "source": [
    "import sympy as sym\n",
    "import math\n",
    "def full_simplify(expr):\n",
    "    cur = expr\n",
    "    while True:\n",
    "        nxt = sym.simplify(cur)\n",
    "        if cur == nxt:\n",
    "            return cur\n",
    "        cur = nxt"
   ]
  },
  {
   "cell_type": "code",
   "execution_count": 16,
   "id": "valued-italy",
   "metadata": {},
   "outputs": [
    {
     "data": {
      "text/latex": [
       "$\\displaystyle 501.3 - 463.2012 e^{- 0.00216 t}$"
      ],
      "text/plain": [
       "501.3 - 463.2012*exp(-0.00216*t)"
      ]
     },
     "execution_count": 16,
     "metadata": {},
     "output_type": "execute_result"
    }
   ],
   "source": [
    "t = sym.symbols('t')\n",
    "expr = 501.3*(1-0.924*sym.exp(-0.00216*t))\n",
    "expr"
   ]
  },
  {
   "cell_type": "code",
   "execution_count": 17,
   "id": "rolled-algeria",
   "metadata": {},
   "outputs": [
    {
     "data": {
      "text/latex": [
       "$\\displaystyle 39.0982348138209$"
      ],
      "text/plain": [
       "39.0982348138209"
      ]
     },
     "execution_count": 17,
     "metadata": {},
     "output_type": "execute_result"
    }
   ],
   "source": [
    "expr.subs(t, 1)"
   ]
  },
  {
   "cell_type": "code",
   "execution_count": 25,
   "id": "chief-medline",
   "metadata": {},
   "outputs": [],
   "source": [
    "# As t gets really big, the exponent with t gets big. Because the exponent is\n",
    "# negative, its in the denominator and will bring its term to zero, leaving \n",
    "# only the first term (501.3)"
   ]
  },
  {
   "cell_type": "code",
   "execution_count": 23,
   "id": "specific-wheat",
   "metadata": {},
   "outputs": [
    {
     "data": {
      "text/latex": [
       "$\\displaystyle 1.000514592 e^{- 0.00216 t}$"
      ],
      "text/plain": [
       "1.000514592*exp(-0.00216*t)"
      ]
     },
     "execution_count": 23,
     "metadata": {},
     "output_type": "execute_result"
    }
   ],
   "source": [
    "d_1 = full_simplify(expr.diff(t, 1))\n",
    "d_1"
   ]
  },
  {
   "cell_type": "code",
   "execution_count": 24,
   "id": "athletic-bahamas",
   "metadata": {},
   "outputs": [
    {
     "data": {
      "text/latex": [
       "$\\displaystyle 0.186783415292972$"
      ],
      "text/plain": [
       "0.186783415292972"
      ]
     },
     "execution_count": 24,
     "metadata": {},
     "output_type": "execute_result"
    }
   ],
   "source": [
    "d_1.subs(t, 777)"
   ]
  }
 ],
 "metadata": {
  "kernelspec": {
   "display_name": "Python 3",
   "language": "python",
   "name": "python3"
  },
  "language_info": {
   "codemirror_mode": {
    "name": "ipython",
    "version": 3
   },
   "file_extension": ".py",
   "mimetype": "text/x-python",
   "name": "python",
   "nbconvert_exporter": "python",
   "pygments_lexer": "ipython3",
   "version": "3.9.1"
  }
 },
 "nbformat": 4,
 "nbformat_minor": 5
}
