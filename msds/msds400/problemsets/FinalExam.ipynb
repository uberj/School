{
 "cells": [
  {
   "cell_type": "code",
   "execution_count": 1,
   "id": "heavy-spain",
   "metadata": {},
   "outputs": [
    {
     "data": {
      "text/plain": [
       "<matplotlib.collections.PathCollection at 0x11af21040>"
      ]
     },
     "execution_count": 1,
     "metadata": {},
     "output_type": "execute_result"
    },
    {
     "data": {
      "image/png": "[encoded data removed]",
      "text/plain": [
       "<Figure size 432x288 with 1 Axes>"
      ]
     },
     "metadata": {
      "needs_background": "light"
     },
     "output_type": "display_data"
    }
   ],
   "source": [
    "import matplotlib.pyplot as plt\n",
    "import numpy as np\n",
    "from scipy import stats\n",
    "\n",
    "x = np.array([158, 250, 340, 349, 391, 190, 220])\n",
    "y = np.array([32, 29, 14, 18, 12, 36, 43])\n",
    "\n",
    "plt.scatter(x, y, marker='o', color='r')"
   ]
  },
  {
   "cell_type": "code",
   "execution_count": 2,
   "id": "twelve-option",
   "metadata": {},
   "outputs": [
    {
     "name": "stdout",
     "output_type": "stream",
     "text": [
      "slope: -0.117\n",
      "y-intercept: 57.89\n",
      "correlation coefficient: -0.8789\n"
     ]
    }
   ],
   "source": [
    "slope, intercept, r_value, p_value, std_err = stats.linregress(x, y)\n",
    "\n",
    "print(f\"slope: {round(slope, 3)}\")\n",
    "print(f'y-intercept: {round(intercept, 3)}')\n",
    "print(f'correlation coefficient: {round(r_value, 4)}')"
   ]
  },
  {
   "cell_type": "code",
   "execution_count": 5,
   "id": "proved-disorder",
   "metadata": {},
   "outputs": [
    {
     "name": "stdout",
     "output_type": "stream",
     "text": [
      "A vehicle with 25 mpg is expected to have 281hp\n"
     ]
    }
   ],
   "source": [
    "# 25 = -0.117*x + 57.89\n",
    "print(f\"A vehicle with 25 mpg is expected to have {round((25 - 57.89)/-0.117)}hp\")"
   ]
  },
  {
   "cell_type": "code",
   "execution_count": 7,
   "id": "reverse-gospel",
   "metadata": {},
   "outputs": [
    {
     "data": {
      "text/plain": [
       "{x: 21500.0000000000, y: 13000.0000000000, z: 10000.0000000000}"
      ]
     },
     "execution_count": 7,
     "metadata": {},
     "output_type": "execute_result"
    }
   ],
   "source": [
    "import sympy as sym\n",
    "x,y,z = sym.symbols(\"x,y,z\")\n",
    "sym.solve([\n",
    "    x + y + z - 44500,\n",
    "    z - y + 3000,\n",
    "    x*0.04 + y*0.05 + z*0.06 - 2110\n",
    "]\n",
    ", [x,y,z])"
   ]
  },
  {
   "cell_type": "code",
   "execution_count": 8,
   "id": "collectible-advantage",
   "metadata": {},
   "outputs": [
    {
     "name": "stdout",
     "output_type": "stream",
     "text": [
      "x: 38.75\n",
      "y: 61.25\n",
      "optimum: 3.37125\n"
     ]
    }
   ],
   "source": [
    "from pulp import LpVariable, LpProblem, LpMaximize, LpMinimize, LpStatus, value\n",
    "\n",
    "# Declare variables\n",
    "x = LpVariable('x', 0, None)\n",
    "y = LpVariable('y', 0, None)\n",
    "\n",
    "\n",
    "# define the problem\n",
    "prob = LpProblem(\"problem\", LpMaximize)\n",
    "\n",
    "# defines the constraints\n",
    "\n",
    "prob += x <= 52\n",
    "prob += y <= 83\n",
    "prob += x + y <= 100\n",
    "prob += x*2.40 + y*0.80 <= 142\n",
    "\n",
    "# defines the objective function to minimize\n",
    "prob += 0.038*x + 0.031*y\n",
    "\n",
    "# solve the problem\n",
    "status = prob.solve()\n",
    "LpStatus[status]\n",
    "\n",
    "for var in [x, y]:\n",
    "    print(f\"{var}: {value(var)}\")\n",
    "print(f\"optimum: {value(x)*0.038 + value(y)*0.031}\")"
   ]
  },
  {
   "cell_type": "code",
   "execution_count": 18,
   "id": "afraid-drain",
   "metadata": {},
   "outputs": [
    {
     "name": "stdout",
     "output_type": "stream",
     "text": [
      "Max amount of butter fat: 3.33\n"
     ]
    }
   ],
   "source": [
    "# It makes more sense to round x up to 39 and y down to 61 (because x has more fat content)\n",
    "# but that would put us over the total cost constraint (39*2.40 + 61*0.80 = 142.4) \n",
    "# Something similar happens when rounding x to 38 and y to 62 (38*2.40 + 62*0.80 = 140.8)\n",
    "# So round both down\n",
    "print(f\"Max amount of butter fat: {round(0.038*38 + 0.031*61, 2)}\")"
   ]
  },
  {
   "cell_type": "code",
   "execution_count": 24,
   "id": "finished-civilian",
   "metadata": {},
   "outputs": [
    {
     "data": {
      "text/latex": [
       "$\\displaystyle 525 e^{- 0.33 t}$"
      ],
      "text/plain": [
       "525*exp(-0.33*t)"
      ]
     },
     "execution_count": 24,
     "metadata": {},
     "output_type": "execute_result"
    }
   ],
   "source": [
    "from sympy import *\n",
    "from sympy.abc import *\n",
    "\n",
    "A = 525*exp(-.33*t)\n",
    "A"
   ]
  },
  {
   "cell_type": "code",
   "execution_count": 22,
   "id": "reported-cargo",
   "metadata": {},
   "outputs": [
    {
     "data": {
      "text/latex": [
       "$\\displaystyle -64.38$"
      ],
      "text/plain": [
       "-64.38"
      ]
     },
     "execution_count": 22,
     "metadata": {},
     "output_type": "execute_result"
    }
   ],
   "source": [
    "round(A.diff(t).subs(t, 3), 2)"
   ]
  },
  {
   "cell_type": "code",
   "execution_count": 25,
   "id": "corrected-extent",
   "metadata": {},
   "outputs": [
    {
     "data": {
      "text/latex": [
       "$\\displaystyle -17.2$"
      ],
      "text/plain": [
       "-17.20"
      ]
     },
     "execution_count": 25,
     "metadata": {},
     "output_type": "execute_result"
    }
   ],
   "source": [
    "round(A.diff(t).subs(t, 7), 2)"
   ]
  },
  {
   "cell_type": "code",
   "execution_count": 41,
   "id": "phantom-judges",
   "metadata": {},
   "outputs": [
    {
     "name": "stdout",
     "output_type": "stream",
     "text": [
      "-173.192836932425\n",
      "-128.732375141706\n",
      "-124.553536817081\n",
      "-120.510349603718\n",
      "0\n"
     ]
    }
   ],
   "source": [
    "print(A.diff(t).subs(t, 0.001))\n",
    "print(A.diff(t).subs(t, 0.9))\n",
    "print(A.diff(t).subs(t, 1))\n",
    "print(A.diff(t).subs(t, 1.1))\n",
    "print(A.diff(t).subs(t, oo))"
   ]
  },
  {
   "cell_type": "code",
   "execution_count": 26,
   "id": "dominican-copying",
   "metadata": {},
   "outputs": [
    {
     "data": {
      "text/latex": [
       "$\\displaystyle 0$"
      ],
      "text/plain": [
       "0"
      ]
     },
     "execution_count": 26,
     "metadata": {},
     "output_type": "execute_result"
    }
   ],
   "source": [
    "A.subs(t, oo)"
   ]
  },
  {
   "cell_type": "code",
   "execution_count": 55,
   "id": "sharing-relief",
   "metadata": {},
   "outputs": [
    {
     "name": "stdout",
     "output_type": "stream",
     "text": [
      "------ Analysis for: (t**2 + 25)/(2*t) ------\n",
      "Critical numbers:\n",
      "(5.0, 5.0)\n",
      "Interval ends are:\n",
      "(1, 13)\n",
      "(12, 169/24)\n",
      "Max/Min Points:\n",
      "Max point: (1.0, 13.0)\n",
      "Min point: (5.0, 5.0)\n"
     ]
    },
    {
     "data": {
      "image/png": "[encoded data removed]",
      "text/latex": [
       "$\\displaystyle \\frac{t^{2} + 25}{2 t}$"
      ],
      "text/plain": [
       " 2     \n",
       "t  + 25\n",
       "───────\n",
       "  2⋅t  "
      ]
     },
     "execution_count": 55,
     "metadata": {},
     "output_type": "execute_result"
    }
   ],
   "source": [
    "def full_simplify(expr):\n",
    "    cur = expr\n",
    "    while True:\n",
    "        nxt = simplify(cur)\n",
    "        if cur == nxt:\n",
    "            return cur\n",
    "        cur = nxt\n",
    "        \n",
    "def analyze_function(f, x, interval=[]):\n",
    "    init_printing()\n",
    "    d_f = diff(f, x, 1)\n",
    "    critical_numbers = solve(d_f, x)\n",
    "    print(f\"------ Analysis for: {f} ------\")\n",
    "    max_point = (None, -2**64)\n",
    "    min_point = (None, 2**64)\n",
    "    print(\"Critical numbers:\")\n",
    "    for cn in critical_numbers:\n",
    "        if not cn.is_real:\n",
    "            continue\n",
    "        if interval and cn > max(interval):\n",
    "            continue\n",
    "        if interval and cn < min(interval):\n",
    "            continue\n",
    "        point = (cn, f.subs(x, cn))\n",
    "        max_point = max(max_point, point, key=lambda p: p[1])\n",
    "        min_point = min(min_point, point, key=lambda p: p[1])\n",
    "        print(f\"{tuple(map(float, point))}\")\n",
    "   \n",
    "    print(\"Interval ends are:\")\n",
    "    for n in interval:\n",
    "        point = (n, (f.subs(x, n) if n is not oo else n))\n",
    "        print(f\"{point}\")\n",
    "        max_point = max(max_point, point, key=lambda p: p[1])\n",
    "        min_point = min(min_point, point, key=lambda p: p[1])\n",
    "\n",
    "    if max_point[0] != None or min_point[0] != None:\n",
    "        print(\"Max/Min Points:\")\n",
    "        max_point[0] != None and print(f\"Max point: {tuple(map(float, max_point))}\")\n",
    "        min_point[0] != None and print(f\"Min point: {tuple(map(float, min_point))}\")\n",
    "    return full_simplify(f), full_simplify(d_f)\n",
    "\n",
    "\n",
    "M = (pow(t, 2) + 25)/(2*t)\n",
    "analyze_function(M, t, [1, 12])\n",
    "M"
   ]
  },
  {
   "cell_type": "code",
   "execution_count": 45,
   "id": "fossil-hampton",
   "metadata": {},
   "outputs": [
    {
     "data": {
      "image/png": "[encoded data removed]",
      "text/latex": [
       "$\\displaystyle - 0.891 x^{2} + 3.4 x + 40.5$"
      ],
      "text/plain": [
       "         2               \n",
       "- 0.891⋅x  + 3.4⋅x + 40.5"
      ]
     },
     "execution_count": 45,
     "metadata": {},
     "output_type": "execute_result"
    }
   ],
   "source": [
    "f = 40.5 + 3.4*x - 0.891*pow(x, 2)\n",
    "f"
   ]
  },
  {
   "cell_type": "code",
   "execution_count": 46,
   "id": "cathedral-thriller",
   "metadata": {},
   "outputs": [
    {
     "data": {
      "image/png": "[encoded data removed]",
      "text/latex": [
       "$\\displaystyle 285.687$"
      ],
      "text/plain": [
       "285.687000000000"
      ]
     },
     "execution_count": 46,
     "metadata": {},
     "output_type": "execute_result"
    }
   ],
   "source": [
    "integrate(f, (x, 0, 9))"
   ]
  },
  {
   "cell_type": "code",
   "execution_count": 49,
   "id": "ready-talent",
   "metadata": {},
   "outputs": [
    {
     "name": "stdout",
     "output_type": "stream",
     "text": [
      "Solutions:\n",
      "f(1,3) = 10\n"
     ]
    }
   ],
   "source": [
    "def lagrange_optimize(f, g, vs):\n",
    "    lam = Symbol('lam')\n",
    "    eqs = [g]\n",
    "    for v in vs:\n",
    "        eqs.append(f.diff(v) - lam * g.diff(v))\n",
    "    sls = solve(eqs)\n",
    "    solutions = sls if type(sls) == list else [sls]\n",
    "    print(\"Solutions:\")\n",
    "    for s in solutions:\n",
    "        real_values = list(filter(lambda k: k.is_real, map(lambda u: s[u], vs)))\n",
    "        if len(real_values) != len(vs):\n",
    "            continue\n",
    "        print(\"f(\", end='')\n",
    "        params = ''\n",
    "        for v in vs:\n",
    "            params += f\"{s[v]},\"\n",
    "        print(params.strip(','), end='')\n",
    "        print(\") = \", end='')\n",
    "\n",
    "        point = f\n",
    "        for v in vs:\n",
    "            point = point.subs(v, s[v])\n",
    "        print(point)\n",
    "        \n",
    "P = -pow(x, 2) - pow(y, 2) + 2*x +6*y\n",
    "g = x + y - 4\n",
    "lagrange_optimize(P, g, [x, y])"
   ]
  },
  {
   "cell_type": "code",
   "execution_count": 50,
   "id": "objective-anger",
   "metadata": {},
   "outputs": [
    {
     "data": {
      "image/png": "[encoded data removed]",
      "text/latex": [
       "$\\displaystyle 0.0133333333333333 e^{- 0.0133333333333333 t}$"
      ],
      "text/plain": [
       "                    -0.0133333333333333⋅t\n",
       "0.0133333333333333⋅ℯ                     "
      ]
     },
     "execution_count": 50,
     "metadata": {},
     "output_type": "execute_result"
    }
   ],
   "source": [
    "lam = 75\n",
    "expon = lambda l, x: (1/l)*exp((1/-l)*x) \n",
    "expon(lam, t)"
   ]
  },
  {
   "cell_type": "code",
   "execution_count": 53,
   "id": "viral-static",
   "metadata": {},
   "outputs": [
    {
     "name": "stdout",
     "output_type": "stream",
     "text": [
      "P(X <= 56) = 0.5261\n",
      "P(X >= 497) = 0.0013\n"
     ]
    }
   ],
   "source": [
    "# Using sympy integration\n",
    "print(f\"P(X <= 56) = {round(integrate(expon(lam, t), (t, 0, 56)), 4)}\")\n",
    "print(f\"P(X >= 497) = {round(integrate(expon(lam, t), (t, 497, oo)), 4)}\")"
   ]
  }
 ],
 "metadata": {
  "kernelspec": {
   "display_name": "Python 3",
   "language": "python",
   "name": "python3"
  },
  "language_info": {
   "codemirror_mode": {
    "name": "ipython",
    "version": 3
   },
   "file_extension": ".py",
   "mimetype": "text/x-python",
   "name": "python",
   "nbconvert_exporter": "python",
   "pygments_lexer": "ipython3",
   "version": "3.9.1"
  }
 },
 "nbformat": 4,
 "nbformat_minor": 5
}
