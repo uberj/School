{
 "cells": [
  {
   "cell_type": "code",
   "execution_count": 9,
   "id": "comic-basics",
   "metadata": {},
   "outputs": [
    {
     "data": {
      "text/plain": [
       "0.589"
      ]
     },
     "execution_count": 9,
     "metadata": {},
     "output_type": "execute_result"
    }
   ],
   "source": [
    "round(43/73, 4)"
   ]
  },
  {
   "cell_type": "code",
   "execution_count": 10,
   "id": "textile-dayton",
   "metadata": {},
   "outputs": [
    {
     "data": {
      "text/plain": [
       "0.3014"
      ]
     },
     "execution_count": 10,
     "metadata": {},
     "output_type": "execute_result"
    }
   ],
   "source": [
    "round(22/73, 4)"
   ]
  },
  {
   "cell_type": "code",
   "execution_count": 12,
   "id": "laughing-direction",
   "metadata": {},
   "outputs": [
    {
     "data": {
      "text/plain": [
       "0.9921875"
      ]
     },
     "execution_count": 12,
     "metadata": {},
     "output_type": "execute_result"
    }
   ],
   "source": [
    "127/2**7"
   ]
  },
  {
   "cell_type": "code",
   "execution_count": 13,
   "id": "durable-manual",
   "metadata": {},
   "outputs": [
    {
     "data": {
      "text/plain": [
       "0.0017279999999999997"
      ]
     },
     "execution_count": 13,
     "metadata": {},
     "output_type": "execute_result"
    }
   ],
   "source": [
    "(.12)**3"
   ]
  },
  {
   "cell_type": "code",
   "execution_count": 14,
   "id": "discrete-methodology",
   "metadata": {},
   "outputs": [
    {
     "data": {
      "text/plain": [
       "0.77"
      ]
     },
     "execution_count": 14,
     "metadata": {},
     "output_type": "execute_result"
    }
   ],
   "source": [
    "1 - .23\n"
   ]
  },
  {
   "cell_type": "code",
   "execution_count": 15,
   "id": "active-threat",
   "metadata": {},
   "outputs": [
    {
     "data": {
      "text/plain": [
       "0.35"
      ]
     },
     "execution_count": 15,
     "metadata": {},
     "output_type": "execute_result"
    }
   ],
   "source": [
    "0.23 + .12"
   ]
  },
  {
   "cell_type": "code",
   "execution_count": 16,
   "id": "brilliant-slave",
   "metadata": {},
   "outputs": [
    {
     "data": {
      "text/plain": [
       "0.0144"
      ]
     },
     "execution_count": 16,
     "metadata": {},
     "output_type": "execute_result"
    }
   ],
   "source": [
    ".12 * .12"
   ]
  },
  {
   "cell_type": "code",
   "execution_count": 17,
   "id": "rough-institute",
   "metadata": {},
   "outputs": [
    {
     "data": {
      "text/plain": [
       "0.59969536"
      ]
     },
     "execution_count": 17,
     "metadata": {},
     "output_type": "execute_result"
    }
   ],
   "source": [
    "(1-.12)**4"
   ]
  },
  {
   "cell_type": "code",
   "execution_count": 18,
   "id": "amateur-myrtle",
   "metadata": {},
   "outputs": [
    {
     "data": {
      "text/plain": [
       "0.7222222222222222"
      ]
     },
     "execution_count": 18,
     "metadata": {},
     "output_type": "execute_result"
    }
   ],
   "source": [
    "13/18"
   ]
  },
  {
   "cell_type": "code",
   "execution_count": 25,
   "id": "suspected-posting",
   "metadata": {},
   "outputs": [
    {
     "data": {
      "text/plain": [
       "0.246800731261426"
      ]
     },
     "execution_count": 25,
     "metadata": {},
     "output_type": "execute_result"
    }
   ],
   "source": [
    "0.27*.05/(.05*.20 + .22*.1 + .46*.02 + 0.27*.05)"
   ]
  },
  {
   "cell_type": "code",
   "execution_count": 26,
   "id": "psychological-fence",
   "metadata": {},
   "outputs": [
    {
     "data": {
      "text/plain": [
       "0.15406562054208273"
      ]
     },
     "execution_count": 26,
     "metadata": {},
     "output_type": "execute_result"
    }
   ],
   "source": [
    ".12*.09/(.06*.13 + .23*.07 + .59*.06 + .12*.09)"
   ]
  },
  {
   "cell_type": "code",
   "execution_count": 27,
   "id": "medium-affect",
   "metadata": {},
   "outputs": [
    {
     "data": {
      "text/plain": [
       "34.61538461538461"
      ]
     },
     "execution_count": 27,
     "metadata": {},
     "output_type": "execute_result"
    }
   ],
   "source": [
    "450/13"
   ]
  },
  {
   "cell_type": "code",
   "execution_count": 30,
   "id": "mexican-playback",
   "metadata": {},
   "outputs": [
    {
     "data": {
      "text/plain": [
       "0.9906508450197771"
      ]
     },
     "execution_count": 30,
     "metadata": {},
     "output_type": "execute_result"
    }
   ],
   "source": [
    "0.87*0.95/(0.87*0.95 + 0.13*0.06)"
   ]
  },
  {
   "cell_type": "code",
   "execution_count": 38,
   "id": "confidential-beijing",
   "metadata": {},
   "outputs": [
    {
     "data": {
      "text/plain": [
       "0.46531791907514447"
      ]
     },
     "execution_count": 38,
     "metadata": {},
     "output_type": "execute_result"
    }
   ],
   "source": [
    "a = 0.63*0.23\n",
    "b = 0.37*0.45\n",
    "a/(a + b)"
   ]
  },
  {
   "cell_type": "code",
   "execution_count": 39,
   "id": "editorial-reset",
   "metadata": {},
   "outputs": [
    {
     "data": {
      "text/plain": [
       "0.26850507982583455"
      ]
     },
     "execution_count": 39,
     "metadata": {},
     "output_type": "execute_result"
    }
   ],
   "source": [
    "a = 0.37*0.55\n",
    "b = 0.63*0.88\n",
    "a/(a + b)"
   ]
  },
  {
   "cell_type": "code",
   "execution_count": 41,
   "id": "changed-tribe",
   "metadata": {},
   "outputs": [
    {
     "data": {
      "text/plain": [
       "67600000"
      ]
     },
     "execution_count": 41,
     "metadata": {},
     "output_type": "execute_result"
    }
   ],
   "source": [
    "10*26*26*10*10*10*10"
   ]
  },
  {
   "cell_type": "code",
   "execution_count": 42,
   "id": "executive-berkeley",
   "metadata": {},
   "outputs": [
    {
     "data": {
      "text/plain": [
       "175760000"
      ]
     },
     "execution_count": 42,
     "metadata": {},
     "output_type": "execute_result"
    }
   ],
   "source": [
    "10*10*26*26*26*10*10"
   ]
  },
  {
   "cell_type": "code",
   "execution_count": 56,
   "id": "rental-suspension",
   "metadata": {},
   "outputs": [],
   "source": [
    "import math\n",
    "def choose(n, r):\n",
    "    return math.factorial(n) / (math.factorial(r) * math.factorial(n - r))\n",
    "\n",
    "def permute(n, r):\n",
    "    return math.factorial(n) / (math.factorial(n - r))\n"
   ]
  },
  {
   "cell_type": "code",
   "execution_count": 57,
   "id": "israeli-nebraska",
   "metadata": {},
   "outputs": [
    {
     "data": {
      "text/plain": [
       "184072680.0"
      ]
     },
     "execution_count": 57,
     "metadata": {},
     "output_type": "execute_result"
    }
   ],
   "source": [
    "47**5permute(47, 5)"
   ]
  },
  {
   "cell_type": "code",
   "execution_count": 64,
   "id": "talented-environment",
   "metadata": {},
   "outputs": [
    {
     "data": {
      "text/plain": [
       "8.0"
      ]
     },
     "execution_count": 64,
     "metadata": {},
     "output_type": "execute_result"
    }
   ],
   "source": [
    "probs = [\n",
    "    0.05,\n",
    "    0.05,\n",
    "    0.2,\n",
    "    0.25,\n",
    "    0.1,\n",
    "    0.35\n",
    "]\n",
    "scores = [\n",
    "    0,\n",
    "    4,\n",
    "    7,\n",
    "    8,\n",
    "    9,\n",
    "    10\n",
    "]\n",
    "import operator\n",
    "sum(map(lambda x: operator.mul(*x), list(zip(probs, scores))))"
   ]
  },
  {
   "cell_type": "code",
   "execution_count": 65,
   "id": "increasing-railway",
   "metadata": {},
   "outputs": [
    {
     "data": {
      "text/plain": [
       "0.008333333333333333"
      ]
     },
     "execution_count": 65,
     "metadata": {},
     "output_type": "execute_result"
    }
   ],
   "source": [
    "1/math.factorial(5)"
   ]
  },
  {
   "cell_type": "code",
   "execution_count": 68,
   "id": "controlling-weekly",
   "metadata": {},
   "outputs": [
    {
     "data": {
      "text/plain": [
       "1.6297910151577084e-05"
      ]
     },
     "execution_count": 68,
     "metadata": {},
     "output_type": "execute_result"
    }
   ],
   "source": [
    "1/choose(47, 5) + 4*5/choose(47, 5)"
   ]
  },
  {
   "cell_type": "code",
   "execution_count": 86,
   "id": "recognized-serum",
   "metadata": {},
   "outputs": [
    {
     "data": {
      "text/plain": [
       "1533939.0"
      ]
     },
     "execution_count": 86,
     "metadata": {},
     "output_type": "execute_result"
    }
   ],
   "source": [
    "choose(47, 5)"
   ]
  },
  {
   "cell_type": "code",
   "execution_count": 103,
   "id": "otherwise-oracle",
   "metadata": {},
   "outputs": [
    {
     "data": {
      "text/plain": [
       "70"
      ]
     },
     "execution_count": 103,
     "metadata": {},
     "output_type": "execute_result"
    }
   ],
   "source": [
    "math.factorial(5) - 50"
   ]
  },
  {
   "cell_type": "code",
   "execution_count": 93,
   "id": "olympic-turkey",
   "metadata": {},
   "outputs": [
    {
     "data": {
      "text/plain": [
       "0.0001369024452732475"
      ]
     },
     "execution_count": 93,
     "metadata": {},
     "output_type": "execute_result"
    }
   ],
   "source": [
    "70/511313"
   ]
  },
  {
   "cell_type": "code",
   "execution_count": 96,
   "id": "figured-tenant",
   "metadata": {},
   "outputs": [
    {
     "data": {
      "text/plain": [
       "178365.0"
      ]
     },
     "execution_count": 96,
     "metadata": {},
     "output_type": "execute_result"
    }
   ],
   "source": [
    "choose(47, 4)"
   ]
  },
  {
   "cell_type": "code",
   "execution_count": 104,
   "id": "patient-laugh",
   "metadata": {},
   "outputs": [
    {
     "data": {
      "text/plain": [
       "1533939.0"
      ]
     },
     "execution_count": 104,
     "metadata": {},
     "output_type": "execute_result"
    }
   ],
   "source": [
    "choose(47, 5)"
   ]
  },
  {
   "cell_type": "code",
   "execution_count": 114,
   "id": "strange-liechtenstein",
   "metadata": {},
   "outputs": [
    {
     "data": {
      "text/plain": [
       "210"
      ]
     },
     "execution_count": 114,
     "metadata": {},
     "output_type": "execute_result"
    }
   ],
   "source": [
    "5*(47-5)"
   ]
  },
  {
   "cell_type": "code",
   "execution_count": 124,
   "id": "conceptual-kazakhstan",
   "metadata": {},
   "outputs": [
    {
     "data": {
      "text/latex": [
       "$\\displaystyle 9.04207836980946 \\cdot 10^{-5}$"
      ],
      "text/plain": [
       "9.04207836980946e-5"
      ]
     },
     "execution_count": 124,
     "metadata": {},
     "output_type": "execute_result"
    }
   ],
   "source": [
    "from sympy import *\n",
    "numbers_already_chosen = 4\n",
    "the_right_choice = 1\n",
    "simplify(\n",
    "    choose(5,4)*(52-numbers_already_chosen - the_right_choice)/choose(52, 5)\n",
    ")"
   ]
  },
  {
   "cell_type": "code",
   "execution_count": 122,
   "id": "three-desktop",
   "metadata": {},
   "outputs": [
    {
     "data": {
      "text/plain": [
       "235.0"
      ]
     },
     "execution_count": 122,
     "metadata": {},
     "output_type": "execute_result"
    }
   ],
   "source": [
    "choose(5,4)*(52-numbers_already_chosen - the_right_choice)"
   ]
  },
  {
   "cell_type": "code",
   "execution_count": 123,
   "id": "about-andorra",
   "metadata": {},
   "outputs": [
    {
     "data": {
      "text/plain": [
       "2598960.0"
      ]
     },
     "execution_count": 123,
     "metadata": {},
     "output_type": "execute_result"
    }
   ],
   "source": [
    "choose(52, 5)"
   ]
  },
  {
   "cell_type": "code",
   "execution_count": 129,
   "id": "distinct-vietnam",
   "metadata": {},
   "outputs": [
    {
     "data": {
      "image/png": "[encoded data removed]",
      "text/latex": [
       "$\\displaystyle 0.5$"
      ],
      "text/plain": [
       "0.500000000000000"
      ]
     },
     "execution_count": 129,
     "metadata": {},
     "output_type": "execute_result"
    }
   ],
   "source": [
    "from __future__ import division\n",
    "init_printing(use_unicode=True)\n",
    "simplify(2/4)"
   ]
  },
  {
   "cell_type": "code",
   "execution_count": 130,
   "id": "daily-leeds",
   "metadata": {},
   "outputs": [
    {
     "data": {
      "image/png": "[encoded data removed]",
      "text/latex": [
       "$\\displaystyle 9.04207836980946 \\cdot 10^{-5}$"
      ],
      "text/plain": [
       "9.042078369809462e-05"
      ]
     },
     "execution_count": 130,
     "metadata": {},
     "output_type": "execute_result"
    }
   ],
   "source": [
    "47/519792"
   ]
  },
  {
   "cell_type": "code",
   "execution_count": 114,
   "id": "remarkable-safety",
   "metadata": {},
   "outputs": [
    {
     "data": {
      "text/plain": [
       "6.789300000000001"
      ]
     },
     "execution_count": 114,
     "metadata": {},
     "output_type": "execute_result"
    }
   ],
   "source": [
    "\"\"\"\n",
    "A company estimates that 0.7% of their products will fail after \n",
    "the original warranty period but within 2 years of the purchase, \n",
    "with a replacement cost of $50.\n",
    "\n",
    "If they offer a 2 year extended warranty for $7, what is the \n",
    "company's expected value of each warranty sold?\n",
    "\n",
    "6.65  \n",
    "\"\"\"\n",
    "0.07*50 + 0.93*0.07*50 + 0.07*0.07*7"
   ]
  },
  {
   "cell_type": "code",
   "execution_count": 135,
   "id": "forbidden-sierra",
   "metadata": {},
   "outputs": [
    {
     "data": {
      "text/plain": [
       "6.65"
      ]
     },
     "execution_count": 135,
     "metadata": {},
     "output_type": "execute_result"
    }
   ],
   "source": [
    "7 - 0.07*5"
   ]
  },
  {
   "cell_type": "code",
   "execution_count": 35,
   "id": "acoustic-prediction",
   "metadata": {},
   "outputs": [
    {
     "data": {
      "text/plain": [
       "3.5000000000000004"
      ]
     },
     "execution_count": 35,
     "metadata": {},
     "output_type": "execute_result"
    }
   ],
   "source": [
    "0.07*50 "
   ]
  },
  {
   "cell_type": "code",
   "execution_count": 30,
   "id": "genuine-twenty",
   "metadata": {},
   "outputs": [
    {
     "data": {
      "text/plain": [
       "0.24500000000000002"
      ]
     },
     "execution_count": 30,
     "metadata": {},
     "output_type": "execute_result"
    }
   ],
   "source": [
    "0.07*0.07*50"
   ]
  },
  {
   "cell_type": "code",
   "execution_count": 98,
   "id": "center-franchise",
   "metadata": {},
   "outputs": [
    {
     "data": {
      "text/plain": [
       "1.1906999999999996"
      ]
     },
     "execution_count": 98,
     "metadata": {},
     "output_type": "execute_result"
    }
   ],
   "source": [
    "P - F*(50 - P) - nF*F*(50 - P)"
   ]
  },
  {
   "cell_type": "code",
   "execution_count": 104,
   "id": "thermal-steal",
   "metadata": {},
   "outputs": [
    {
     "data": {
      "text/plain": [
       "10.254999999999999"
      ]
     },
     "execution_count": 104,
     "metadata": {},
     "output_type": "execute_result"
    }
   ],
   "source": [
    "(7 - 0.07*50) + (7 - 0.07*0.07*50)"
   ]
  },
  {
   "cell_type": "code",
   "execution_count": 142,
   "id": "pursuant-carry",
   "metadata": {},
   "outputs": [
    {
     "data": {
      "text/plain": [
       "10.95"
      ]
     },
     "execution_count": 142,
     "metadata": {},
     "output_type": "execute_result"
    }
   ],
   "source": [
    "\"\"\"\n",
    "A company estimates that 0.7% of their products will fail after the original \n",
    "warranty period but within 2 years of the purchase, with a replacement cost of $150.\n",
    "\n",
    "If they offer a 2 year extended warranty for $12, what is the company's expected \n",
    "value of each warranty sold?\n",
    "\"\"\"\n",
    "\n",
    "12 - 0.07*15"
   ]
  },
  {
   "cell_type": "code",
   "execution_count": 139,
   "id": "accessory-employee",
   "metadata": {},
   "outputs": [
    {
     "data": {
      "text/plain": [
       "10.51"
      ]
     },
     "execution_count": 139,
     "metadata": {},
     "output_type": "execute_result"
    }
   ],
   "source": [
    "12 - 1.49"
   ]
  }
 ],
 "metadata": {
  "kernelspec": {
   "display_name": "Python 3",
   "language": "python",
   "name": "python3"
  },
  "language_info": {
   "codemirror_mode": {
    "name": "ipython",
    "version": 3
   },
   "file_extension": ".py",
   "mimetype": "text/x-python",
   "name": "python",
   "nbconvert_exporter": "python",
   "pygments_lexer": "ipython3",
   "version": "3.7.6"
  }
 },
 "nbformat": 4,
 "nbformat_minor": 5
}
