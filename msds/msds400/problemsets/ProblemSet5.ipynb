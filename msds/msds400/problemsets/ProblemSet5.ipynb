{
 "cells": [
  {
   "cell_type": "code",
   "execution_count": 48,
   "id": "italian-evans",
   "metadata": {},
   "outputs": [
    {
     "data": {
      "text/latex": [
       "$\\displaystyle 2 x - 1$"
      ],
      "text/plain": [
       "2*x - 1"
      ]
     },
     "execution_count": 48,
     "metadata": {},
     "output_type": "execute_result"
    }
   ],
   "source": [
    "import sympy as sym\n",
    "x = sym.symbols('x')\n",
    "top = (x**3 - 10*x**2 + 6*x + 27)\n",
    "bottom = (x - 9)\n",
    "simplify(sym.diff(top/bottom, x))"
   ]
  },
  {
   "cell_type": "code",
   "execution_count": 49,
   "id": "timely-lunch",
   "metadata": {},
   "outputs": [
    {
     "data": {
      "text/latex": [
       "$\\displaystyle \\frac{x^{3} - 10 x^{2} + 6 x + 27}{x - 9}$"
      ],
      "text/plain": [
       "(x**3 - 10*x**2 + 6*x + 27)/(x - 9)"
      ]
     },
     "execution_count": 49,
     "metadata": {},
     "output_type": "execute_result"
    }
   ],
   "source": [
    "expr"
   ]
  },
  {
   "cell_type": "code",
   "execution_count": 35,
   "id": "technological-importance",
   "metadata": {},
   "outputs": [
    {
     "data": {
      "text/latex": [
       "$\\displaystyle 69$"
      ],
      "text/plain": [
       "69"
      ]
     },
     "execution_count": 35,
     "metadata": {},
     "output_type": "execute_result"
    }
   ],
   "source": [
    "sym.limit(top/bottom, x, 9)"
   ]
  },
  {
   "cell_type": "code",
   "execution_count": 36,
   "id": "black-diameter",
   "metadata": {},
   "outputs": [
    {
     "data": {
      "text/latex": [
       "$\\displaystyle 69$"
      ],
      "text/plain": [
       "69"
      ]
     },
     "execution_count": 36,
     "metadata": {},
     "output_type": "execute_result"
    }
   ],
   "source": [
    "sym.diff(top, x, 1).subs(x, 9) / sym.diff(bottom, x, 1).subs(x, 9)"
   ]
  },
  {
   "cell_type": "code",
   "execution_count": 37,
   "id": "sitting-excellence",
   "metadata": {},
   "outputs": [
    {
     "data": {
      "text/plain": [
       "4.0"
      ]
     },
     "execution_count": 37,
     "metadata": {},
     "output_type": "execute_result"
    }
   ],
   "source": [
    "32/8"
   ]
  },
  {
   "cell_type": "code",
   "execution_count": 53,
   "id": "crazy-control",
   "metadata": {},
   "outputs": [
    {
     "data": {
      "text/latex": [
       "$\\displaystyle \\frac{3 x^{0.5} + x^{3}}{x}$"
      ],
      "text/plain": [
       "(3*x**0.5 + x**3)/x"
      ]
     },
     "execution_count": 53,
     "metadata": {},
     "output_type": "execute_result"
    }
   ],
   "source": [
    "import sympy as sym\n",
    "x = sym.symbols('x')\n",
    "top = (x**3 + 3*x**(1/2))\n",
    "bottom = x\n",
    "top/bottom"
   ]
  },
  {
   "cell_type": "code",
   "execution_count": 137,
   "id": "automatic-edward",
   "metadata": {},
   "outputs": [
    {
     "data": {
      "image/png": "[encoded data removed]",
      "text/latex": [
       "$\\displaystyle \\frac{2.0 x^{2.5} - 1.5}{x^{1.5}}$"
      ],
      "text/plain": [
       " -1.5 ⎛     2.5      ⎞\n",
       "x    ⋅⎝2.0⋅x    - 1.5⎠"
      ]
     },
     "execution_count": 137,
     "metadata": {},
     "output_type": "execute_result"
    }
   ],
   "source": [
    "def full_simplify(expr):\n",
    "    cur = expr\n",
    "    while True:\n",
    "        if cur == sym.simplify(cur):\n",
    "            return cur\n",
    "        cur = sym.simplify(cur)\n",
    "        \n",
    "full_simplify(sym.diff(top/bottom, x))"
   ]
  },
  {
   "cell_type": "code",
   "execution_count": 138,
   "id": "deluxe-indiana",
   "metadata": {},
   "outputs": [
    {
     "data": {
      "image/png": "[encoded data removed]",
      "text/latex": [
       "$\\displaystyle - 7.5 x^{0.5} + 6.0 x^{1.0} + 2.5 x^{1.5} - 15.0$"
      ],
      "text/plain": [
       "       0.5        1.0        1.5       \n",
       "- 7.5⋅x    + 6.0⋅x    + 2.5⋅x    - 15.0"
      ]
     },
     "execution_count": 138,
     "metadata": {},
     "output_type": "execute_result"
    }
   ],
   "source": [
    "x = sym.symbols('x')\n",
    "expr = (x**(1/2) + 3)*(x**2 - 5*x)\n",
    "full_simplify(sym.diff(expr))"
   ]
  },
  {
   "cell_type": "code",
   "execution_count": 139,
   "id": "scenic-warning",
   "metadata": {},
   "outputs": [
    {
     "data": {
      "image/png": "[encoded data removed]",
      "text/latex": [
       "$\\displaystyle \\frac{10}{\\left(4 x + 3\\right)^{2}}$"
      ],
      "text/plain": [
       "    10    \n",
       "──────────\n",
       "         2\n",
       "(4⋅x + 3) "
      ]
     },
     "execution_count": 139,
     "metadata": {},
     "output_type": "execute_result"
    }
   ],
   "source": [
    "x = sym.symbols('x')\n",
    "expr = (2*x - 1)/(4*x + 3)\n",
    "full_simplify(sym.diff(expr))"
   ]
  },
  {
   "cell_type": "code",
   "execution_count": 140,
   "id": "functional-major",
   "metadata": {},
   "outputs": [
    {
     "data": {
      "image/png": "[encoded data removed]",
      "text/latex": [
       "$\\displaystyle - \\frac{2.5}{\\left(9 - 5 x\\right)^{0.5}}$"
      ],
      "text/plain": [
       "              -0.5\n",
       "-2.5⋅(9 - 5⋅x)    "
      ]
     },
     "execution_count": 140,
     "metadata": {},
     "output_type": "execute_result"
    }
   ],
   "source": [
    "x = sym.symbols('x')\n",
    "expr = (3**2 - 5*x)**(1/2)\n",
    "full_simplify(sym.diff(expr))"
   ]
  },
  {
   "cell_type": "code",
   "execution_count": 142,
   "id": "external-jason",
   "metadata": {},
   "outputs": [
    {
     "data": {
      "image/png": "[encoded data removed]",
      "text/latex": [
       "$\\displaystyle 4 t^{2} \\left(t^{2} + 1\\right)^{1.25}$"
      ],
      "text/plain": [
       "             1.25\n",
       "   2 ⎛ 2    ⎞    \n",
       "4⋅t ⋅⎝t  + 1⎠    "
      ]
     },
     "execution_count": 142,
     "metadata": {},
     "output_type": "execute_result"
    }
   ],
   "source": [
    "t = sym.symbols('t')\n",
    "expr = (4*t**2) * (t**2 + 1)**(5/4)\n",
    "expr\n"
   ]
  },
  {
   "cell_type": "code",
   "execution_count": 144,
   "id": "optical-disco",
   "metadata": {},
   "outputs": [
    {
     "data": {
      "image/png": "[encoded data removed]",
      "text/latex": [
       "$\\displaystyle 10.0 t^{3} \\left(t^{2} + 1\\right)^{0.25} + 8 t \\left(t^{2} + 1\\right)^{1.25}$"
      ],
      "text/plain": [
       "                0.25               1.25\n",
       "      3 ⎛ 2    ⎞           ⎛ 2    ⎞    \n",
       "10.0⋅t ⋅⎝t  + 1⎠     + 8⋅t⋅⎝t  + 1⎠    "
      ]
     },
     "execution_count": 144,
     "metadata": {},
     "output_type": "execute_result"
    }
   ],
   "source": [
    "expand(full_simplify(sym.diff(expr, t)))"
   ]
  },
  {
   "cell_type": "code",
   "execution_count": 84,
   "id": "smooth-minimum",
   "metadata": {},
   "outputs": [
    {
     "name": "stdout",
     "output_type": "stream",
     "text": [
      "Change in y between 3 and 3.01 is -59.15999999999855\n",
      "Change in y between 3 and 3.005 is -59.080000000000155\n",
      "Change in y between 3 and 3.002 is -59.031999999994866\n",
      "Change in y between 3 and 3.001 is -59.015999999999735\n"
     ]
    }
   ],
   "source": [
    "y = lambda t: 37*t - 16*(t**2)\n",
    "times = [0.01, 0.005, 0.002, 0.001]\n",
    "for t in times:\n",
    "    d = y(3 + t) - y(3)\n",
    "    dt = t\n",
    "    print(f\"Change in y between 3 and {3+t} is {d/dt}\")\n",
    "    "
   ]
  },
  {
   "cell_type": "code",
   "execution_count": 146,
   "id": "accepting-figure",
   "metadata": {},
   "outputs": [
    {
     "data": {
      "image/png": "[encoded data removed]",
      "text/latex": [
       "$\\displaystyle \\frac{12000}{6 t^{2} + 2}$"
      ],
      "text/plain": [
       " 12000  \n",
       "────────\n",
       "   2    \n",
       "6⋅t  + 2"
      ]
     },
     "execution_count": 146,
     "metadata": {},
     "output_type": "execute_result"
    }
   ],
   "source": [
    "t = sym.symbols('t')\n",
    "expr = 12000 / (6*(t**2) + 2)\n",
    "expr\n"
   ]
  },
  {
   "cell_type": "code",
   "execution_count": 147,
   "id": "swedish-honor",
   "metadata": {},
   "outputs": [
    {
     "data": {
      "image/png": "[encoded data removed]",
      "text/latex": [
       "$\\displaystyle - \\frac{36000 t}{\\left(3 t^{2} + 1\\right)^{2}}$"
      ],
      "text/plain": [
       " -36000⋅t  \n",
       "───────────\n",
       "          2\n",
       "⎛   2    ⎞ \n",
       "⎝3⋅t  + 1⎠ "
      ]
     },
     "execution_count": 147,
     "metadata": {},
     "output_type": "execute_result"
    }
   ],
   "source": [
    "d = full_simplify(sym.diff(expr, t, 1))\n",
    "d"
   ]
  },
  {
   "cell_type": "code",
   "execution_count": 101,
   "id": "metallic-xerox",
   "metadata": {},
   "outputs": [
    {
     "data": {
      "text/plain": [
       "-137.75510204081633"
      ]
     },
     "execution_count": 101,
     "metadata": {},
     "output_type": "execute_result"
    }
   ],
   "source": [
    "float(d.subs(t, 3))"
   ]
  },
  {
   "cell_type": "code",
   "execution_count": 162,
   "id": "hungry-behavior",
   "metadata": {},
   "outputs": [
    {
     "data": {
      "image/png": "[encoded data removed]",
      "text/latex": [
       "$\\displaystyle \\frac{1100 x}{\\log{\\left(6 x + 6 \\right)}}$"
      ],
      "text/plain": [
       "   1100⋅x   \n",
       "────────────\n",
       "log(6⋅x + 6)"
      ]
     },
     "execution_count": 162,
     "metadata": {},
     "output_type": "execute_result"
    }
   ],
   "source": [
    "from sympy import *\n",
    "init_printing(use_unicode=True)\n",
    "\n",
    "x = sym.symbols('x')\n",
    "expr = 1100*x / (sym.ln(6*x + 6))\n",
    "expr"
   ]
  },
  {
   "cell_type": "code",
   "execution_count": 163,
   "id": "demonstrated-eleven",
   "metadata": {},
   "outputs": [
    {
     "data": {
      "image/png": "[encoded data removed]",
      "text/latex": [
       "$\\displaystyle \\frac{1100 \\left(- x + \\left(x + 1\\right) \\log{\\left(6 x + 6 \\right)}\\right)}{\\left(x + 1\\right) \\log{\\left(6 x + 6 \\right)}^{2}}$"
      ],
      "text/plain": [
       "1100⋅(-x + (x + 1)⋅log(6⋅x + 6))\n",
       "────────────────────────────────\n",
       "                2               \n",
       "     (x + 1)⋅log (6⋅x + 6)      "
      ]
     },
     "execution_count": 163,
     "metadata": {},
     "output_type": "execute_result"
    }
   ],
   "source": [
    "d_dx = simplify(sym.diff(expr, x, 1))\n",
    "d_dx"
   ]
  },
  {
   "cell_type": "code",
   "execution_count": 164,
   "id": "verified-verse",
   "metadata": {},
   "outputs": [
    {
     "data": {
      "image/png": "[encoded data removed]",
      "text/latex": [
       "$\\displaystyle - 1100 x + 1100 \\left(x + 1\\right) \\log{\\left(6 x + 6 \\right)}$"
      ],
      "text/plain": [
       "-1100⋅x + 1100⋅(x + 1)⋅log(6⋅x + 6)"
      ]
     },
     "execution_count": 164,
     "metadata": {},
     "output_type": "execute_result"
    }
   ],
   "source": [
    "num, den = fraction(d_dx)\n",
    "num"
   ]
  },
  {
   "cell_type": "code",
   "execution_count": 165,
   "id": "geographic-corrections",
   "metadata": {},
   "outputs": [
    {
     "data": {
      "image/png": "[encoded data removed]",
      "text/latex": [
       "$\\displaystyle \\left(x + 1\\right) \\log{\\left(6 x + 6 \\right)}^{2}$"
      ],
      "text/plain": [
       "           2         \n",
       "(x + 1)⋅log (6⋅x + 6)"
      ]
     },
     "execution_count": 165,
     "metadata": {},
     "output_type": "execute_result"
    }
   ],
   "source": [
    "den"
   ]
  },
  {
   "cell_type": "code",
   "execution_count": 166,
   "id": "experimental-advance",
   "metadata": {},
   "outputs": [
    {
     "data": {
      "image/png": "[encoded data removed]",
      "text/latex": [
       "$\\displaystyle \\frac{- 1100 x + 1100 \\left(x + 1\\right) \\log{\\left(6 x + 6 \\right)}}{\\left(x + 1\\right) \\log{\\left(6 x + 6 \\right)}^{2}}$"
      ],
      "text/plain": [
       "-1100⋅x + 1100⋅(x + 1)⋅log(6⋅x + 6)\n",
       "───────────────────────────────────\n",
       "                  2                \n",
       "       (x + 1)⋅log (6⋅x + 6)       "
      ]
     },
     "execution_count": 166,
     "metadata": {},
     "output_type": "execute_result"
    }
   ],
   "source": [
    "num/den"
   ]
  },
  {
   "cell_type": "code",
   "execution_count": 167,
   "id": "inner-finance",
   "metadata": {},
   "outputs": [
    {
     "data": {
      "image/png": "[encoded data removed]",
      "text/latex": [
       "$\\displaystyle 141.120966980077$"
      ],
      "text/plain": [
       "141.1209669800769"
      ]
     },
     "execution_count": 167,
     "metadata": {},
     "output_type": "execute_result"
    }
   ],
   "source": [
    "float(simplify(sym.diff(expr, x, 1)).subs(x, 125))"
   ]
  },
  {
   "cell_type": "code",
   "execution_count": 180,
   "id": "hazardous-christmas",
   "metadata": {},
   "outputs": [
    {
     "data": {
      "image/png": "[encoded data removed]",
      "text/latex": [
       "$\\displaystyle - 2 t^{2} + 6 t + 63$"
      ],
      "text/plain": [
       "     2           \n",
       "- 2⋅t  + 6⋅t + 63"
      ]
     },
     "execution_count": 180,
     "metadata": {},
     "output_type": "execute_result"
    }
   ],
   "source": [
    "s = -2*t**2 + 6*t + 63\n",
    "s"
   ]
  },
  {
   "cell_type": "code",
   "execution_count": 181,
   "id": "damaged-louisiana",
   "metadata": {},
   "outputs": [
    {
     "data": {
      "image/png": "[encoded data removed]",
      "text/latex": [
       "$\\displaystyle 57.4648$"
      ],
      "text/plain": [
       "57.4648000000000"
      ]
     },
     "execution_count": 181,
     "metadata": {},
     "output_type": "execute_result"
    }
   ],
   "source": [
    "s.subs(t, 3.74)"
   ]
  },
  {
   "cell_type": "code",
   "execution_count": 182,
   "id": "working-lover",
   "metadata": {},
   "outputs": [
    {
     "data": {
      "image/png": "[encoded data removed]",
      "text/latex": [
       "$\\displaystyle 6 - 4 t$"
      ],
      "text/plain": [
       "6 - 4⋅t"
      ]
     },
     "execution_count": 182,
     "metadata": {},
     "output_type": "execute_result"
    }
   ],
   "source": [
    "d1 = diff(s)\n",
    "d1"
   ]
  },
  {
   "cell_type": "code",
   "execution_count": 183,
   "id": "convertible-seven",
   "metadata": {},
   "outputs": [
    {
     "data": {
      "image/png": "[encoded data removed]",
      "text/latex": [
       "$\\displaystyle 6$"
      ],
      "text/plain": [
       "6"
      ]
     },
     "execution_count": 183,
     "metadata": {},
     "output_type": "execute_result"
    }
   ],
   "source": [
    "d1.subs(t, 0)"
   ]
  },
  {
   "cell_type": "code",
   "execution_count": 184,
   "id": "possible-raising",
   "metadata": {},
   "outputs": [
    {
     "data": {
      "image/png": "[encoded data removed]",
      "text/latex": [
       "$\\displaystyle -8.96$"
      ],
      "text/plain": [
       "-8.96000000000000"
      ]
     },
     "execution_count": 184,
     "metadata": {},
     "output_type": "execute_result"
    }
   ],
   "source": [
    "d1.subs(t, 3.74)"
   ]
  },
  {
   "cell_type": "code",
   "execution_count": 185,
   "id": "korean-device",
   "metadata": {},
   "outputs": [
    {
     "data": {
      "image/png": "[encoded data removed]",
      "text/latex": [
       "$\\displaystyle -4$"
      ],
      "text/plain": [
       "-4"
      ]
     },
     "execution_count": 185,
     "metadata": {},
     "output_type": "execute_result"
    }
   ],
   "source": [
    "d2 = diff(d1)\n",
    "d2"
   ]
  },
  {
   "cell_type": "code",
   "execution_count": 177,
   "id": "sustained-machinery",
   "metadata": {},
   "outputs": [
    {
     "data": {
      "image/png": "[encoded data removed]",
      "text/latex": [
       "$\\displaystyle -6$"
      ],
      "text/plain": [
       "-6"
      ]
     },
     "execution_count": 177,
     "metadata": {},
     "output_type": "execute_result"
    }
   ],
   "source": [
    "diff(s, t, 2)"
   ]
  },
  {
   "cell_type": "code",
   "execution_count": 195,
   "id": "major-hanging",
   "metadata": {},
   "outputs": [
    {
     "data": {
      "image/png": "[encoded data removed]",
      "text/latex": [
       "$\\displaystyle e^{0.41 t + 9}$"
      ],
      "text/plain": [
       " 0.41⋅t + 9\n",
       "ℯ          "
      ]
     },
     "execution_count": 195,
     "metadata": {},
     "output_type": "execute_result"
    }
   ],
   "source": [
    "f = exp(0.41*t + 9)\n",
    "f"
   ]
  },
  {
   "cell_type": "code",
   "execution_count": 197,
   "id": "ordinary-handbook",
   "metadata": {},
   "outputs": [
    {
     "data": {
      "image/png": "[encoded data removed]",
      "text/latex": [
       "$\\displaystyle 25807021.3882589$"
      ],
      "text/plain": [
       "25807021.3882589"
      ]
     },
     "execution_count": 197,
     "metadata": {},
     "output_type": "execute_result"
    }
   ],
   "source": [
    "diff(f, t, 1).subs(t, 5) * 1000"
   ]
  },
  {
   "cell_type": "code",
   "execution_count": 202,
   "id": "accessible-visibility",
   "metadata": {},
   "outputs": [
    {
     "data": {
      "image/png": "[encoded data removed]",
      "text/latex": [
       "$\\displaystyle \\frac{8}{\\left(5 x^{5} + 4 x^{3}\\right)^{0.5}}$"
      ],
      "text/plain": [
       "               -0.5\n",
       "  ⎛   5      3⎞    \n",
       "8⋅⎝5⋅x  + 4⋅x ⎠    "
      ]
     },
     "execution_count": 202,
     "metadata": {},
     "output_type": "execute_result"
    }
   ],
   "source": [
    "f = 8*(5*x**5 + 4*x**3)**(-1/2)\n",
    "f"
   ]
  },
  {
   "cell_type": "code",
   "execution_count": 203,
   "id": "critical-costs",
   "metadata": {},
   "outputs": [
    {
     "data": {
      "image/png": "[encoded data removed]",
      "text/latex": [
       "$\\displaystyle \\frac{8 \\left(- 12.5 x^{4} - 6.0 x^{2}\\right)}{\\left(5 x^{5} + 4 x^{3}\\right)^{1.5}}$"
      ],
      "text/plain": [
       "                                    -1.5\n",
       "  ⎛        4        2⎞ ⎛   5      3⎞    \n",
       "8⋅⎝- 12.5⋅x  - 6.0⋅x ⎠⋅⎝5⋅x  + 4⋅x ⎠    "
      ]
     },
     "execution_count": 203,
     "metadata": {},
     "output_type": "execute_result"
    }
   ],
   "source": [
    "diff(f, x, 1)"
   ]
  },
  {
   "cell_type": "code",
   "execution_count": 207,
   "id": "multiple-demographic",
   "metadata": {},
   "outputs": [
    {
     "data": {
      "image/png": "[encoded data removed]",
      "text/latex": [
       "$\\displaystyle \\left(x^{2} + 5 x + 3\\right)^{2}$"
      ],
      "text/plain": [
       "              2\n",
       "⎛ 2          ⎞ \n",
       "⎝x  + 5⋅x + 3⎠ "
      ]
     },
     "execution_count": 207,
     "metadata": {},
     "output_type": "execute_result"
    }
   ],
   "source": [
    "f = (x**2+5*x+3)**2\n",
    "f"
   ]
  },
  {
   "cell_type": "code",
   "execution_count": 210,
   "id": "conventional-equality",
   "metadata": {},
   "outputs": [
    {
     "data": {
      "image/png": "[encoded data removed]",
      "text/latex": [
       "$\\displaystyle 45270$"
      ],
      "text/plain": [
       "45270"
      ]
     },
     "execution_count": 210,
     "metadata": {},
     "output_type": "execute_result"
    }
   ],
   "source": [
    "diff(f, x, 1).subs(x, 20)"
   ]
  },
  {
   "cell_type": "code",
   "execution_count": null,
   "id": "peripheral-marsh",
   "metadata": {},
   "outputs": [],
   "source": [
    "# Marginal cost *is* the derivative"
   ]
  },
  {
   "cell_type": "code",
   "execution_count": 211,
   "id": "perfect-france",
   "metadata": {},
   "outputs": [
    {
     "data": {
      "image/png": "[encoded data removed]",
      "text/latex": [
       "$\\displaystyle \\log{\\left(12 t^{5} \\right)}$"
      ],
      "text/plain": [
       "   ⎛    5⎞\n",
       "log⎝12⋅t ⎠"
      ]
     },
     "execution_count": 211,
     "metadata": {},
     "output_type": "execute_result"
    }
   ],
   "source": [
    "g = ln(12*t**5)\n",
    "g"
   ]
  },
  {
   "cell_type": "code",
   "execution_count": 212,
   "id": "civilian-concern",
   "metadata": {},
   "outputs": [
    {
     "data": {
      "image/png": "[encoded data removed]",
      "text/latex": [
       "$\\displaystyle \\frac{5}{t}$"
      ],
      "text/plain": [
       "5\n",
       "─\n",
       "t"
      ]
     },
     "execution_count": 212,
     "metadata": {},
     "output_type": "execute_result"
    }
   ],
   "source": [
    "diff(g, t, 1)"
   ]
  },
  {
   "cell_type": "code",
   "execution_count": 214,
   "id": "interpreted-boundary",
   "metadata": {},
   "outputs": [
    {
     "data": {
      "image/png": "[encoded data removed]",
      "text/latex": [
       "$\\displaystyle 0.0306748466257669$"
      ],
      "text/plain": [
       "0.03067484662576687"
      ]
     },
     "execution_count": 214,
     "metadata": {},
     "output_type": "execute_result"
    }
   ],
   "source": [
    "float(diff(g, t, 1).subs(t, 163))"
   ]
  },
  {
   "cell_type": "code",
   "execution_count": 215,
   "id": "dying-recruitment",
   "metadata": {},
   "outputs": [
    {
     "data": {
      "image/png": "[encoded data removed]",
      "text/latex": [
       "$\\displaystyle \\pi$"
      ],
      "text/plain": [
       "π"
      ]
     },
     "execution_count": 215,
     "metadata": {},
     "output_type": "execute_result"
    }
   ],
   "source": [
    "pi"
   ]
  },
  {
   "cell_type": "code",
   "execution_count": 219,
   "id": "multiple-technique",
   "metadata": {},
   "outputs": [
    {
     "data": {
      "image/png": "[encoded data removed]",
      "text/latex": [
       "$\\displaystyle 5 - 2 \\sin{\\left(\\frac{\\pi t}{3} + \\frac{\\pi}{6} \\right)}$"
      ],
      "text/plain": [
       "         ⎛π⋅t   π⎞\n",
       "5 - 2⋅sin⎜─── + ─⎟\n",
       "         ⎝ 3    6⎠"
      ]
     },
     "execution_count": 219,
     "metadata": {},
     "output_type": "execute_result"
    }
   ],
   "source": [
    "d = 2*cos((pi/3)*t + (2*pi)/3) + 5\n",
    "d"
   ]
  },
  {
   "cell_type": "code",
   "execution_count": 222,
   "id": "herbal-adolescent",
   "metadata": {},
   "outputs": [
    {
     "data": {
      "image/png": "[encoded data removed]",
      "text/latex": [
       "$\\displaystyle 1.81379936423422$"
      ],
      "text/plain": [
       "1.8137993642342178"
      ]
     },
     "execution_count": 222,
     "metadata": {},
     "output_type": "execute_result"
    }
   ],
   "source": [
    "float(diff(d, t, 1).subs(t, 2))"
   ]
  },
  {
   "cell_type": "code",
   "execution_count": 224,
   "id": "modified-example",
   "metadata": {},
   "outputs": [
    {
     "data": {
      "image/png": "[encoded data removed]",
      "text/latex": [
       "$\\displaystyle -2$"
      ],
      "text/plain": [
       "-2"
      ]
     },
     "execution_count": 224,
     "metadata": {},
     "output_type": "execute_result"
    }
   ],
   "source": [
    "2*-1"
   ]
  },
  {
   "cell_type": "code",
   "execution_count": 225,
   "id": "varied-pharmacy",
   "metadata": {},
   "outputs": [
    {
     "data": {
      "image/png": "[encoded data removed]",
      "text/latex": [
       "$\\displaystyle 1.0$"
      ],
      "text/plain": [
       "1.0"
      ]
     },
     "execution_count": 225,
     "metadata": {},
     "output_type": "execute_result"
    }
   ],
   "source": [
    "f = 2\n",
    "f_p = 3\n",
    "g = 1\n",
    "g_p = 1\n",
    "\n"
   ]
  },
  {
   "cell_type": "code",
   "execution_count": null,
   "id": "accompanied-bones",
   "metadata": {},
   "outputs": [],
   "source": []
  },
  {
   "cell_type": "code",
   "execution_count": null,
   "id": "concerned-wellington",
   "metadata": {},
   "outputs": [],
   "source": [
    "(f_p*g - g_p*f) / g**2"
   ]
  },
  {
   "cell_type": "code",
   "execution_count": 226,
   "id": "detailed-albany",
   "metadata": {},
   "outputs": [
    {
     "data": {
      "image/png": "[encoded data removed]",
      "text/latex": [
       "$\\displaystyle 5$"
      ],
      "text/plain": [
       "5"
      ]
     },
     "execution_count": 226,
     "metadata": {},
     "output_type": "execute_result"
    }
   ],
   "source": [
    "f*g_p + f_p*g"
   ]
  }
 ],
 "metadata": {
  "kernelspec": {
   "display_name": "Python 3",
   "language": "python",
   "name": "python3"
  },
  "language_info": {
   "codemirror_mode": {
    "name": "ipython",
    "version": 3
   },
   "file_extension": ".py",
   "mimetype": "text/x-python",
   "name": "python",
   "nbconvert_exporter": "python",
   "pygments_lexer": "ipython3",
   "version": "3.7.6"
  }
 },
 "nbformat": 4,
 "nbformat_minor": 5
}
