{
 "cells": [
  {
   "cell_type": "code",
   "execution_count": 6,
   "id": "urban-jason",
   "metadata": {},
   "outputs": [
    {
     "data": {
      "image/png": "[encoded data removed]",
      "text/plain": [
       "<Figure size 432x288 with 1 Axes>"
      ]
     },
     "metadata": {
      "needs_background": "light"
     },
     "output_type": "display_data"
    }
   ],
   "source": [
    "import numpy as np\n",
    "import matplotlib.pyplot as plt\n",
    "fig = plt.figure()\n",
    "ax = fig.add_subplot(1, 1, 1)\n",
    "x = np.linspace(-5,5,100)\n",
    "\n",
    "plt.plot(x, 2*x+2/x)\n",
    "plt.grid()\n",
    "plt.show()\n",
    "\n"
   ]
  },
  {
   "cell_type": "code",
   "execution_count": 5,
   "id": "opposed-holmes",
   "metadata": {},
   "outputs": [],
   "source": []
  },
  {
   "cell_type": "code",
   "execution_count": 12,
   "id": "computational-modem",
   "metadata": {},
   "outputs": [
    {
     "data": {
      "text/latex": [
       "$\\displaystyle x^{4} - 32 x^{2} + 2$"
      ],
      "text/plain": [
       "x**4 - 32*x**2 + 2"
      ]
     },
     "execution_count": 12,
     "metadata": {},
     "output_type": "execute_result"
    }
   ],
   "source": [
    "x = sym.symbols('x')\n",
    "f_x = x**4 - 32*x**2 + 2\n",
    "f_x"
   ]
  },
  {
   "cell_type": "code",
   "execution_count": 13,
   "id": "pursuant-allocation",
   "metadata": {},
   "outputs": [
    {
     "data": {
      "text/latex": [
       "$\\displaystyle 4 x^{3} - 64 x$"
      ],
      "text/plain": [
       "4*x**3 - 64*x"
      ]
     },
     "execution_count": 13,
     "metadata": {},
     "output_type": "execute_result"
    }
   ],
   "source": [
    "sym.diff(f_x, x, 1)"
   ]
  },
  {
   "cell_type": "code",
   "execution_count": 181,
   "id": "rotary-remark",
   "metadata": {},
   "outputs": [],
   "source": [
    "from sympy import *\n",
    "from sympy.solvers import solve\n",
    "import math\n",
    "\n",
    "def full_simplify(expr):\n",
    "    cur = expr\n",
    "    while True:\n",
    "        nxt = simplify(cur)\n",
    "        if cur == nxt:\n",
    "            return cur\n",
    "        cur = nxt\n",
    "        \n",
    "def analyze_function(f, x, interval=[]):\n",
    "    init_printing()\n",
    "    d_f = sym.diff(f, x, 1)\n",
    "    critical_numbers = solve(d_f, x)\n",
    "    print(f\"------ Analysis for: {f} ------\")\n",
    "    print(f\"limit as x approaches inf is: {limit(f, x, oo)}\")\n",
    "    print(f\"limit as x approaches 0 is: {limit(f, x, 0)}\")\n",
    "    print(f\"Critical numbers are: {', '.join(map(str, critical_numbers))}\")\n",
    "    print(\"Critical points are:\")\n",
    "    max_point = (None, -2**64)\n",
    "    min_point = (None, 2**64)\n",
    "    for cn in critical_numbers:\n",
    "        if interval and cn > max(interval):\n",
    "            continue\n",
    "        if interval and cn < min(interval):\n",
    "            continue\n",
    "        point = (cn, f.subs(x, cn))\n",
    "        max_point = max(max_point, point, key=lambda p: p[1])\n",
    "        min_point = min(min_point, point, key=lambda p: p[1])\n",
    "        print(f\"Critical number {tuple(map(float, point))}\")\n",
    "   \n",
    "    print(\"Interval ends are:\")\n",
    "    for n in interval:\n",
    "        point = (n, (f.subs(x, n) if n is not oo else n))\n",
    "        max_point = max(max_point, point, key=lambda p: p[1])\n",
    "        min_point = min(min_point, point, key=lambda p: p[1])\n",
    "\n",
    "    if max_point[0] != None or min_point[0] != None:\n",
    "        print(\"Max/Min Points:\")\n",
    "        max_point[0] != None and print(f\"Max point: {tuple(map(float, max_point))}\")\n",
    "        min_point[0] != None and print(f\"Min point: {tuple(map(float, min_point))}\")\n",
    "    return full_simplify(f), full_simplify(d_f)\n"
   ]
  },
  {
   "cell_type": "code",
   "execution_count": 177,
   "id": "intelligent-samoa",
   "metadata": {},
   "outputs": [
    {
     "name": "stdout",
     "output_type": "stream",
     "text": [
      "------ Analysis for: {f} ------\n",
      "limit as x approaches inf is: 0\n",
      "limit as x approaches 0 is: 0\n",
      "Critical numbers are: 2\n",
      "Critical points are:\n",
      "Critical number (2.0, 27.5)\n",
      "Interval ends are:\n",
      "Max/Min Points:\n",
      "Max point: (inf, inf)\n",
      "Min point: (0.0, 0.0)\n"
     ]
    },
    {
     "data": {
      "image/png": "[encoded data removed]",
      "text/latex": [
       "$\\displaystyle \\left( \\frac{220 x}{\\left(x + 2\\right)^{2}}, \\  - \\frac{440 x}{\\left(x + 2\\right)^{3}} + \\frac{220}{\\left(x + 2\\right)^{2}}\\right)$"
      ],
      "text/plain": [
       "⎛ 220⋅x       440⋅x       220   ⎞\n",
       "⎜────────, - ──────── + ────────⎟\n",
       "⎜       2           3          2⎟\n",
       "⎝(x + 2)     (x + 2)    (x + 2) ⎠"
      ]
     },
     "execution_count": 177,
     "metadata": {},
     "output_type": "execute_result"
    }
   ],
   "source": [
    "analyze_function(expr, x, interval=[0, oo])"
   ]
  },
  {
   "cell_type": "code",
   "execution_count": 67,
   "id": "accredited-interest",
   "metadata": {},
   "outputs": [
    {
     "name": "stdout",
     "output_type": "stream",
     "text": [
      "Critical numbers are: -4, 0, 4\n",
      "Critical points are:\n",
      "(0, 2)\n",
      "(4, -254)\n",
      "Interval ends are:\n",
      "(-3, -205)\n",
      "(9, 3971)\n",
      "Max/Min Points:\n",
      "Max point: (9, 3971)\n",
      "Min point: (4, -254)\n"
     ]
    },
    {
     "data": {
      "image/png": "[encoded data removed]",
      "text/latex": [
       "$\\displaystyle \\left( x^{4} - 32 x^{2} + 2, \\  4 x^{3} - 64 x\\right)$"
      ],
      "text/plain": [
       "⎛ 4       2         3       ⎞\n",
       "⎝x  - 32⋅x  + 2, 4⋅x  - 64⋅x⎠"
      ]
     },
     "execution_count": 67,
     "metadata": {},
     "output_type": "execute_result"
    }
   ],
   "source": [
    "analyze_function(f_x, x, interval = [-3, 9])"
   ]
  },
  {
   "cell_type": "code",
   "execution_count": 71,
   "id": "cross-aruba",
   "metadata": {},
   "outputs": [
    {
     "name": "stdout",
     "output_type": "stream",
     "text": [
      "Critical numbers are: -4, -1\n",
      "Critical points are:\n",
      "(-4, 15)\n",
      "(-1, -12)\n",
      "Interval ends are:\n",
      "Max/Min Points:\n",
      "Max point: (-4, 15)\n",
      "Min point: (-1, -12)\n"
     ]
    },
    {
     "data": {
      "image/png": "[encoded data removed]",
      "text/latex": [
       "$\\displaystyle \\left( 2 x^{3} + 15 x^{2} + 24 x - 1, \\  6 x^{2} + 30 x + 24\\right)$"
      ],
      "text/plain": [
       "⎛   3       2                2            ⎞\n",
       "⎝2⋅x  + 15⋅x  + 24⋅x - 1, 6⋅x  + 30⋅x + 24⎠"
      ]
     },
     "execution_count": 71,
     "metadata": {},
     "output_type": "execute_result"
    }
   ],
   "source": [
    "analyze_function(2*x**3 + 15*x**2 + 24*x - 1, x)"
   ]
  },
  {
   "cell_type": "code",
   "execution_count": 72,
   "id": "moderate-glossary",
   "metadata": {},
   "outputs": [
    {
     "data": {
      "image/png": "[encoded data removed]",
      "text/latex": [
       "$\\displaystyle - 3 x^{2} + 30 x + 2$"
      ],
      "text/plain": [
       "     2           \n",
       "- 3⋅x  + 30⋅x + 2"
      ]
     },
     "execution_count": 72,
     "metadata": {},
     "output_type": "execute_result"
    }
   ],
   "source": [
    "expr = -3*x**2 + 30*x + 2\n",
    "expr"
   ]
  },
  {
   "cell_type": "code",
   "execution_count": 73,
   "id": "attached-population",
   "metadata": {},
   "outputs": [
    {
     "data": {
      "image/png": "[encoded data removed]",
      "text/latex": [
       "$\\displaystyle 65$"
      ],
      "text/plain": [
       "65"
      ]
     },
     "execution_count": 73,
     "metadata": {},
     "output_type": "execute_result"
    }
   ],
   "source": [
    "expr.subs(x, 3)"
   ]
  },
  {
   "cell_type": "code",
   "execution_count": 74,
   "id": "entitled-assurance",
   "metadata": {},
   "outputs": [
    {
     "data": {
      "image/png": "[encoded data removed]",
      "text/latex": [
       "$\\displaystyle 65$"
      ],
      "text/plain": [
       "65"
      ]
     },
     "execution_count": 74,
     "metadata": {},
     "output_type": "execute_result"
    }
   ],
   "source": [
    "expr.subs(x, 7)"
   ]
  },
  {
   "cell_type": "code",
   "execution_count": null,
   "id": "blessed-exercise",
   "metadata": {},
   "outputs": [],
   "source": [
    "# For Rolle's Theorem to apply\n",
    "# f has to be continous and differentiable over an interval [a, b]\n",
    "# f(a) == f(b)"
   ]
  },
  {
   "cell_type": "code",
   "execution_count": 75,
   "id": "wrong-remainder",
   "metadata": {},
   "outputs": [
    {
     "data": {
      "image/png": "[encoded data removed]",
      "text/latex": [
       "$\\displaystyle \\left[ 5\\right]$"
      ],
      "text/plain": [
       "[5]"
      ]
     },
     "execution_count": 75,
     "metadata": {},
     "output_type": "execute_result"
    }
   ],
   "source": [
    "solve(diff(expr))"
   ]
  },
  {
   "cell_type": "code",
   "execution_count": 76,
   "id": "random-prospect",
   "metadata": {},
   "outputs": [
    {
     "data": {
      "image/png": "[encoded data removed]",
      "text/latex": [
       "$\\displaystyle 8 \\sqrt{x} + 1$"
      ],
      "text/plain": [
       "8⋅√x + 1"
      ]
     },
     "execution_count": 76,
     "metadata": {},
     "output_type": "execute_result"
    }
   ],
   "source": [
    "expr = 8*sqrt(x) + 1\n",
    "expr"
   ]
  },
  {
   "cell_type": "code",
   "execution_count": 78,
   "id": "tough-anime",
   "metadata": {},
   "outputs": [
    {
     "data": {
      "image/png": "[encoded data removed]",
      "text/latex": [
       "$\\displaystyle 1.63454497439943$"
      ],
      "text/plain": [
       "1.634544974399431"
      ]
     },
     "execution_count": 78,
     "metadata": {},
     "output_type": "execute_result"
    }
   ],
   "source": [
    "float((expr.subs(x, 10) - expr.subs(x, 3)) / (10 - 3))"
   ]
  },
  {
   "cell_type": "code",
   "execution_count": 79,
   "id": "isolated-policy",
   "metadata": {},
   "outputs": [
    {
     "data": {
      "image/png": "[encoded data removed]",
      "text/latex": [
       "$\\displaystyle \\left[ 5.98864923790009\\right]$"
      ],
      "text/plain": [
       "[5.98864923790009]"
      ]
     },
     "execution_count": 79,
     "metadata": {},
     "output_type": "execute_result"
    }
   ],
   "source": [
    "solve(diff(expr) - 1.63454)"
   ]
  },
  {
   "cell_type": "code",
   "execution_count": 80,
   "id": "sound-silicon",
   "metadata": {},
   "outputs": [
    {
     "data": {
      "image/png": "[encoded data removed]",
      "text/latex": [
       "$\\displaystyle 5 x^{3} - 6 x$"
      ],
      "text/plain": [
       "   3      \n",
       "5⋅x  - 6⋅x"
      ]
     },
     "execution_count": 80,
     "metadata": {},
     "output_type": "execute_result"
    }
   ],
   "source": [
    "expr = 5*x**3 - 6*x\n",
    "expr"
   ]
  },
  {
   "cell_type": "code",
   "execution_count": 81,
   "id": "departmental-uzbekistan",
   "metadata": {},
   "outputs": [
    {
     "data": {
      "image/png": "[encoded data removed]",
      "text/latex": [
       "$\\displaystyle 134$"
      ],
      "text/plain": [
       "134"
      ]
     },
     "execution_count": 81,
     "metadata": {},
     "output_type": "execute_result"
    }
   ],
   "source": [
    "(expr.subs(x, -2) - expr.subs(x, -4)) / (-2 + 4)"
   ]
  },
  {
   "cell_type": "code",
   "execution_count": 84,
   "id": "loved-relevance",
   "metadata": {},
   "outputs": [
    {
     "data": {
      "image/png": "[encoded data removed]",
      "text/latex": [
       "$\\displaystyle \\left[ -3.05505046330389, \\  3.05505046330389\\right]$"
      ],
      "text/plain": [
       "[-3.0550504633038935, 3.0550504633038935]"
      ]
     },
     "execution_count": 84,
     "metadata": {},
     "output_type": "execute_result"
    }
   ],
   "source": [
    "list(map(float, solve(diff(expr) - 134)))"
   ]
  },
  {
   "cell_type": "code",
   "execution_count": 85,
   "id": "heard-grain",
   "metadata": {},
   "outputs": [
    {
     "data": {
      "image/png": "[encoded data removed]",
      "text/latex": [
       "$\\displaystyle 4 x^{3} + 18 x^{2} - 120 x$"
      ],
      "text/plain": [
       "   3       2        \n",
       "4⋅x  + 18⋅x  - 120⋅x"
      ]
     },
     "execution_count": 85,
     "metadata": {},
     "output_type": "execute_result"
    }
   ],
   "source": [
    "expr = 4*x**3 + 18*x**2 - 120*x\n",
    "expr"
   ]
  },
  {
   "cell_type": "code",
   "execution_count": 86,
   "id": "three-eleven",
   "metadata": {},
   "outputs": [
    {
     "data": {
      "image/png": "[encoded data removed]",
      "text/latex": [
       "$\\displaystyle 12 x^{2} + 36 x - 120$"
      ],
      "text/plain": [
       "    2             \n",
       "12⋅x  + 36⋅x - 120"
      ]
     },
     "execution_count": 86,
     "metadata": {},
     "output_type": "execute_result"
    }
   ],
   "source": [
    "diff(expr)"
   ]
  },
  {
   "cell_type": "code",
   "execution_count": 89,
   "id": "assumed-processor",
   "metadata": {},
   "outputs": [
    {
     "data": {
      "image/png": "[encoded data removed]",
      "text/latex": [
       "$\\displaystyle 24 x + 36$"
      ],
      "text/plain": [
       "24⋅x + 36"
      ]
     },
     "execution_count": 89,
     "metadata": {},
     "output_type": "execute_result"
    }
   ],
   "source": [
    "full_simplify(diff(expr, x, 2))"
   ]
  },
  {
   "cell_type": "code",
   "execution_count": 110,
   "id": "elder-pantyhose",
   "metadata": {},
   "outputs": [
    {
     "data": {
      "image/png": "[encoded data removed]",
      "text/latex": [
       "$\\displaystyle 84$"
      ],
      "text/plain": [
       "84"
      ]
     },
     "execution_count": 110,
     "metadata": {},
     "output_type": "execute_result"
    }
   ],
   "source": [
    "full_simplify(diff(expr, x, 2)).subs(x, 2)"
   ]
  },
  {
   "cell_type": "code",
   "execution_count": 105,
   "id": "stock-substitute",
   "metadata": {},
   "outputs": [],
   "source": [
    "fig = plt.figure()\n",
    "ax = fig.add_subplot(1, 1, 1)\n",
    "xs = np.linspace(-5,5,100)\n",
    "\n",
    "plt.plot(xs, 7*xs+8/xs)\n",
    "plt.grid()\n",
    "plt.show()\n"
   ]
  },
  {
   "cell_type": "code",
   "execution_count": 161,
   "id": "decent-thickness",
   "metadata": {},
   "outputs": [
    {
     "name": "stdout",
     "output_type": "stream",
     "text": [
      "------ Analysis for: {f} ------\n",
      "limit as x approaches inf is: oo\n",
      "limit as x approaches 0 is: oo\n",
      "Critical numbers are: -2*sqrt(14)/7, 2*sqrt(14)/7\n",
      "Critical points are:\n",
      "(-1.0690449676496976, -14.966629547095765)\n",
      "(1.0690449676496976, 14.966629547095765)\n",
      "Interval ends are:\n",
      "Max/Min Points:\n",
      "Max point: (1.0690449676496976, 14.966629547095765)\n",
      "Min point: (-1.0690449676496976, -14.966629547095765)\n"
     ]
    },
    {
     "data": {
      "image/png": "[encoded data removed]",
      "text/latex": [
       "$\\displaystyle \\left( 7 x + \\frac{8}{x}, \\  7 - \\frac{8}{x^{2}}\\right)$"
      ],
      "text/plain": [
       "⎛      8      8 ⎞\n",
       "⎜7⋅x + ─, 7 - ──⎟\n",
       "⎜      x       2⎟\n",
       "⎝             x ⎠"
      ]
     },
     "execution_count": 161,
     "metadata": {},
     "output_type": "execute_result"
    }
   ],
   "source": [
    "analyze_function(7*x +8*x**(- 1), x)"
   ]
  },
  {
   "cell_type": "code",
   "execution_count": 117,
   "id": "enhanced-third",
   "metadata": {},
   "outputs": [],
   "source": [
    "fig = plt.figure()\n",
    "ax = fig.add_subplot(1, 1, 1)\n",
    "xs = np.linspace(-5,5,100)\n",
    "\n",
    "plt.plot(xs, 4.5*xs + (1/xs)*22500 + 11250)\n",
    "plt.grid()\n",
    "plt.show()\n"
   ]
  },
  {
   "cell_type": "code",
   "execution_count": 121,
   "id": "strategic-click",
   "metadata": {},
   "outputs": [
    {
     "data": {
      "image/png": "[encoded data removed]",
      "text/latex": [
       "$\\displaystyle \\frac{7 x - 1}{- 10 x - 5}$"
      ],
      "text/plain": [
       " 7⋅x - 1 \n",
       "─────────\n",
       "-10⋅x - 5"
      ]
     },
     "execution_count": 121,
     "metadata": {},
     "output_type": "execute_result"
    }
   ],
   "source": [
    "expr = (7*x - 1)/(-10*x - 5)\n"
   ]
  },
  {
   "cell_type": "code",
   "execution_count": 134,
   "id": "supported-movie",
   "metadata": {},
   "outputs": [
    {
     "name": "stdout",
     "output_type": "stream",
     "text": [
      "limit as x approaches inf is: -1\n",
      "limit as x approaches 0 is: 3\n",
      "Critical numbers are: \n",
      "Critical points are:\n",
      "Interval ends are:\n"
     ]
    },
    {
     "data": {
      "image/png": "[encoded data removed]",
      "text/latex": [
       "$\\displaystyle \\left( \\frac{6 - 9 x}{9 x + 2}, \\  - \\frac{9 \\left(6 - 9 x\\right)}{\\left(9 x + 2\\right)^{2}} - \\frac{9}{9 x + 2}\\right)$"
      ],
      "text/plain": [
       "⎛6 - 9⋅x    9⋅(6 - 9⋅x)      9   ⎞\n",
       "⎜───────, - ─────────── - ───────⎟\n",
       "⎜9⋅x + 2              2   9⋅x + 2⎟\n",
       "⎝            (9⋅x + 2)           ⎠"
      ]
     },
     "execution_count": 134,
     "metadata": {},
     "output_type": "execute_result"
    }
   ],
   "source": [
    "analyze_function((-9*x + 6)/(9*x +2), x)"
   ]
  },
  {
   "cell_type": "code",
   "execution_count": 153,
   "id": "noble-rebecca",
   "metadata": {},
   "outputs": [
    {
     "data": {
      "image/png": "[encoded data removed]",
      "text/latex": [
       "$\\displaystyle 2 x + 8000 + \\frac{12000}{x}$"
      ],
      "text/plain": [
       "             12000\n",
       "2⋅x + 8000 + ─────\n",
       "               x  "
      ]
     },
     "execution_count": 153,
     "metadata": {},
     "output_type": "execute_result"
    }
   ],
   "source": [
    "expr = 2*x + 12000*x**-1 + 8000\n",
    "expr"
   ]
  },
  {
   "cell_type": "code",
   "execution_count": 163,
   "id": "junior-studio",
   "metadata": {},
   "outputs": [
    {
     "name": "stdout",
     "output_type": "stream",
     "text": [
      "------ Analysis for: {f} ------\n",
      "limit as x approaches inf is: oo\n",
      "limit as x approaches 0 is: oo\n",
      "Critical numbers are: -20*sqrt(15), 20*sqrt(15)\n",
      "Critical points are:\n",
      "(77.45966692414834, 8309.838667696593)\n",
      "Interval ends are:\n",
      "(1, 20002)\n",
      "(oo, oo)\n",
      "Max/Min Points:\n",
      "Max point: (inf, inf)\n",
      "Min point: (77.45966692414834, 8309.838667696593)\n"
     ]
    },
    {
     "data": {
      "image/png": "[encoded data removed]",
      "text/latex": [
       "$\\displaystyle \\left( 2 x + 8000 + \\frac{12000}{x}, \\  2 - \\frac{12000}{x^{2}}\\right)$"
      ],
      "text/plain": [
       "⎛             12000      12000⎞\n",
       "⎜2⋅x + 8000 + ─────, 2 - ─────⎟\n",
       "⎜               x           2 ⎟\n",
       "⎝                          x  ⎠"
      ]
     },
     "execution_count": 163,
     "metadata": {},
     "output_type": "execute_result"
    }
   ],
   "source": [
    "analyze_function(expr, x, interval=[1, oo])"
   ]
  },
  {
   "cell_type": "code",
   "execution_count": 157,
   "id": "swedish-environment",
   "metadata": {},
   "outputs": [
    {
     "data": {
      "image/png": "[encoded data removed]",
      "text/latex": [
       "$\\displaystyle 8309.84415584416$"
      ],
      "text/plain": [
       "8309.844155844155"
      ]
     },
     "execution_count": 157,
     "metadata": {},
     "output_type": "execute_result"
    }
   ],
   "source": [
    "float(expr.subs(x, 77))"
   ]
  },
  {
   "cell_type": "code",
   "execution_count": 144,
   "id": "horizontal-regulation",
   "metadata": {},
   "outputs": [
    {
     "data": {
      "image/png": "[encoded data removed]",
      "text/latex": [
       "$\\displaystyle \\left( -22.3606797749979, \\  22.3606797749979\\right)$"
      ],
      "text/plain": [
       "(-22.360679774997898, 22.360679774997898)"
      ]
     },
     "execution_count": 144,
     "metadata": {},
     "output_type": "execute_result"
    }
   ],
   "source": [
    "tuple(map(float, solve()))"
   ]
  },
  {
   "cell_type": "code",
   "execution_count": 164,
   "id": "informational-april",
   "metadata": {},
   "outputs": [
    {
     "data": {
      "image/png": "[encoded data removed]",
      "text/latex": [
       "$\\displaystyle \\frac{220 x}{\\left(x + 2\\right)^{2}}$"
      ],
      "text/plain": [
       " 220⋅x  \n",
       "────────\n",
       "       2\n",
       "(x + 2) "
      ]
     },
     "execution_count": 164,
     "metadata": {},
     "output_type": "execute_result"
    }
   ],
   "source": [
    "expr = 220*x / (x + 2)**2\n",
    "expr"
   ]
  },
  {
   "cell_type": "code",
   "execution_count": 182,
   "id": "southeast-powder",
   "metadata": {},
   "outputs": [
    {
     "name": "stdout",
     "output_type": "stream",
     "text": [
      "------ Analysis for: 220*x/(x + 2)**2 ------\n",
      "limit as x approaches inf is: 0\n",
      "limit as x approaches 0 is: 0\n",
      "Critical numbers are: 2\n",
      "Critical points are:\n",
      "Critical number (2.0, 27.5)\n",
      "Interval ends are:\n",
      "Max/Min Points:\n",
      "Max point: (inf, inf)\n",
      "Min point: (1.0, 24.444444444444443)\n"
     ]
    },
    {
     "data": {
      "image/png": "[encoded data removed]",
      "text/latex": [
       "$\\displaystyle \\left( \\frac{220 x}{\\left(x + 2\\right)^{2}}, \\  \\frac{220 \\left(2 - x\\right)}{\\left(x + 2\\right)^{3}}\\right)$"
      ],
      "text/plain": [
       "⎛ 220⋅x    220⋅(2 - x)⎞\n",
       "⎜────────, ───────────⎟\n",
       "⎜       2           3 ⎟\n",
       "⎝(x + 2)     (x + 2)  ⎠"
      ]
     },
     "execution_count": 182,
     "metadata": {},
     "output_type": "execute_result"
    }
   ],
   "source": [
    "analyze_function(expr, x, interval=[1, oo])"
   ]
  },
  {
   "cell_type": "code",
   "execution_count": 183,
   "id": "received-ordinance",
   "metadata": {},
   "outputs": [
    {
     "name": "stdout",
     "output_type": "stream",
     "text": [
      "------ Analysis for: 4*x**2 - 12*x + 235 ------\n",
      "limit as x approaches inf is: oo\n",
      "limit as x approaches 0 is: 235\n",
      "Critical numbers are: 3/2\n",
      "Critical points are:\n",
      "Critical number (1.5, 226.0)\n",
      "Interval ends are:\n",
      "Max/Min Points:\n",
      "Max point: (inf, inf)\n",
      "Min point: (1.5, 226.0)\n"
     ]
    },
    {
     "data": {
      "image/png": "[encoded data removed]",
      "text/latex": [
       "$\\displaystyle \\left( 4 x^{2} - 12 x + 235, \\  8 x - 12\\right)$"
      ],
      "text/plain": [
       "⎛   2                       ⎞\n",
       "⎝4⋅x  - 12⋅x + 235, 8⋅x - 12⎠"
      ]
     },
     "execution_count": 183,
     "metadata": {},
     "output_type": "execute_result"
    }
   ],
   "source": [
    "analyze_function(4*x**2 -12*x +235, x, interval=[1, oo])"
   ]
  }
 ],
 "metadata": {
  "kernelspec": {
   "display_name": "Python 3",
   "language": "python",
   "name": "python3"
  },
  "language_info": {
   "codemirror_mode": {
    "name": "ipython",
    "version": 3
   },
   "file_extension": ".py",
   "mimetype": "text/x-python",
   "name": "python",
   "nbconvert_exporter": "python",
   "pygments_lexer": "ipython3",
   "version": "3.9.1"
  }
 },
 "nbformat": 4,
 "nbformat_minor": 5
}
