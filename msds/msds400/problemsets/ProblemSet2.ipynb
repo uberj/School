{
 "cells": [
  {
   "cell_type": "code",
   "execution_count": 2,
   "id": "flush-balance",
   "metadata": {},
   "outputs": [],
   "source": [
    "import sympy as sym\n",
    "\n",
    "sym.init_printing()\n",
    "\n",
    "x, y = sym.symbols(\"x, y\")\n",
    "\n",
    "\n",
    "solns = sym.solve(\n",
    "        [-7*x + 5*y + 41,\n",
    "         -2*x - 6*y + 40]\n",
    ", [x, y])\n"
   ]
  },
  {
   "cell_type": "code",
   "execution_count": 3,
   "id": "expanded-monday",
   "metadata": {},
   "outputs": [
    {
     "data": {
      "text/latex": [
       "$\\displaystyle \\left\\{ x : \\frac{223}{26}, \\  y : \\frac{99}{26}\\right\\}$"
      ],
      "text/plain": [
       "⎧   223     99⎫\n",
       "⎨x: ───, y: ──⎬\n",
       "⎩    26     26⎭"
      ]
     },
     "execution_count": 3,
     "metadata": {},
     "output_type": "execute_result"
    }
   ],
   "source": [
    "solns"
   ]
  },
  {
   "cell_type": "code",
   "execution_count": 8,
   "id": "understood-infrastructure",
   "metadata": {},
   "outputs": [
    {
     "data": {
      "text/latex": [
       "$\\displaystyle \\left\\{ x : 1, \\  y : -4\\right\\}$"
      ],
      "text/plain": [
       "{x: 1, y: -4}"
      ]
     },
     "execution_count": 8,
     "metadata": {},
     "output_type": "execute_result"
    }
   ],
   "source": [
    "# Question 4\n",
    "x, y = sym.symbols(\"x, y\")\n",
    "sym.solve(\n",
    "        [-5*x + 6*y + 29,\n",
    "         -2*x - 4*y - 14]\n",
    ", [x, y])"
   ]
  },
  {
   "cell_type": "code",
   "execution_count": 12,
   "id": "regular-benchmark",
   "metadata": {},
   "outputs": [
    {
     "data": {
      "text/latex": [
       "$\\displaystyle \\left\\{ x : 658.0, \\  y : 678.0\\right\\}$"
      ],
      "text/plain": [
       "{x: 658.0, y: 678.0}"
      ]
     },
     "execution_count": 12,
     "metadata": {},
     "output_type": "execute_result"
    }
   ],
   "source": [
    "# Question 5\n",
    "x, y = sym.symbols(\"x, y\")\n",
    "sym.solve(\n",
    "        [x*3.1 + y*2.5 - 3734.8,\n",
    "         x + y - 1336]\n",
    ", [x, y])"
   ]
  },
  {
   "cell_type": "code",
   "execution_count": 15,
   "id": "neutral-reverse",
   "metadata": {},
   "outputs": [
    {
     "data": {
      "text/latex": [
       "$\\displaystyle \\left\\{ b : 3, \\  t : 1\\right\\}$"
      ],
      "text/plain": [
       "{b: 3, t: 1}"
      ]
     },
     "execution_count": 15,
     "metadata": {},
     "output_type": "execute_result"
    }
   ],
   "source": [
    "# Question 6\n",
    "t, b = sym.symbols(\"t, b\")\n",
    "sym.solve([\n",
    "    t + b - 4,\n",
    "    150* t + 350*b - 1200\n",
    "]\n",
    ", [t, b])"
   ]
  },
  {
   "cell_type": "code",
   "execution_count": 17,
   "id": "lyric-audit",
   "metadata": {},
   "outputs": [
    {
     "data": {
      "text/latex": [
       "$\\displaystyle \\left\\{ L : 16.5, \\  S : 7.0\\right\\}$"
      ],
      "text/plain": [
       "{L: 16.5, S: 7.0}"
      ]
     },
     "execution_count": 17,
     "metadata": {},
     "output_type": "execute_result"
    }
   ],
   "source": [
    "# Question 7\n",
    "S, L = sym.symbols(\"S, L\")\n",
    "sym.solve([\n",
    "    20*S + 19*L - 453.5,\n",
    "    17*S + 15*L - 366.5\n",
    "]\n",
    ", [S, L])"
   ]
  },
  {
   "cell_type": "code",
   "execution_count": 20,
   "id": "operational-background",
   "metadata": {},
   "outputs": [
    {
     "data": {
      "text/latex": [
       "$\\displaystyle \\left\\{ x : -1, \\  y : 0, \\  z : -2\\right\\}$"
      ],
      "text/plain": [
       "{x: -1, y: 0, z: -2}"
      ]
     },
     "execution_count": 20,
     "metadata": {},
     "output_type": "execute_result"
    }
   ],
   "source": [
    "# Question 8\n",
    "x,y,z = sym.symbols(\"x,y,z\")\n",
    "sym.solve([\n",
    "    x + -2* + z + 3,\n",
    "    y+2*z + 4,\n",
    "    x+y+3*z + 7\n",
    "]\n",
    ", [x,y,z])"
   ]
  },
  {
   "cell_type": "code",
   "execution_count": 56,
   "id": "modular-nebraska",
   "metadata": {},
   "outputs": [
    {
     "data": {
      "text/latex": [
       "$\\displaystyle \\left\\{ x : 70, \\  y : 35, \\  z : 29\\right\\}$"
      ],
      "text/plain": [
       "{x: 70, y: 35, z: 29}"
      ]
     },
     "execution_count": 56,
     "metadata": {},
     "output_type": "execute_result"
    }
   ],
   "source": [
    "# Question 9\n",
    "x,y,z = sym.symbols(\"x,y,z\")\n",
    "sym.solve([\n",
    "    x + y + z - 134,\n",
    "    670*x +987*y + 1198*z - 116187,\n",
    "    x - 2*y\n",
    "]\n",
    ", [x,y,z])\n",
    "# TODO"
   ]
  },
  {
   "cell_type": "code",
   "execution_count": 32,
   "id": "hollow-calculation",
   "metadata": {},
   "outputs": [
    {
     "data": {
      "text/plain": [
       "array([[40600., 34650.],\n",
       "       [ 8400.,  7350.]])"
      ]
     },
     "execution_count": 32,
     "metadata": {},
     "output_type": "execute_result"
    }
   ],
   "source": [
    "import numpy as np\n",
    "\n",
    "blends = np.array([\n",
    "    [.65, .60, .95], # Copper\n",
    "    [.35, .40, .05], # Zinc\n",
    "])\n",
    "\n",
    "plants = np.array([\n",
    "    [14000, 14000],\n",
    "    [5000, 3000],\n",
    "    [30000, 25000]\n",
    "])\n",
    "\n",
    "cost = np.array([\n",
    "    [4.34], # copper\n",
    "    [0.73] # zinc\n",
    "])\n",
    "\n",
    "np.dot(blends, plants)"
   ]
  },
  {
   "cell_type": "code",
   "execution_count": 33,
   "id": "surrounded-synthesis",
   "metadata": {},
   "outputs": [
    {
     "data": {
      "text/latex": [
       "$\\displaystyle 182336.0$"
      ],
      "text/plain": [
       "182336.0"
      ]
     },
     "execution_count": 33,
     "metadata": {},
     "output_type": "execute_result"
    }
   ],
   "source": [
    "40600*4.34 + 8400 * 0.73"
   ]
  },
  {
   "cell_type": "code",
   "execution_count": 34,
   "id": "armed-invite",
   "metadata": {},
   "outputs": [
    {
     "data": {
      "text/latex": [
       "$\\displaystyle 155746.5$"
      ],
      "text/plain": [
       "155746.5"
      ]
     },
     "execution_count": 34,
     "metadata": {},
     "output_type": "execute_result"
    }
   ],
   "source": [
    "34650*4.34 + 7350 * 0.73"
   ]
  },
  {
   "cell_type": "code",
   "execution_count": 36,
   "id": "bacterial-correction",
   "metadata": {},
   "outputs": [
    {
     "data": {
      "text/plain": [
       "array([[ 2210.,  1430.],\n",
       "       [ 2530.,  2090.],\n",
       "       [ 2970.,  3150.],\n",
       "       [11880., 12320.]])"
      ]
     },
     "execution_count": 36,
     "metadata": {},
     "output_type": "execute_result"
    }
   ],
   "source": [
    "# Question 11\n",
    "cars = np.array([\n",
    "    [17000, 11000],\n",
    "    [23000, 19000],\n",
    "    [33000, 35000],\n",
    "    [54000, 56000]\n",
    "])\n",
    "profits = np.array([\n",
    "    [0.13, 0, 0, 0],\n",
    "    [0, 0.11, 0, 0],\n",
    "    [0, 0, 0.09, 0],\n",
    "    [0, 0, 0, 0.22]\n",
    "])\n",
    "\n",
    "np.dot(profits, cars)"
   ]
  },
  {
   "cell_type": "code",
   "execution_count": 37,
   "id": "seventh-spice",
   "metadata": {},
   "outputs": [
    {
     "data": {
      "text/latex": [
       "$\\displaystyle 36960$"
      ],
      "text/plain": [
       "36960"
      ]
     },
     "execution_count": 37,
     "metadata": {},
     "output_type": "execute_result"
    }
   ],
   "source": [
    "12320 * 3"
   ]
  },
  {
   "cell_type": "code",
   "execution_count": 45,
   "id": "immune-taiwan",
   "metadata": {},
   "outputs": [
    {
     "name": "stdout",
     "output_type": "stream",
     "text": [
      "inverse is\n",
      "[[0.3 0.5]\n",
      " [0.1 0.5]]\n"
     ]
    },
    {
     "data": {
      "text/plain": [
       "array([ 0.1, -0.3])"
      ]
     },
     "execution_count": 45,
     "metadata": {},
     "output_type": "execute_result"
    }
   ],
   "source": [
    "# Question 12\n",
    "from scipy.linalg import inv\n",
    "\n",
    "m = [\n",
    "    [5, -5],\n",
    "    [-1, 3]\n",
    "]\n",
    "\n",
    "print(\"inverse is\")\n",
    "print(inv(m))\n",
    "\n",
    "y = np.array(\n",
    "    [2, -1]\n",
    ")\n",
    "# Mx = y\n",
    "# M-1 * M * x = M-1 * y\n",
    "# x = M-1 * y\n",
    "np.dot(inv(m), y)"
   ]
  },
  {
   "cell_type": "code",
   "execution_count": 48,
   "id": "metric-shopping",
   "metadata": {},
   "outputs": [
    {
     "data": {
      "text/latex": [
       "$\\displaystyle \\left\\{ p : 3, \\  r : 2, \\  t : 5\\right\\}$"
      ],
      "text/plain": [
       "{p: 3, r: 2, t: 5}"
      ]
     },
     "execution_count": 48,
     "metadata": {},
     "output_type": "execute_result"
    }
   ],
   "source": [
    "# Question 13\n",
    "r,t,p = sym.symbols(\"r,t,p\")\n",
    "sym.solve([\n",
    "    # Rice | Tofu | Pnts\n",
    "    49*r   + 4*t  +  33*p - 217, # Carbs\n",
    "    0*r    + 5*t  +  73*p - 244, # Fat\n",
    "    5*r    + 15*t +  28*p - 169, # Protien\n",
    "]\n",
    ", [r,t,p])"
   ]
  },
  {
   "cell_type": "code",
   "execution_count": 50,
   "id": "broadband-pollution",
   "metadata": {},
   "outputs": [
    {
     "name": "stdout",
     "output_type": "stream",
     "text": [
      "|D| =  13.999999999999996\n",
      "|D_x| =  41.999999999999986\n",
      "|D_y| =  -41.999999999999986\n",
      "x = |D_x|/|D| =  2.9999999999999996\n",
      "y = |D_y|/|D| =  -2.9999999999999996\n"
     ]
    }
   ],
   "source": [
    "# Question 14\n",
    "import numpy as np\n",
    "\n",
    "# y = [-6, 18]\n",
    "\n",
    "D = np.array([\n",
    "    [-4, -2],\n",
    "    [5, -1],\n",
    "]) # D\n",
    "\n",
    "Dx = np.array([\n",
    "    [-6, -2],\n",
    "    [18, -1],\n",
    "]) # D x\n",
    "\n",
    "Dy = np.array([\n",
    "    [-4, -6],\n",
    "    [5, 18],\n",
    "]) # D y\n",
    "\n",
    "\n",
    "print(\"|D| = \", np.linalg.det(D))\n",
    "print(\"|D_x| = \", np.linalg.det(Dx))\n",
    "print(\"|D_y| = \", np.linalg.det(Dy))\n",
    "print(\"x = |D_x|/|D| = \", np.linalg.det(Dx)/np.linalg.det(D))\n",
    "print(\"y = |D_y|/|D| = \", np.linalg.det(Dy)/np.linalg.det(D))\n"
   ]
  },
  {
   "cell_type": "code",
   "execution_count": 52,
   "id": "quick-queue",
   "metadata": {},
   "outputs": [
    {
     "name": "stdout",
     "output_type": "stream",
     "text": [
      "|D| =  17.99999999999999\n",
      "|D_x| =  0.0\n",
      "|D_y| =  90.0\n",
      "|D_z| =  -53.999999999999986\n",
      "x = |D_x|/|D| =  0.0\n",
      "y = |D_y|/|D| =  5.000000000000003\n",
      "z = |D_z|/|D| =  -3.000000000000001\n"
     ]
    }
   ],
   "source": [
    "# Question 15\n",
    "\n",
    "# y = [40, 18, -24]\n",
    "\n",
    "D = np.array([\n",
    "    [6, 5, -5],\n",
    "    [2, 3, -1],\n",
    "    [1, -6, -2],\n",
    "]) # D\n",
    "\n",
    "Dx = np.array([\n",
    "    [40, 5, -5],\n",
    "    [18, 3, -1],\n",
    "    [-24, -6, -2],\n",
    "]) # D x\n",
    "\n",
    "Dy = np.array([\n",
    "    [6, 40, -5],\n",
    "    [2, 18, -1],\n",
    "    [1, -24, -2],\n",
    "]) # D y\n",
    "\n",
    "Dz = np.array([\n",
    "    [6, 5, 40],\n",
    "    [2, 3, 18],\n",
    "    [1, -6, -24],\n",
    "]) # D z\n",
    "\n",
    "print(\"|D| = \", np.linalg.det(D))\n",
    "print(\"|D_x| = \", np.linalg.det(Dx))\n",
    "print(\"|D_y| = \", np.linalg.det(Dy))\n",
    "print(\"|D_z| = \", np.linalg.det(Dz))\n",
    "print(\"x = |D_x|/|D| = \", np.linalg.det(Dx)/np.linalg.det(D))\n",
    "print(\"y = |D_y|/|D| = \", np.linalg.det(Dy)/np.linalg.det(D))\n",
    "print(\"z = |D_z|/|D| = \", np.linalg.det(Dz)/np.linalg.det(D))"
   ]
  }
 ],
 "metadata": {
  "kernelspec": {
   "display_name": "Python 3",
   "language": "python",
   "name": "python3"
  },
  "language_info": {
   "codemirror_mode": {
    "name": "ipython",
    "version": 3
   },
   "file_extension": ".py",
   "mimetype": "text/x-python",
   "name": "python",
   "nbconvert_exporter": "python",
   "pygments_lexer": "ipython3",
   "version": "3.9.1"
  }
 },
 "nbformat": 4,
 "nbformat_minor": 5
}
