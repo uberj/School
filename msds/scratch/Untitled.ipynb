{
 "cells": [
  {
   "cell_type": "code",
   "execution_count": 1,
   "id": "posted-thong",
   "metadata": {},
   "outputs": [
    {
     "data": {
      "text/plain": [
       "67.5"
      ]
     },
     "execution_count": 1,
     "metadata": {},
     "output_type": "execute_result"
    }
   ],
   "source": [
    "45 + 45/2"
   ]
  },
  {
   "cell_type": "code",
   "execution_count": 25,
   "id": "double-queensland",
   "metadata": {},
   "outputs": [],
   "source": [
    "from sympy import *"
   ]
  },
  {
   "cell_type": "code",
   "execution_count": 10,
   "id": "duplicate-source",
   "metadata": {},
   "outputs": [],
   "source": [
    "\n",
    "from sympy.abc import *\n",
    "f45 = 1/sqrt(2) * x + 1/sqrt(2) * y\n",
    "f67 = cos(pi/4 + pi/8) * x + sin(pi/4 + pi/8) * y"
   ]
  },
  {
   "cell_type": "code",
   "execution_count": 8,
   "id": "motivated-helicopter",
   "metadata": {},
   "outputs": [
    {
     "data": {
      "text/latex": [
       "$\\displaystyle \\frac{\\sqrt{2} x}{2} + \\frac{\\sqrt{2} y}{2}$"
      ],
      "text/plain": [
       "sqrt(2)*x/2 + sqrt(2)*y/2"
      ]
     },
     "execution_count": 8,
     "metadata": {},
     "output_type": "execute_result"
    }
   ],
   "source": [
    "f45"
   ]
  },
  {
   "cell_type": "code",
   "execution_count": 11,
   "id": "thrown-penalty",
   "metadata": {},
   "outputs": [
    {
     "data": {
      "text/latex": [
       "$\\displaystyle x \\sqrt{\\frac{1}{2} - \\frac{\\sqrt{2}}{4}} + y \\sqrt{\\frac{\\sqrt{2}}{4} + \\frac{1}{2}}$"
      ],
      "text/plain": [
       "x*sqrt(1/2 - sqrt(2)/4) + y*sqrt(sqrt(2)/4 + 1/2)"
      ]
     },
     "execution_count": 11,
     "metadata": {},
     "output_type": "execute_result"
    }
   ],
   "source": [
    "f67"
   ]
  },
  {
   "cell_type": "code",
   "execution_count": 34,
   "id": "classical-american",
   "metadata": {},
   "outputs": [
    {
     "data": {
      "text/plain": [
       "0.46193976625564337"
      ]
     },
     "execution_count": 34,
     "metadata": {},
     "output_type": "execute_result"
    }
   ],
   "source": [
    "float(sin(pi/4 + pi/(4*2))) * 1/2"
   ]
  },
  {
   "cell_type": "code",
   "execution_count": 37,
   "id": "radical-sessions",
   "metadata": {},
   "outputs": [
    {
     "data": {
      "text/plain": [
       "0.7285533905932737"
      ]
     },
     "execution_count": 37,
     "metadata": {},
     "output_type": "execute_result"
    }
   ],
   "source": [
    "float(sin(pi/4 + pi/(4*2)))**2 * float(sin(pi/4 + pi/(4*2))) **2"
   ]
  },
  {
   "cell_type": "code",
   "execution_count": 31,
   "id": "beginning-least",
   "metadata": {},
   "outputs": [
    {
     "data": {
      "text/plain": [
       "67.5"
      ]
     },
     "execution_count": 31,
     "metadata": {},
     "output_type": "execute_result"
    }
   ],
   "source": [
    "from math import degrees\n",
    "degrees(pi/4 + pi/(4*2))"
   ]
  },
  {
   "cell_type": "code",
   "execution_count": 47,
   "id": "toxic-encyclopedia",
   "metadata": {},
   "outputs": [
    {
     "data": {
      "text/latex": [
       "$\\displaystyle 2 \\sin^{2}{\\left(\\frac{x}{2} + \\frac{\\pi}{4} \\right)}$"
      ],
      "text/plain": [
       "2*sin(x/2 + pi/4)**2"
      ]
     },
     "execution_count": 47,
     "metadata": {},
     "output_type": "execute_result"
    }
   ],
   "source": [
    "sin(pi/4 + x/2)**2 + cos(pi/4 - x/2)**2"
   ]
  },
  {
   "cell_type": "code",
   "execution_count": 51,
   "id": "following-favorite",
   "metadata": {},
   "outputs": [
    {
     "data": {
      "text/latex": [
       "$\\displaystyle \\cos^{2}{\\left(\\frac{x}{2} + \\frac{\\pi}{4} \\right)}$"
      ],
      "text/plain": [
       "cos(x/2 + pi/4)**2"
      ]
     },
     "execution_count": 51,
     "metadata": {},
     "output_type": "execute_result"
    }
   ],
   "source": [
    "sin(x/2 - pi/4)**2"
   ]
  }
 ],
 "metadata": {
  "kernelspec": {
   "display_name": "Python 3",
   "language": "python",
   "name": "python3"
  },
  "language_info": {
   "codemirror_mode": {
    "name": "ipython",
    "version": 3
   },
   "file_extension": ".py",
   "mimetype": "text/x-python",
   "name": "python",
   "nbconvert_exporter": "python",
   "pygments_lexer": "ipython3",
   "version": "3.9.1"
  }
 },
 "nbformat": 4,
 "nbformat_minor": 5
}
