{
 "cells": [
  {
   "cell_type": "code",
   "execution_count": 5,
   "id": "bibliographic-market",
   "metadata": {},
   "outputs": [
    {
     "name": "stdout",
     "output_type": "stream",
     "text": [
      "Matrix([[1], [0], [0]])\n",
      "Matrix([[0], [sqrt(2)/2], [sqrt(2)/2]])\n",
      "Matrix([[0], [-sqrt(2)/2], [sqrt(2)/2]])\n"
     ]
    }
   ],
   "source": [
    "# GS algorithm\n",
    "from sympy import *\n",
    "\n",
    "# def gram_schmidt(basis, inner_product=None, normalize_f=None):\n",
    "#     ortho_basis = [normalize_f(basis[0])]\n",
    "#     for v in basis[1:]:\n",
    "#         e_i = v\n",
    "#         for e in ortho_basis:\n",
    "#             e_i -= (v - inner_product(v,e) * e)\n",
    "#         ortho_basis.append(e_i/normalize_f(e_i))\n",
    "#     return ortho_basis\n",
    "\n",
    "L = [Matrix([1, 0, 0]), Matrix([1,1,1]), Matrix([1,1,2])]\n",
    "out1 = Matrix.orthogonalize(*L, normalize=True)\n",
    "for v in out1:\n",
    "    print(v)"
   ]
  },
  {
   "cell_type": "code",
   "execution_count": 23,
   "id": "nasty-adolescent",
   "metadata": {},
   "outputs": [
    {
     "data": {
      "text/plain": [
       "1"
      ]
     },
     "execution_count": 23,
     "metadata": {},
     "output_type": "execute_result"
    }
   ],
   "source": [
    "import operator\n",
    "v1, v2 = (1, 0, 0), (1, 1, 1)\n",
    "sum(map(lambda a: operator.mul(a[0], a[1]), [*zip(v1, v2)]))\n"
   ]
  },
  {
   "cell_type": "code",
   "execution_count": 21,
   "id": "surrounded-dimension",
   "metadata": {},
   "outputs": [
    {
     "data": {
      "text/plain": [
       "[(1, 1), (0, 1), (0, 1)]"
      ]
     },
     "execution_count": 21,
     "metadata": {},
     "output_type": "execute_result"
    }
   ],
   "source": [
    "list([*zip(v1, v2)])"
   ]
  },
  {
   "cell_type": "code",
   "execution_count": 38,
   "id": "raising-venue",
   "metadata": {},
   "outputs": [
    {
     "ename": "NameError",
     "evalue": "name 'vector' is not defined",
     "output_type": "error",
     "traceback": [
      "\u001b[0;31m---------------------------------------------------------------------------\u001b[0m",
      "\u001b[0;31mNameError\u001b[0m                                 Traceback (most recent call last)",
      "\u001b[0;32m<ipython-input-38-3b583b522e5a>\u001b[0m in \u001b[0;36m<module>\u001b[0;34m\u001b[0m\n\u001b[0;32m----> 1\u001b[0;31m \u001b[0mvector\u001b[0m\u001b[0;34m\u001b[0m\u001b[0;34m\u001b[0m\u001b[0m\n\u001b[0m",
      "\u001b[0;31mNameError\u001b[0m: name 'vector' is not defined"
     ]
    }
   ],
   "source": [
    "vector"
   ]
  }
 ],
 "metadata": {
  "kernelspec": {
   "display_name": "Python 3",
   "language": "python",
   "name": "python3"
  },
  "language_info": {
   "codemirror_mode": {
    "name": "ipython",
    "version": 3
   },
   "file_extension": ".py",
   "mimetype": "text/x-python",
   "name": "python",
   "nbconvert_exporter": "python",
   "pygments_lexer": "ipython3",
   "version": "3.9.1"
  }
 },
 "nbformat": 4,
 "nbformat_minor": 5
}
